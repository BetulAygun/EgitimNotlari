{
 "cells": [
  {
   "cell_type": "code",
   "execution_count": 12,
   "id": "3bd1dcd7",
   "metadata": {
    "scrolled": true
   },
   "outputs": [],
   "source": [
    "#numpy -- Matematiksel işlemler\n",
    "#Seriler ve DataFrameler - veri tipleri\n",
    "import pandas as pd\n",
    "import numpy as np\n",
    "\n"
   ]
  },
  {
   "cell_type": "code",
   "execution_count": 73,
   "id": "c73fc705",
   "metadata": {},
   "outputs": [],
   "source": [
    "veri_pokemon = pd.read_csv(r\"C:\\Users\\Betul\\Desktop\\VeriMadenciligi\\pokemon.csv\", usecols=[\"Name\", \"Attack\"], \n",
    "                           index_col= [\"Name\"],  squeeze=True)"
   ]
  },
  {
   "cell_type": "code",
   "execution_count": 74,
   "id": "00f8bc78",
   "metadata": {},
   "outputs": [
    {
     "data": {
      "text/plain": [
       "Name\n",
       "Bulbasaur                 49\n",
       "Ivysaur                   62\n",
       "Venusaur                  82\n",
       "VenusaurMega Venusaur    100\n",
       "Charmander                52\n",
       "                        ... \n",
       "Diancie                  100\n",
       "DiancieMega Diancie      160\n",
       "HoopaHoopa Confined      110\n",
       "HoopaHoopa Unbound       160\n",
       "Volcanion                110\n",
       "Name: Attack, Length: 800, dtype: int64"
      ]
     },
     "execution_count": 74,
     "metadata": {},
     "output_type": "execute_result"
    }
   ],
   "source": [
    "type(veri_pokemon)\n",
    "veri_pokemon"
   ]
  },
  {
   "cell_type": "code",
   "execution_count": 81,
   "id": "4c876bad",
   "metadata": {},
   "outputs": [],
   "source": [
    "veri_pokemon = veri_pokemon.sort_values(ascending=False)"
   ]
  },
  {
   "cell_type": "code",
   "execution_count": 118,
   "id": "143f0e89",
   "metadata": {},
   "outputs": [],
   "source": [
    "medyan = veri_pokemon.median()\n",
    "ortalama = veri_pokemon.mean()\n",
    "toplam = veri_pokemon.sum()"
   ]
  },
  {
   "cell_type": "code",
   "execution_count": 126,
   "id": "db4c279d",
   "metadata": {},
   "outputs": [
    {
     "data": {
      "text/plain": [
       "5"
      ]
     },
     "execution_count": 126,
     "metadata": {},
     "output_type": "execute_result"
    }
   ],
   "source": [
    "mod = veri_pokemon.mode()\n",
    "veri_pokemon.idxmin()\n",
    "veri_pokemon['Chansey']"
   ]
  },
  {
   "cell_type": "code",
   "execution_count": null,
   "id": "6940fbfc",
   "metadata": {},
   "outputs": [],
   "source": []
  },
  {
   "cell_type": "code",
   "execution_count": 106,
   "id": "636356c9",
   "metadata": {},
   "outputs": [],
   "source": [
    "yeni_veri = veri_pokemon[:100]"
   ]
  },
  {
   "cell_type": "code",
   "execution_count": 127,
   "id": "82738e21",
   "metadata": {},
   "outputs": [],
   "source": [
    "yeni_veri.to_csv(\"deneme.csv\")"
   ]
  },
  {
   "cell_type": "code",
   "execution_count": 129,
   "id": "610562a6",
   "metadata": {},
   "outputs": [],
   "source": [
    "pokemon_Turler = pd.read_csv(r\"C:\\Users\\Betul\\Desktop\\VeriMadenciligi\\pokemon.csv\", usecols=[\"Name\", \"Type 1\"], \n",
    "                           index_col= [\"Name\"],  squeeze=True)"
   ]
  },
  {
   "cell_type": "code",
   "execution_count": 133,
   "id": "f1719659",
   "metadata": {
    "collapsed": true
   },
   "outputs": [
    {
     "data": {
      "text/plain": [
       "Flying        4\n",
       "Fairy        17\n",
       "Ice          24\n",
       "Steel        27\n",
       "Fighting     27\n",
       "Poison       28\n",
       "Dark         31\n",
       "Ground       32\n",
       "Ghost        32\n",
       "Dragon       32\n",
       "Electric     44\n",
       "Rock         44\n",
       "Fire         52\n",
       "Psychic      57\n",
       "Bug          69\n",
       "Grass        70\n",
       "Normal       98\n",
       "Water       112\n",
       "Name: Type 1, dtype: int64"
      ]
     },
     "execution_count": 133,
     "metadata": {},
     "output_type": "execute_result"
    }
   ],
   "source": [
    "pokemon_Turler.value_counts(ascending = True)"
   ]
  },
  {
   "cell_type": "code",
   "execution_count": 136,
   "id": "9add960f",
   "metadata": {},
   "outputs": [
    {
     "data": {
      "text/plain": [
       "Name\n",
       "MewtwoMega Mewtwo X        190\n",
       "HeracrossMega Heracross    185\n",
       "Name: Attack, dtype: int64"
      ]
     },
     "execution_count": 136,
     "metadata": {},
     "output_type": "execute_result"
    }
   ],
   "source": [
    "veri_pokemon.head(2)"
   ]
  },
  {
   "cell_type": "code",
   "execution_count": 135,
   "id": "11326be6",
   "metadata": {},
   "outputs": [],
   "source": [
    "def kategoriklestirme(atak):\n",
    "    if atak < 100:\n",
    "        return \"Az Güçlü\"\n",
    "    else:\n",
    "        return \"Güçlü\"\n",
    "    "
   ]
  },
  {
   "cell_type": "code",
   "execution_count": 140,
   "id": "97064c70",
   "metadata": {},
   "outputs": [],
   "source": [
    "veri_pokemon = veri_pokemon.apply(kategoriklestirme)"
   ]
  },
  {
   "cell_type": "code",
   "execution_count": 142,
   "id": "f3022ef3",
   "metadata": {},
   "outputs": [
    {
     "data": {
      "text/plain": [
       "Name\n",
       "MewtwoMega Mewtwo X           Güçlü\n",
       "HeracrossMega Heracross       Güçlü\n",
       "GroudonPrimal Groudon         Güçlü\n",
       "RayquazaMega Rayquaza         Güçlü\n",
       "DeoxysAttack Forme            Güçlü\n",
       "                             ...   \n",
       "Magikarp                   Az Güçlü\n",
       "Shuckle                    Az Güçlü\n",
       "Blissey                    Az Güçlü\n",
       "Chansey                    Az Güçlü\n",
       "Happiny                    Az Güçlü\n",
       "Name: Attack, Length: 800, dtype: object"
      ]
     },
     "execution_count": 142,
     "metadata": {},
     "output_type": "execute_result"
    }
   ],
   "source": [
    "veri_pokemon"
   ]
  },
  {
   "cell_type": "code",
   "execution_count": 143,
   "id": "a7665f53",
   "metadata": {},
   "outputs": [
    {
     "data": {
      "text/plain": [
       "Name\n",
       "Bulbasaur                  Grass\n",
       "Ivysaur                    Grass\n",
       "Venusaur                   Grass\n",
       "VenusaurMega Venusaur      Grass\n",
       "Charmander                  Fire\n",
       "                          ...   \n",
       "Diancie                     Rock\n",
       "DiancieMega Diancie         Rock\n",
       "HoopaHoopa Confined      Psychic\n",
       "HoopaHoopa Unbound       Psychic\n",
       "Volcanion                   Fire\n",
       "Name: Type 1, Length: 800, dtype: object"
      ]
     },
     "execution_count": 143,
     "metadata": {},
     "output_type": "execute_result"
    }
   ],
   "source": []
  }
 ],
 "metadata": {
  "kernelspec": {
   "display_name": "Python 3 (ipykernel)",
   "language": "python",
   "name": "python3"
  },
  "language_info": {
   "codemirror_mode": {
    "name": "ipython",
    "version": 3
   },
   "file_extension": ".py",
   "mimetype": "text/x-python",
   "name": "python",
   "nbconvert_exporter": "python",
   "pygments_lexer": "ipython3",
   "version": "3.9.9"
  }
 },
 "nbformat": 4,
 "nbformat_minor": 5
}
