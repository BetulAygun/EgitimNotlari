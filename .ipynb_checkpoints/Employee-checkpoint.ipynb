{
 "cells": [
  {
   "cell_type": "code",
   "execution_count": 1,
   "id": "8e8bd1ec",
   "metadata": {},
   "outputs": [],
   "source": [
    "import pandas as pd\n",
    "import numpy as np\n",
    "import matplotlib.pyplot as plt\n",
    "import seaborn as sns\n",
    "from sklearn.linear_model import LogisticRegression, LinearRegression\n",
    "from sklearn.tree import DecisionTreeClassifier, DecisionTreeRegressor\n",
    "from sklearn.svm import SVC, SVR\n",
    "from sklearn.ensemble import RandomForestClassifier, RandomForestRegressor\n",
    "from sklearn.neural_network import MLPClassifier, MLPRegressor\n",
    "from sklearn import preprocessing\n",
    "from sklearn import metrics\n",
    "from sklearn.feature_selection import RFE\n",
    "from sklearn.impute import SimpleImputer \n",
    "from sklearn.cluster import KMeans, AgglomerativeClustering, DBSCAN\n",
    "from sklearn.model_selection import train_test_split"
   ]
  },
  {
   "cell_type": "code",
   "execution_count": 3,
   "id": "f5b01505",
   "metadata": {},
   "outputs": [
    {
     "name": "stdout",
     "output_type": "stream",
     "text": [
      "<class 'pandas.core.frame.DataFrame'>\n",
      "RangeIndex: 1000 entries, 0 to 999\n",
      "Data columns (total 8 columns):\n",
      " #   Column             Non-Null Count  Dtype  \n",
      "---  ------             --------------  -----  \n",
      " 0   First Name         933 non-null    object \n",
      " 1   Gender             855 non-null    object \n",
      " 2   Start Date         1000 non-null   object \n",
      " 3   Last Login Time    1000 non-null   object \n",
      " 4   Salary             1000 non-null   int64  \n",
      " 5   Bonus %            1000 non-null   float64\n",
      " 6   Senior Management  933 non-null    object \n",
      " 7   Team               957 non-null    object \n",
      "dtypes: float64(1), int64(1), object(6)\n",
      "memory usage: 62.6+ KB\n"
     ]
    }
   ],
   "source": [
    "df = pd.read_csv(\"employee.csv\")\n",
    "df.head()\n",
    "df.info()"
   ]
  },
  {
   "cell_type": "code",
   "execution_count": 4,
   "id": "85e89cd7",
   "metadata": {},
   "outputs": [],
   "source": [
    "df[\"Start Date\"] = pd.to_datetime(df[\"Start Date\"], format=\"%m/%d/%Y\")"
   ]
  },
  {
   "cell_type": "code",
   "execution_count": 5,
   "id": "74f7ebef",
   "metadata": {},
   "outputs": [
    {
     "name": "stdout",
     "output_type": "stream",
     "text": [
      "<class 'pandas.core.frame.DataFrame'>\n",
      "RangeIndex: 1000 entries, 0 to 999\n",
      "Data columns (total 8 columns):\n",
      " #   Column             Non-Null Count  Dtype         \n",
      "---  ------             --------------  -----         \n",
      " 0   First Name         933 non-null    object        \n",
      " 1   Gender             855 non-null    object        \n",
      " 2   Start Date         1000 non-null   datetime64[ns]\n",
      " 3   Last Login Time    1000 non-null   object        \n",
      " 4   Salary             1000 non-null   int64         \n",
      " 5   Bonus %            1000 non-null   float64       \n",
      " 6   Senior Management  933 non-null    object        \n",
      " 7   Team               957 non-null    object        \n",
      "dtypes: datetime64[ns](1), float64(1), int64(1), object(5)\n",
      "memory usage: 62.6+ KB\n"
     ]
    },
    {
     "data": {
      "text/plain": [
       "Female    431\n",
       "Male      424\n",
       "Name: Gender, dtype: int64"
      ]
     },
     "execution_count": 5,
     "metadata": {},
     "output_type": "execute_result"
    }
   ],
   "source": [
    "df.info()\n",
    "df[\"Gender\"].value_counts()"
   ]
  },
  {
   "cell_type": "code",
   "execution_count": 6,
   "id": "6b96cad2",
   "metadata": {},
   "outputs": [],
   "source": [
    "df.dropna(subset=[\"Gender\"], inplace=True)"
   ]
  },
  {
   "cell_type": "code",
   "execution_count": 7,
   "id": "660c47c6",
   "metadata": {},
   "outputs": [
    {
     "name": "stdout",
     "output_type": "stream",
     "text": [
      "<class 'pandas.core.frame.DataFrame'>\n",
      "Int64Index: 855 entries, 0 to 999\n",
      "Data columns (total 8 columns):\n",
      " #   Column             Non-Null Count  Dtype         \n",
      "---  ------             --------------  -----         \n",
      " 0   First Name         795 non-null    object        \n",
      " 1   Gender             855 non-null    object        \n",
      " 2   Start Date         855 non-null    datetime64[ns]\n",
      " 3   Last Login Time    855 non-null    object        \n",
      " 4   Salary             855 non-null    int64         \n",
      " 5   Bonus %            855 non-null    float64       \n",
      " 6   Senior Management  795 non-null    object        \n",
      " 7   Team               816 non-null    object        \n",
      "dtypes: datetime64[ns](1), float64(1), int64(1), object(5)\n",
      "memory usage: 60.1+ KB\n"
     ]
    }
   ],
   "source": [
    "df.info()"
   ]
  },
  {
   "cell_type": "code",
   "execution_count": 8,
   "id": "2836b6bc",
   "metadata": {},
   "outputs": [],
   "source": [
    "simple = SimpleImputer(strategy=\"most_frequent\")"
   ]
  },
  {
   "cell_type": "code",
   "execution_count": 9,
   "id": "d57b6087",
   "metadata": {},
   "outputs": [],
   "source": [
    "simple.fit(df[[\"Senior Management\"]])\n",
    "df[[\"Senior Management\"]] = simple.transform(df[[\"Senior Management\"]])"
   ]
  },
  {
   "cell_type": "code",
   "execution_count": 10,
   "id": "6330be31",
   "metadata": {},
   "outputs": [],
   "source": [
    "simple.fit(df[[\"Team\"]])\n",
    "df[[\"Team\"]] = simple.transform(df[[\"Team\"]])"
   ]
  },
  {
   "cell_type": "code",
   "execution_count": 11,
   "id": "7657386e",
   "metadata": {},
   "outputs": [],
   "source": [
    "df.set_index(keys = \"Start Date\", inplace=True)"
   ]
  },
  {
   "cell_type": "code",
   "execution_count": 12,
   "id": "95802864",
   "metadata": {},
   "outputs": [],
   "source": [
    "df.rename(mapper = {\"Gender\": \"Cinsiyet\", \"Salary\":\"Maaş\", \"Bonus %\": \"Bonus\", \"Senior Management\": \"Yönetici\", \"Team\": \"Takım\"}, axis=1, inplace=True)"
   ]
  },
  {
   "cell_type": "code",
   "execution_count": 12,
   "id": "87b54919",
   "metadata": {},
   "outputs": [
    {
     "data": {
      "text/html": [
       "<div>\n",
       "<style scoped>\n",
       "    .dataframe tbody tr th:only-of-type {\n",
       "        vertical-align: middle;\n",
       "    }\n",
       "\n",
       "    .dataframe tbody tr th {\n",
       "        vertical-align: top;\n",
       "    }\n",
       "\n",
       "    .dataframe thead th {\n",
       "        text-align: right;\n",
       "    }\n",
       "</style>\n",
       "<table border=\"1\" class=\"dataframe\">\n",
       "  <thead>\n",
       "    <tr style=\"text-align: right;\">\n",
       "      <th></th>\n",
       "      <th>First Name</th>\n",
       "      <th>Cinsiyet</th>\n",
       "      <th>Last Login Time</th>\n",
       "      <th>Maaş</th>\n",
       "      <th>Bonus</th>\n",
       "      <th>Yönetici</th>\n",
       "      <th>Takım</th>\n",
       "    </tr>\n",
       "    <tr>\n",
       "      <th>Start Date</th>\n",
       "      <th></th>\n",
       "      <th></th>\n",
       "      <th></th>\n",
       "      <th></th>\n",
       "      <th></th>\n",
       "      <th></th>\n",
       "      <th></th>\n",
       "    </tr>\n",
       "  </thead>\n",
       "  <tbody>\n",
       "    <tr>\n",
       "      <th>1993-08-06</th>\n",
       "      <td>Douglas</td>\n",
       "      <td>Male</td>\n",
       "      <td>12:42 PM</td>\n",
       "      <td>97308</td>\n",
       "      <td>6.945</td>\n",
       "      <td>True</td>\n",
       "      <td>Marketing</td>\n",
       "    </tr>\n",
       "    <tr>\n",
       "      <th>1996-03-31</th>\n",
       "      <td>Thomas</td>\n",
       "      <td>Male</td>\n",
       "      <td>6:53 AM</td>\n",
       "      <td>61933</td>\n",
       "      <td>4.170</td>\n",
       "      <td>True</td>\n",
       "      <td>Business Development</td>\n",
       "    </tr>\n",
       "    <tr>\n",
       "      <th>1993-04-23</th>\n",
       "      <td>Maria</td>\n",
       "      <td>Female</td>\n",
       "      <td>11:17 AM</td>\n",
       "      <td>130590</td>\n",
       "      <td>11.858</td>\n",
       "      <td>False</td>\n",
       "      <td>Finance</td>\n",
       "    </tr>\n",
       "    <tr>\n",
       "      <th>2005-03-04</th>\n",
       "      <td>Jerry</td>\n",
       "      <td>Male</td>\n",
       "      <td>1:00 PM</td>\n",
       "      <td>138705</td>\n",
       "      <td>9.340</td>\n",
       "      <td>True</td>\n",
       "      <td>Finance</td>\n",
       "    </tr>\n",
       "    <tr>\n",
       "      <th>1998-01-24</th>\n",
       "      <td>Larry</td>\n",
       "      <td>Male</td>\n",
       "      <td>4:47 PM</td>\n",
       "      <td>101004</td>\n",
       "      <td>1.389</td>\n",
       "      <td>True</td>\n",
       "      <td>Client Services</td>\n",
       "    </tr>\n",
       "  </tbody>\n",
       "</table>\n",
       "</div>"
      ],
      "text/plain": [
       "           First Name Cinsiyet Last Login Time    Maaş   Bonus Yönetici  \\\n",
       "Start Date                                                                \n",
       "1993-08-06    Douglas     Male        12:42 PM   97308   6.945     True   \n",
       "1996-03-31     Thomas     Male         6:53 AM   61933   4.170     True   \n",
       "1993-04-23      Maria   Female        11:17 AM  130590  11.858    False   \n",
       "2005-03-04      Jerry     Male         1:00 PM  138705   9.340     True   \n",
       "1998-01-24      Larry     Male         4:47 PM  101004   1.389     True   \n",
       "\n",
       "                           Takım  \n",
       "Start Date                        \n",
       "1993-08-06             Marketing  \n",
       "1996-03-31  Business Development  \n",
       "1993-04-23               Finance  \n",
       "2005-03-04               Finance  \n",
       "1998-01-24       Client Services  "
      ]
     },
     "execution_count": 12,
     "metadata": {},
     "output_type": "execute_result"
    }
   ],
   "source": [
    "df.head()"
   ]
  },
  {
   "cell_type": "code",
   "execution_count": 13,
   "id": "bdc91f61",
   "metadata": {},
   "outputs": [
    {
     "data": {
      "text/plain": [
       "array([[<AxesSubplot:title={'center':'Maaş'}>,\n",
       "        <AxesSubplot:title={'center':'Bonus'}>]], dtype=object)"
      ]
     },
     "execution_count": 13,
     "metadata": {},
     "output_type": "execute_result"
    },
    {
     "data": {
      "image/png": "[encoded data removed]",
      "text/plain": [
       "<Figure size 432x288 with 2 Axes>"
      ]
     },
     "metadata": {
      "needs_background": "light"
     },
     "output_type": "display_data"
    }
   ],
   "source": [
    "df.hist()"
   ]
  },
  {
   "cell_type": "code",
   "execution_count": 14,
   "id": "0db60976",
   "metadata": {},
   "outputs": [
    {
     "data": {
      "text/plain": [
       "<AxesSubplot:>"
      ]
     },
     "execution_count": 14,
     "metadata": {},
     "output_type": "execute_result"
    },
    {
     "data": {
      "image/png": "[encoded data removed]",
      "text/plain": [
       "<Figure size 432x288 with 1 Axes>"
      ]
     },
     "metadata": {
      "needs_background": "light"
     },
     "output_type": "display_data"
    }
   ],
   "source": [
    "df[[\"Bonus\"]].boxplot()\n"
   ]
  },
  {
   "cell_type": "code",
   "execution_count": 15,
   "id": "aef63def",
   "metadata": {},
   "outputs": [
    {
     "data": {
      "text/plain": [
       "<AxesSubplot:>"
      ]
     },
     "execution_count": 15,
     "metadata": {},
     "output_type": "execute_result"
    },
    {
     "data": {
      "image/png": "[encoded data removed]",
      "text/plain": [
       "<Figure size 432x288 with 1 Axes>"
      ]
     },
     "metadata": {
      "needs_background": "light"
     },
     "output_type": "display_data"
    }
   ],
   "source": [
    "\n",
    "df[[\"Maaş\"]].boxplot()"
   ]
  },
  {
   "cell_type": "code",
   "execution_count": 14,
   "id": "2caaa4e6",
   "metadata": {},
   "outputs": [],
   "source": [
    "scale = preprocessing.StandardScaler()\n",
    "scale.fit(df[[\"Maaş\"]])\n",
    "df[[\"Maaş\"]] = scale.transform(df[[\"Maaş\"]])"
   ]
  },
  {
   "cell_type": "code",
   "execution_count": 15,
   "id": "c502e74b",
   "metadata": {},
   "outputs": [],
   "source": [
    "scale.fit(df[[\"Bonus\"]])\n",
    "df[[\"Bonus\"]] = scale.transform(df[[\"Bonus\"]])"
   ]
  },
  {
   "cell_type": "code",
   "execution_count": 16,
   "id": "ed1d57a7",
   "metadata": {},
   "outputs": [
    {
     "data": {
      "text/plain": [
       "<AxesSubplot:xlabel='Start Date'>"
      ]
     },
     "execution_count": 16,
     "metadata": {},
     "output_type": "execute_result"
    },
    {
     "data": {
      "image/png": "[encoded data removed]",
      "text/plain": [
       "<Figure size 432x288 with 1 Axes>"
      ]
     },
     "metadata": {
      "needs_background": "light"
     },
     "output_type": "display_data"
    }
   ],
   "source": [
    "df.sort_index()[[\"Bonus\"]].plot()"
   ]
  },
  {
   "cell_type": "code",
   "execution_count": 40,
   "id": "aa3908ec",
   "metadata": {},
   "outputs": [
    {
     "data": {
      "text/plain": [
       "<BarContainer object of 10 artists>"
      ]
     },
     "execution_count": 40,
     "metadata": {},
     "output_type": "execute_result"
    },
    {
     "data": {
      "image/png": "[encoded data removed]",
      "text/plain": [
       "<Figure size 432x288 with 1 Axes>"
      ]
     },
     "metadata": {
      "needs_background": "light"
     },
     "output_type": "display_data"
    }
   ],
   "source": []
  },
  {
   "cell_type": "code",
   "execution_count": 20,
   "id": "62b30eda",
   "metadata": {},
   "outputs": [
    {
     "name": "stdout",
     "output_type": "stream",
     "text": [
      "<class 'pandas.core.frame.DataFrame'>\n",
      "DatetimeIndex: 855 entries, 1993-08-06 to 2012-05-15\n",
      "Data columns (total 7 columns):\n",
      " #   Column           Non-Null Count  Dtype  \n",
      "---  ------           --------------  -----  \n",
      " 0   First Name       795 non-null    object \n",
      " 1   Cinsiyet         855 non-null    object \n",
      " 2   Last Login Time  855 non-null    object \n",
      " 3   Maaş             855 non-null    float64\n",
      " 4   Bonus            855 non-null    float64\n",
      " 5   Yönetici         855 non-null    object \n",
      " 6   Takım            855 non-null    object \n",
      "dtypes: float64(2), object(5)\n",
      "memory usage: 53.4+ KB\n"
     ]
    }
   ],
   "source": [
    "\n",
    "df.info()"
   ]
  },
  {
   "cell_type": "code",
   "execution_count": 41,
   "id": "a786570c",
   "metadata": {},
   "outputs": [
    {
     "data": {
      "text/html": [
       "<div>\n",
       "<style scoped>\n",
       "    .dataframe tbody tr th:only-of-type {\n",
       "        vertical-align: middle;\n",
       "    }\n",
       "\n",
       "    .dataframe tbody tr th {\n",
       "        vertical-align: top;\n",
       "    }\n",
       "\n",
       "    .dataframe thead th {\n",
       "        text-align: right;\n",
       "    }\n",
       "</style>\n",
       "<table border=\"1\" class=\"dataframe\">\n",
       "  <thead>\n",
       "    <tr style=\"text-align: right;\">\n",
       "      <th></th>\n",
       "      <th>First Name</th>\n",
       "      <th>Cinsiyet</th>\n",
       "      <th>Last Login Time</th>\n",
       "      <th>Maaş</th>\n",
       "      <th>Bonus</th>\n",
       "      <th>Yönetici</th>\n",
       "      <th>Takım</th>\n",
       "    </tr>\n",
       "    <tr>\n",
       "      <th>Start Date</th>\n",
       "      <th></th>\n",
       "      <th></th>\n",
       "      <th></th>\n",
       "      <th></th>\n",
       "      <th></th>\n",
       "      <th></th>\n",
       "      <th></th>\n",
       "    </tr>\n",
       "  </thead>\n",
       "  <tbody>\n",
       "    <tr>\n",
       "      <th>1993-08-06</th>\n",
       "      <td>Douglas</td>\n",
       "      <td>Male</td>\n",
       "      <td>12:42 PM</td>\n",
       "      <td>0.203228</td>\n",
       "      <td>-0.578936</td>\n",
       "      <td>True</td>\n",
       "      <td>Marketing</td>\n",
       "    </tr>\n",
       "    <tr>\n",
       "      <th>1996-03-31</th>\n",
       "      <td>Thomas</td>\n",
       "      <td>Male</td>\n",
       "      <td>6:53 AM</td>\n",
       "      <td>-0.868115</td>\n",
       "      <td>-1.076486</td>\n",
       "      <td>True</td>\n",
       "      <td>Business Development</td>\n",
       "    </tr>\n",
       "    <tr>\n",
       "      <th>1993-04-23</th>\n",
       "      <td>Maria</td>\n",
       "      <td>Female</td>\n",
       "      <td>11:17 AM</td>\n",
       "      <td>1.211183</td>\n",
       "      <td>0.301952</td>\n",
       "      <td>False</td>\n",
       "      <td>Finance</td>\n",
       "    </tr>\n",
       "    <tr>\n",
       "      <th>2005-03-04</th>\n",
       "      <td>Jerry</td>\n",
       "      <td>Male</td>\n",
       "      <td>1:00 PM</td>\n",
       "      <td>1.456948</td>\n",
       "      <td>-0.149519</td>\n",
       "      <td>True</td>\n",
       "      <td>Finance</td>\n",
       "    </tr>\n",
       "    <tr>\n",
       "      <th>1998-01-24</th>\n",
       "      <td>Larry</td>\n",
       "      <td>Male</td>\n",
       "      <td>4:47 PM</td>\n",
       "      <td>0.315162</td>\n",
       "      <td>-1.575112</td>\n",
       "      <td>True</td>\n",
       "      <td>Client Services</td>\n",
       "    </tr>\n",
       "  </tbody>\n",
       "</table>\n",
       "</div>"
      ],
      "text/plain": [
       "           First Name Cinsiyet Last Login Time      Maaş     Bonus Yönetici  \\\n",
       "Start Date                                                                    \n",
       "1993-08-06    Douglas     Male        12:42 PM  0.203228 -0.578936     True   \n",
       "1996-03-31     Thomas     Male         6:53 AM -0.868115 -1.076486     True   \n",
       "1993-04-23      Maria   Female        11:17 AM  1.211183  0.301952    False   \n",
       "2005-03-04      Jerry     Male         1:00 PM  1.456948 -0.149519     True   \n",
       "1998-01-24      Larry     Male         4:47 PM  0.315162 -1.575112     True   \n",
       "\n",
       "                           Takım  \n",
       "Start Date                        \n",
       "1993-08-06             Marketing  \n",
       "1996-03-31  Business Development  \n",
       "1993-04-23               Finance  \n",
       "2005-03-04               Finance  \n",
       "1998-01-24       Client Services  "
      ]
     },
     "execution_count": 41,
     "metadata": {},
     "output_type": "execute_result"
    }
   ],
   "source": [
    "df.head()"
   ]
  },
  {
   "cell_type": "code",
   "execution_count": 42,
   "id": "67b26048",
   "metadata": {},
   "outputs": [],
   "source": [
    "encode = preprocessing.OrdinalEncoder()"
   ]
  },
  {
   "cell_type": "code",
   "execution_count": 43,
   "id": "455507ec",
   "metadata": {},
   "outputs": [
    {
     "data": {
      "text/plain": [
       "OrdinalEncoder()"
      ]
     },
     "execution_count": 43,
     "metadata": {},
     "output_type": "execute_result"
    }
   ],
   "source": [
    "encode.fit(df[[\"Cinsiyet\"]])"
   ]
  },
  {
   "cell_type": "code",
   "execution_count": 44,
   "id": "5328d73c",
   "metadata": {},
   "outputs": [],
   "source": [
    "df[[\"Cinsiyet\"]] = encode.transform(df[[\"Cinsiyet\"]])"
   ]
  },
  {
   "cell_type": "code",
   "execution_count": 45,
   "id": "fea9009c",
   "metadata": {},
   "outputs": [
    {
     "data": {
      "text/plain": [
       "array([[1.],\n",
       "       [1.],\n",
       "       [0.],\n",
       "       [1.],\n",
       "       [1.],\n",
       "       [0.],\n",
       "       [1.],\n",
       "       [0.],\n",
       "       [1.],\n",
       "       [1.],\n",
       "       [1.],\n",
       "       [1.],\n",
       "       [1.],\n",
       "       [0.],\n",
       "       [1.],\n",
       "       [0.],\n",
       "       [0.],\n",
       "       [0.],\n",
       "       [0.],\n",
       "       [0.],\n",
       "       [0.],\n",
       "       [0.],\n",
       "       [0.],\n",
       "       [0.],\n",
       "       [1.],\n",
       "       [1.],\n",
       "       [1.],\n",
       "       [1.],\n",
       "       [0.],\n",
       "       [0.],\n",
       "       [0.],\n",
       "       [0.],\n",
       "       [0.],\n",
       "       [1.],\n",
       "       [1.],\n",
       "       [0.],\n",
       "       [1.],\n",
       "       [0.],\n",
       "       [1.],\n",
       "       [1.],\n",
       "       [1.],\n",
       "       [0.],\n",
       "       [1.],\n",
       "       [1.],\n",
       "       [1.],\n",
       "       [1.],\n",
       "       [0.],\n",
       "       [1.],\n",
       "       [1.],\n",
       "       [1.],\n",
       "       [1.],\n",
       "       [0.],\n",
       "       [0.],\n",
       "       [0.],\n",
       "       [0.],\n",
       "       [1.],\n",
       "       [1.],\n",
       "       [1.],\n",
       "       [1.],\n",
       "       [1.],\n",
       "       [0.],\n",
       "       [1.],\n",
       "       [0.],\n",
       "       [1.],\n",
       "       [1.],\n",
       "       [1.],\n",
       "       [1.],\n",
       "       [0.],\n",
       "       [0.],\n",
       "       [1.],\n",
       "       [1.],\n",
       "       [0.],\n",
       "       [1.],\n",
       "       [1.],\n",
       "       [1.],\n",
       "       [0.],\n",
       "       [1.],\n",
       "       [0.],\n",
       "       [0.],\n",
       "       [0.],\n",
       "       [1.],\n",
       "       [0.],\n",
       "       [0.],\n",
       "       [1.],\n",
       "       [0.],\n",
       "       [1.],\n",
       "       [0.],\n",
       "       [0.],\n",
       "       [0.],\n",
       "       [0.],\n",
       "       [0.],\n",
       "       [0.],\n",
       "       [1.],\n",
       "       [0.],\n",
       "       [1.],\n",
       "       [1.],\n",
       "       [0.],\n",
       "       [0.],\n",
       "       [0.],\n",
       "       [0.],\n",
       "       [0.],\n",
       "       [0.],\n",
       "       [1.],\n",
       "       [1.],\n",
       "       [1.],\n",
       "       [0.],\n",
       "       [1.],\n",
       "       [0.],\n",
       "       [1.],\n",
       "       [1.],\n",
       "       [1.],\n",
       "       [0.],\n",
       "       [0.],\n",
       "       [1.],\n",
       "       [1.],\n",
       "       [1.],\n",
       "       [0.],\n",
       "       [0.],\n",
       "       [1.],\n",
       "       [0.],\n",
       "       [0.],\n",
       "       [1.],\n",
       "       [0.],\n",
       "       [1.],\n",
       "       [0.],\n",
       "       [0.],\n",
       "       [0.],\n",
       "       [0.],\n",
       "       [1.],\n",
       "       [1.],\n",
       "       [1.],\n",
       "       [0.],\n",
       "       [0.],\n",
       "       [1.],\n",
       "       [1.],\n",
       "       [1.],\n",
       "       [0.],\n",
       "       [0.],\n",
       "       [0.],\n",
       "       [0.],\n",
       "       [1.],\n",
       "       [1.],\n",
       "       [1.],\n",
       "       [1.],\n",
       "       [0.],\n",
       "       [1.],\n",
       "       [1.],\n",
       "       [0.],\n",
       "       [1.],\n",
       "       [0.],\n",
       "       [1.],\n",
       "       [1.],\n",
       "       [1.],\n",
       "       [1.],\n",
       "       [1.],\n",
       "       [1.],\n",
       "       [0.],\n",
       "       [0.],\n",
       "       [0.],\n",
       "       [0.],\n",
       "       [0.],\n",
       "       [0.],\n",
       "       [1.],\n",
       "       [0.],\n",
       "       [1.],\n",
       "       [0.],\n",
       "       [0.],\n",
       "       [1.],\n",
       "       [1.],\n",
       "       [0.],\n",
       "       [0.],\n",
       "       [1.],\n",
       "       [1.],\n",
       "       [1.],\n",
       "       [1.],\n",
       "       [1.],\n",
       "       [0.],\n",
       "       [0.],\n",
       "       [0.],\n",
       "       [1.],\n",
       "       [1.],\n",
       "       [0.],\n",
       "       [1.],\n",
       "       [0.],\n",
       "       [0.],\n",
       "       [0.],\n",
       "       [1.],\n",
       "       [1.],\n",
       "       [0.],\n",
       "       [0.],\n",
       "       [0.],\n",
       "       [1.],\n",
       "       [0.],\n",
       "       [1.],\n",
       "       [1.],\n",
       "       [1.],\n",
       "       [1.],\n",
       "       [1.],\n",
       "       [0.],\n",
       "       [0.],\n",
       "       [0.],\n",
       "       [1.],\n",
       "       [1.],\n",
       "       [0.],\n",
       "       [0.],\n",
       "       [0.],\n",
       "       [0.],\n",
       "       [1.],\n",
       "       [1.],\n",
       "       [0.],\n",
       "       [0.],\n",
       "       [1.],\n",
       "       [1.],\n",
       "       [1.],\n",
       "       [0.],\n",
       "       [0.],\n",
       "       [0.],\n",
       "       [0.],\n",
       "       [0.],\n",
       "       [1.],\n",
       "       [0.],\n",
       "       [0.],\n",
       "       [1.],\n",
       "       [1.],\n",
       "       [0.],\n",
       "       [0.],\n",
       "       [0.],\n",
       "       [1.],\n",
       "       [0.],\n",
       "       [1.],\n",
       "       [0.],\n",
       "       [1.],\n",
       "       [1.],\n",
       "       [1.],\n",
       "       [0.],\n",
       "       [0.],\n",
       "       [0.],\n",
       "       [0.],\n",
       "       [1.],\n",
       "       [1.],\n",
       "       [0.],\n",
       "       [0.],\n",
       "       [1.],\n",
       "       [1.],\n",
       "       [1.],\n",
       "       [1.],\n",
       "       [1.],\n",
       "       [1.],\n",
       "       [0.],\n",
       "       [0.],\n",
       "       [0.],\n",
       "       [1.],\n",
       "       [1.],\n",
       "       [1.],\n",
       "       [0.],\n",
       "       [1.],\n",
       "       [1.],\n",
       "       [0.],\n",
       "       [1.],\n",
       "       [0.],\n",
       "       [1.],\n",
       "       [0.],\n",
       "       [1.],\n",
       "       [1.],\n",
       "       [1.],\n",
       "       [0.],\n",
       "       [0.],\n",
       "       [0.],\n",
       "       [0.],\n",
       "       [0.],\n",
       "       [0.],\n",
       "       [0.],\n",
       "       [0.],\n",
       "       [1.],\n",
       "       [0.],\n",
       "       [0.],\n",
       "       [1.],\n",
       "       [1.],\n",
       "       [1.],\n",
       "       [0.],\n",
       "       [0.],\n",
       "       [1.],\n",
       "       [1.],\n",
       "       [0.],\n",
       "       [0.],\n",
       "       [0.],\n",
       "       [1.],\n",
       "       [1.],\n",
       "       [0.],\n",
       "       [1.],\n",
       "       [1.],\n",
       "       [1.],\n",
       "       [0.],\n",
       "       [1.],\n",
       "       [0.],\n",
       "       [1.],\n",
       "       [1.],\n",
       "       [0.],\n",
       "       [0.],\n",
       "       [0.],\n",
       "       [0.],\n",
       "       [0.],\n",
       "       [0.],\n",
       "       [1.],\n",
       "       [0.],\n",
       "       [0.],\n",
       "       [0.],\n",
       "       [0.],\n",
       "       [1.],\n",
       "       [1.],\n",
       "       [0.],\n",
       "       [0.],\n",
       "       [0.],\n",
       "       [1.],\n",
       "       [0.],\n",
       "       [0.],\n",
       "       [0.],\n",
       "       [0.],\n",
       "       [1.],\n",
       "       [0.],\n",
       "       [0.],\n",
       "       [0.],\n",
       "       [1.],\n",
       "       [0.],\n",
       "       [0.],\n",
       "       [1.],\n",
       "       [0.],\n",
       "       [0.],\n",
       "       [0.],\n",
       "       [0.],\n",
       "       [0.],\n",
       "       [0.],\n",
       "       [1.],\n",
       "       [1.],\n",
       "       [1.],\n",
       "       [1.],\n",
       "       [1.],\n",
       "       [1.],\n",
       "       [1.],\n",
       "       [1.],\n",
       "       [0.],\n",
       "       [1.],\n",
       "       [0.],\n",
       "       [0.],\n",
       "       [1.],\n",
       "       [1.],\n",
       "       [1.],\n",
       "       [1.],\n",
       "       [0.],\n",
       "       [0.],\n",
       "       [1.],\n",
       "       [1.],\n",
       "       [0.],\n",
       "       [1.],\n",
       "       [1.],\n",
       "       [1.],\n",
       "       [1.],\n",
       "       [1.],\n",
       "       [0.],\n",
       "       [1.],\n",
       "       [1.],\n",
       "       [1.],\n",
       "       [1.],\n",
       "       [0.],\n",
       "       [0.],\n",
       "       [0.],\n",
       "       [1.],\n",
       "       [1.],\n",
       "       [1.],\n",
       "       [1.],\n",
       "       [1.],\n",
       "       [1.],\n",
       "       [1.],\n",
       "       [1.],\n",
       "       [1.],\n",
       "       [1.],\n",
       "       [1.],\n",
       "       [0.],\n",
       "       [0.],\n",
       "       [1.],\n",
       "       [1.],\n",
       "       [0.],\n",
       "       [1.],\n",
       "       [0.],\n",
       "       [1.],\n",
       "       [1.],\n",
       "       [0.],\n",
       "       [1.],\n",
       "       [0.],\n",
       "       [0.],\n",
       "       [0.],\n",
       "       [0.],\n",
       "       [0.],\n",
       "       [0.],\n",
       "       [0.],\n",
       "       [0.],\n",
       "       [0.],\n",
       "       [1.],\n",
       "       [1.],\n",
       "       [1.],\n",
       "       [0.],\n",
       "       [0.],\n",
       "       [0.],\n",
       "       [0.],\n",
       "       [0.],\n",
       "       [1.],\n",
       "       [0.],\n",
       "       [0.],\n",
       "       [0.],\n",
       "       [1.],\n",
       "       [0.],\n",
       "       [0.],\n",
       "       [0.],\n",
       "       [0.],\n",
       "       [1.],\n",
       "       [0.],\n",
       "       [0.],\n",
       "       [0.],\n",
       "       [1.],\n",
       "       [0.],\n",
       "       [0.],\n",
       "       [0.],\n",
       "       [1.],\n",
       "       [0.],\n",
       "       [1.],\n",
       "       [0.],\n",
       "       [0.],\n",
       "       [0.],\n",
       "       [0.],\n",
       "       [0.],\n",
       "       [1.],\n",
       "       [0.],\n",
       "       [0.],\n",
       "       [1.],\n",
       "       [1.],\n",
       "       [0.],\n",
       "       [0.],\n",
       "       [0.],\n",
       "       [1.],\n",
       "       [0.],\n",
       "       [0.],\n",
       "       [0.],\n",
       "       [1.],\n",
       "       [1.],\n",
       "       [1.],\n",
       "       [0.],\n",
       "       [1.],\n",
       "       [1.],\n",
       "       [1.],\n",
       "       [1.],\n",
       "       [0.],\n",
       "       [0.],\n",
       "       [0.],\n",
       "       [1.],\n",
       "       [1.],\n",
       "       [0.],\n",
       "       [0.],\n",
       "       [1.],\n",
       "       [1.],\n",
       "       [0.],\n",
       "       [1.],\n",
       "       [0.],\n",
       "       [1.],\n",
       "       [1.],\n",
       "       [0.],\n",
       "       [1.],\n",
       "       [1.],\n",
       "       [0.],\n",
       "       [1.],\n",
       "       [0.],\n",
       "       [1.],\n",
       "       [0.],\n",
       "       [1.],\n",
       "       [0.],\n",
       "       [1.],\n",
       "       [1.],\n",
       "       [0.],\n",
       "       [0.],\n",
       "       [0.],\n",
       "       [1.],\n",
       "       [0.],\n",
       "       [0.],\n",
       "       [1.],\n",
       "       [0.],\n",
       "       [1.],\n",
       "       [0.],\n",
       "       [0.],\n",
       "       [0.],\n",
       "       [0.],\n",
       "       [0.],\n",
       "       [0.],\n",
       "       [1.],\n",
       "       [0.],\n",
       "       [1.],\n",
       "       [0.],\n",
       "       [0.],\n",
       "       [1.],\n",
       "       [1.],\n",
       "       [0.],\n",
       "       [0.],\n",
       "       [0.],\n",
       "       [0.],\n",
       "       [1.],\n",
       "       [0.],\n",
       "       [0.],\n",
       "       [1.],\n",
       "       [0.],\n",
       "       [1.],\n",
       "       [1.],\n",
       "       [0.],\n",
       "       [0.],\n",
       "       [0.],\n",
       "       [0.],\n",
       "       [1.],\n",
       "       [1.],\n",
       "       [0.],\n",
       "       [0.],\n",
       "       [0.],\n",
       "       [1.],\n",
       "       [0.],\n",
       "       [0.],\n",
       "       [0.],\n",
       "       [0.],\n",
       "       [0.],\n",
       "       [0.],\n",
       "       [0.],\n",
       "       [1.],\n",
       "       [1.],\n",
       "       [1.],\n",
       "       [0.],\n",
       "       [1.],\n",
       "       [0.],\n",
       "       [0.],\n",
       "       [1.],\n",
       "       [1.],\n",
       "       [0.],\n",
       "       [1.],\n",
       "       [0.],\n",
       "       [0.],\n",
       "       [0.],\n",
       "       [0.],\n",
       "       [0.],\n",
       "       [1.],\n",
       "       [0.],\n",
       "       [1.],\n",
       "       [0.],\n",
       "       [0.],\n",
       "       [0.],\n",
       "       [1.],\n",
       "       [0.],\n",
       "       [0.],\n",
       "       [0.],\n",
       "       [0.],\n",
       "       [0.],\n",
       "       [1.],\n",
       "       [1.],\n",
       "       [0.],\n",
       "       [0.],\n",
       "       [1.],\n",
       "       [0.],\n",
       "       [0.],\n",
       "       [1.],\n",
       "       [1.],\n",
       "       [1.],\n",
       "       [1.],\n",
       "       [0.],\n",
       "       [1.],\n",
       "       [1.],\n",
       "       [0.],\n",
       "       [1.],\n",
       "       [1.],\n",
       "       [1.],\n",
       "       [0.],\n",
       "       [0.],\n",
       "       [0.],\n",
       "       [0.],\n",
       "       [0.],\n",
       "       [1.],\n",
       "       [1.],\n",
       "       [0.],\n",
       "       [1.],\n",
       "       [1.],\n",
       "       [0.],\n",
       "       [1.],\n",
       "       [0.],\n",
       "       [0.],\n",
       "       [0.],\n",
       "       [1.],\n",
       "       [1.],\n",
       "       [1.],\n",
       "       [0.],\n",
       "       [0.],\n",
       "       [0.],\n",
       "       [0.],\n",
       "       [1.],\n",
       "       [0.],\n",
       "       [1.],\n",
       "       [1.],\n",
       "       [0.],\n",
       "       [1.],\n",
       "       [1.],\n",
       "       [0.],\n",
       "       [1.],\n",
       "       [0.],\n",
       "       [1.],\n",
       "       [0.],\n",
       "       [0.],\n",
       "       [0.],\n",
       "       [1.],\n",
       "       [1.],\n",
       "       [0.],\n",
       "       [0.],\n",
       "       [1.],\n",
       "       [1.],\n",
       "       [1.],\n",
       "       [0.],\n",
       "       [1.],\n",
       "       [1.],\n",
       "       [1.],\n",
       "       [1.],\n",
       "       [0.],\n",
       "       [1.],\n",
       "       [1.],\n",
       "       [0.],\n",
       "       [0.],\n",
       "       [0.],\n",
       "       [1.],\n",
       "       [1.],\n",
       "       [0.],\n",
       "       [0.],\n",
       "       [0.],\n",
       "       [0.],\n",
       "       [0.],\n",
       "       [1.],\n",
       "       [1.],\n",
       "       [1.],\n",
       "       [0.],\n",
       "       [1.],\n",
       "       [0.],\n",
       "       [0.],\n",
       "       [1.],\n",
       "       [1.],\n",
       "       [0.],\n",
       "       [1.],\n",
       "       [0.],\n",
       "       [0.],\n",
       "       [1.],\n",
       "       [1.],\n",
       "       [1.],\n",
       "       [1.],\n",
       "       [1.],\n",
       "       [0.],\n",
       "       [0.],\n",
       "       [1.],\n",
       "       [1.],\n",
       "       [1.],\n",
       "       [1.],\n",
       "       [0.],\n",
       "       [0.],\n",
       "       [1.],\n",
       "       [0.],\n",
       "       [0.],\n",
       "       [0.],\n",
       "       [1.],\n",
       "       [1.],\n",
       "       [0.],\n",
       "       [0.],\n",
       "       [0.],\n",
       "       [0.],\n",
       "       [1.],\n",
       "       [1.],\n",
       "       [0.],\n",
       "       [0.],\n",
       "       [0.],\n",
       "       [1.],\n",
       "       [0.],\n",
       "       [0.],\n",
       "       [0.],\n",
       "       [1.],\n",
       "       [1.],\n",
       "       [0.],\n",
       "       [1.],\n",
       "       [0.],\n",
       "       [0.],\n",
       "       [0.],\n",
       "       [1.],\n",
       "       [0.],\n",
       "       [0.],\n",
       "       [0.],\n",
       "       [0.],\n",
       "       [0.],\n",
       "       [1.],\n",
       "       [0.],\n",
       "       [1.],\n",
       "       [1.],\n",
       "       [0.],\n",
       "       [0.],\n",
       "       [1.],\n",
       "       [1.],\n",
       "       [1.],\n",
       "       [0.],\n",
       "       [1.],\n",
       "       [0.],\n",
       "       [0.],\n",
       "       [0.],\n",
       "       [1.],\n",
       "       [1.],\n",
       "       [1.],\n",
       "       [0.],\n",
       "       [0.],\n",
       "       [0.],\n",
       "       [0.],\n",
       "       [1.],\n",
       "       [0.],\n",
       "       [0.],\n",
       "       [1.],\n",
       "       [0.],\n",
       "       [0.],\n",
       "       [0.],\n",
       "       [0.],\n",
       "       [0.],\n",
       "       [1.],\n",
       "       [0.],\n",
       "       [0.],\n",
       "       [1.],\n",
       "       [1.],\n",
       "       [1.],\n",
       "       [0.],\n",
       "       [1.],\n",
       "       [0.],\n",
       "       [0.],\n",
       "       [0.],\n",
       "       [0.],\n",
       "       [1.],\n",
       "       [0.],\n",
       "       [0.],\n",
       "       [0.],\n",
       "       [0.],\n",
       "       [0.],\n",
       "       [0.],\n",
       "       [1.],\n",
       "       [1.],\n",
       "       [0.],\n",
       "       [1.],\n",
       "       [1.],\n",
       "       [1.],\n",
       "       [0.],\n",
       "       [0.],\n",
       "       [0.],\n",
       "       [0.],\n",
       "       [0.],\n",
       "       [0.],\n",
       "       [0.],\n",
       "       [0.],\n",
       "       [0.],\n",
       "       [1.],\n",
       "       [1.],\n",
       "       [0.],\n",
       "       [0.],\n",
       "       [0.],\n",
       "       [1.],\n",
       "       [1.],\n",
       "       [1.],\n",
       "       [1.],\n",
       "       [1.],\n",
       "       [0.],\n",
       "       [0.],\n",
       "       [0.],\n",
       "       [1.],\n",
       "       [1.],\n",
       "       [1.],\n",
       "       [0.],\n",
       "       [0.],\n",
       "       [0.],\n",
       "       [0.],\n",
       "       [1.],\n",
       "       [1.],\n",
       "       [0.],\n",
       "       [0.],\n",
       "       [1.],\n",
       "       [1.],\n",
       "       [1.],\n",
       "       [0.],\n",
       "       [0.],\n",
       "       [0.],\n",
       "       [0.],\n",
       "       [1.],\n",
       "       [1.],\n",
       "       [0.],\n",
       "       [0.],\n",
       "       [0.],\n",
       "       [1.],\n",
       "       [1.],\n",
       "       [1.],\n",
       "       [1.],\n",
       "       [0.],\n",
       "       [1.],\n",
       "       [0.],\n",
       "       [1.],\n",
       "       [0.],\n",
       "       [0.],\n",
       "       [1.],\n",
       "       [1.],\n",
       "       [1.],\n",
       "       [0.],\n",
       "       [1.],\n",
       "       [0.],\n",
       "       [0.],\n",
       "       [1.],\n",
       "       [1.],\n",
       "       [0.],\n",
       "       [0.],\n",
       "       [1.],\n",
       "       [0.],\n",
       "       [1.],\n",
       "       [0.],\n",
       "       [0.],\n",
       "       [1.],\n",
       "       [0.],\n",
       "       [1.],\n",
       "       [1.],\n",
       "       [0.],\n",
       "       [1.],\n",
       "       [1.],\n",
       "       [0.],\n",
       "       [1.],\n",
       "       [0.],\n",
       "       [0.],\n",
       "       [1.],\n",
       "       [1.],\n",
       "       [1.],\n",
       "       [0.],\n",
       "       [1.],\n",
       "       [0.],\n",
       "       [1.],\n",
       "       [0.],\n",
       "       [0.],\n",
       "       [1.],\n",
       "       [1.],\n",
       "       [0.],\n",
       "       [1.],\n",
       "       [0.],\n",
       "       [0.],\n",
       "       [0.],\n",
       "       [1.],\n",
       "       [0.],\n",
       "       [1.],\n",
       "       [1.],\n",
       "       [1.],\n",
       "       [1.],\n",
       "       [1.],\n",
       "       [0.],\n",
       "       [0.],\n",
       "       [0.],\n",
       "       [1.]])"
      ]
     },
     "execution_count": 45,
     "metadata": {},
     "output_type": "execute_result"
    }
   ],
   "source": [
    "encode = preprocessing.OrdinalEncoder()\n",
    "encode.fit(df[[\"Yönetici\"]])\n",
    "encode.transform(df[[\"Yönetici\"]])"
   ]
  },
  {
   "cell_type": "code",
   "execution_count": 46,
   "id": "f5068e11",
   "metadata": {},
   "outputs": [],
   "source": [
    "df[['Yönetici']] = df[['Yönetici']].astype('bool')"
   ]
  },
  {
   "cell_type": "code",
   "execution_count": 47,
   "id": "7411cba5",
   "metadata": {},
   "outputs": [],
   "source": [
    "encode.fit(df[[\"Takım\"]])\n",
    "df[[\"Takım_Encode\"]] = encode.transform(df[[\"Takım\"]])"
   ]
  },
  {
   "cell_type": "code",
   "execution_count": 52,
   "id": "c1cdc472",
   "metadata": {},
   "outputs": [],
   "source": [
    "df.drop(labels= [\"Start Date\"], axis = 1, inplace=True)"
   ]
  },
  {
   "cell_type": "markdown",
   "id": "e0100c5a",
   "metadata": {},
   "source": [
    "# Clustering Applications"
   ]
  },
  {
   "cell_type": "code",
   "execution_count": 53,
   "id": "09c4e0b1",
   "metadata": {},
   "outputs": [],
   "source": [
    "X_cluster = df[[\"Cinsiyet\",\"Maaş\",\"Bonus\",\"Yönetici\",\"Takım_Encode\"]]"
   ]
  },
  {
   "cell_type": "code",
   "execution_count": 54,
   "id": "e0e54835",
   "metadata": {},
   "outputs": [
    {
     "data": {
      "text/html": [
       "<div>\n",
       "<style scoped>\n",
       "    .dataframe tbody tr th:only-of-type {\n",
       "        vertical-align: middle;\n",
       "    }\n",
       "\n",
       "    .dataframe tbody tr th {\n",
       "        vertical-align: top;\n",
       "    }\n",
       "\n",
       "    .dataframe thead th {\n",
       "        text-align: right;\n",
       "    }\n",
       "</style>\n",
       "<table border=\"1\" class=\"dataframe\">\n",
       "  <thead>\n",
       "    <tr style=\"text-align: right;\">\n",
       "      <th></th>\n",
       "      <th>Cinsiyet</th>\n",
       "      <th>Maaş</th>\n",
       "      <th>Bonus</th>\n",
       "      <th>Yönetici</th>\n",
       "      <th>Takım_Encode</th>\n",
       "    </tr>\n",
       "  </thead>\n",
       "  <tbody>\n",
       "    <tr>\n",
       "      <th>0</th>\n",
       "      <td>1.0</td>\n",
       "      <td>0.203228</td>\n",
       "      <td>-0.578936</td>\n",
       "      <td>True</td>\n",
       "      <td>7.0</td>\n",
       "    </tr>\n",
       "    <tr>\n",
       "      <th>1</th>\n",
       "      <td>1.0</td>\n",
       "      <td>-0.868115</td>\n",
       "      <td>-1.076486</td>\n",
       "      <td>True</td>\n",
       "      <td>0.0</td>\n",
       "    </tr>\n",
       "    <tr>\n",
       "      <th>2</th>\n",
       "      <td>0.0</td>\n",
       "      <td>1.211183</td>\n",
       "      <td>0.301952</td>\n",
       "      <td>False</td>\n",
       "      <td>4.0</td>\n",
       "    </tr>\n",
       "    <tr>\n",
       "      <th>3</th>\n",
       "      <td>1.0</td>\n",
       "      <td>1.456948</td>\n",
       "      <td>-0.149519</td>\n",
       "      <td>True</td>\n",
       "      <td>4.0</td>\n",
       "    </tr>\n",
       "    <tr>\n",
       "      <th>4</th>\n",
       "      <td>1.0</td>\n",
       "      <td>0.315162</td>\n",
       "      <td>-1.575112</td>\n",
       "      <td>True</td>\n",
       "      <td>1.0</td>\n",
       "    </tr>\n",
       "  </tbody>\n",
       "</table>\n",
       "</div>"
      ],
      "text/plain": [
       "   Cinsiyet      Maaş     Bonus  Yönetici  Takım_Encode\n",
       "0       1.0  0.203228 -0.578936      True           7.0\n",
       "1       1.0 -0.868115 -1.076486      True           0.0\n",
       "2       0.0  1.211183  0.301952     False           4.0\n",
       "3       1.0  1.456948 -0.149519      True           4.0\n",
       "4       1.0  0.315162 -1.575112      True           1.0"
      ]
     },
     "execution_count": 54,
     "metadata": {},
     "output_type": "execute_result"
    }
   ],
   "source": [
    "X_cluster.head()"
   ]
  },
  {
   "cell_type": "code",
   "execution_count": 55,
   "id": "887c5ffc",
   "metadata": {},
   "outputs": [],
   "source": [
    "kmean = KMeans(n_clusters=3)"
   ]
  },
  {
   "cell_type": "code",
   "execution_count": 56,
   "id": "e4540c9e",
   "metadata": {},
   "outputs": [
    {
     "data": {
      "text/plain": [
       "KMeans(n_clusters=3)"
      ]
     },
     "execution_count": 56,
     "metadata": {},
     "output_type": "execute_result"
    }
   ],
   "source": [
    "kmean.fit(X_cluster)"
   ]
  },
  {
   "cell_type": "code",
   "execution_count": 57,
   "id": "27729691",
   "metadata": {},
   "outputs": [
    {
     "data": {
      "text/plain": [
       "numpy.ndarray"
      ]
     },
     "execution_count": 57,
     "metadata": {},
     "output_type": "execute_result"
    }
   ],
   "source": [
    "type(kmean.labels_)"
   ]
  },
  {
   "cell_type": "code",
   "execution_count": 58,
   "id": "5194d6e5",
   "metadata": {},
   "outputs": [],
   "source": [
    "X_cluster = X_cluster.assign(KMeans_sonuc = pd.Series(kmean.labels_).values)"
   ]
  },
  {
   "cell_type": "code",
   "execution_count": 34,
   "id": "d9eede87",
   "metadata": {},
   "outputs": [],
   "source": [
    "X_cluster.drop(labels = [\"KMeans_sonuc\"], axis = 1, inplace=True)"
   ]
  },
  {
   "cell_type": "code",
   "execution_count": 59,
   "id": "31701f3e",
   "metadata": {},
   "outputs": [
    {
     "data": {
      "text/html": [
       "<div>\n",
       "<style scoped>\n",
       "    .dataframe tbody tr th:only-of-type {\n",
       "        vertical-align: middle;\n",
       "    }\n",
       "\n",
       "    .dataframe tbody tr th {\n",
       "        vertical-align: top;\n",
       "    }\n",
       "\n",
       "    .dataframe thead th {\n",
       "        text-align: right;\n",
       "    }\n",
       "</style>\n",
       "<table border=\"1\" class=\"dataframe\">\n",
       "  <thead>\n",
       "    <tr style=\"text-align: right;\">\n",
       "      <th></th>\n",
       "      <th>Cinsiyet</th>\n",
       "      <th>Maaş</th>\n",
       "      <th>Bonus</th>\n",
       "      <th>Yönetici</th>\n",
       "      <th>Takım_Encode</th>\n",
       "      <th>KMeans_sonuc</th>\n",
       "    </tr>\n",
       "  </thead>\n",
       "  <tbody>\n",
       "    <tr>\n",
       "      <th>0</th>\n",
       "      <td>1.0</td>\n",
       "      <td>0.203228</td>\n",
       "      <td>-0.578936</td>\n",
       "      <td>True</td>\n",
       "      <td>7.0</td>\n",
       "      <td>0</td>\n",
       "    </tr>\n",
       "    <tr>\n",
       "      <th>1</th>\n",
       "      <td>1.0</td>\n",
       "      <td>-0.868115</td>\n",
       "      <td>-1.076486</td>\n",
       "      <td>True</td>\n",
       "      <td>0.0</td>\n",
       "      <td>1</td>\n",
       "    </tr>\n",
       "    <tr>\n",
       "      <th>2</th>\n",
       "      <td>0.0</td>\n",
       "      <td>1.211183</td>\n",
       "      <td>0.301952</td>\n",
       "      <td>False</td>\n",
       "      <td>4.0</td>\n",
       "      <td>2</td>\n",
       "    </tr>\n",
       "    <tr>\n",
       "      <th>3</th>\n",
       "      <td>1.0</td>\n",
       "      <td>1.456948</td>\n",
       "      <td>-0.149519</td>\n",
       "      <td>True</td>\n",
       "      <td>4.0</td>\n",
       "      <td>2</td>\n",
       "    </tr>\n",
       "    <tr>\n",
       "      <th>4</th>\n",
       "      <td>1.0</td>\n",
       "      <td>0.315162</td>\n",
       "      <td>-1.575112</td>\n",
       "      <td>True</td>\n",
       "      <td>1.0</td>\n",
       "      <td>1</td>\n",
       "    </tr>\n",
       "  </tbody>\n",
       "</table>\n",
       "</div>"
      ],
      "text/plain": [
       "   Cinsiyet      Maaş     Bonus  Yönetici  Takım_Encode  KMeans_sonuc\n",
       "0       1.0  0.203228 -0.578936      True           7.0             0\n",
       "1       1.0 -0.868115 -1.076486      True           0.0             1\n",
       "2       0.0  1.211183  0.301952     False           4.0             2\n",
       "3       1.0  1.456948 -0.149519      True           4.0             2\n",
       "4       1.0  0.315162 -1.575112      True           1.0             1"
      ]
     },
     "execution_count": 59,
     "metadata": {},
     "output_type": "execute_result"
    }
   ],
   "source": [
    "X_cluster.head()"
   ]
  },
  {
   "cell_type": "code",
   "execution_count": 36,
   "id": "31b9bf38",
   "metadata": {},
   "outputs": [],
   "source": [
    "db = DBSCAN(eps = 1, min_samples = 3)"
   ]
  },
  {
   "cell_type": "code",
   "execution_count": 37,
   "id": "740a9e71",
   "metadata": {},
   "outputs": [
    {
     "data": {
      "text/plain": [
       "DBSCAN(eps=1, min_samples=3)"
      ]
     },
     "execution_count": 37,
     "metadata": {},
     "output_type": "execute_result"
    }
   ],
   "source": [
    "db.fit(X_cluster)"
   ]
  },
  {
   "cell_type": "code",
   "execution_count": 38,
   "id": "45a31c54",
   "metadata": {},
   "outputs": [
    {
     "data": {
      "text/plain": [
       "array([ 0,  1,  2,  3,  4,  5,  6,  2,  7,  8,  8,  9, 10, 11, 12, 13, 14,\n",
       "       15, 16, 13, 17, 18, 19, 19,  0,  4, 20,  7, 18, 21, 19, 22, 21, 23,\n",
       "        8, 19, 24, 25, 26, 27, 28, 29, 23,  1,  7, 10, 30,  6,  3, 10,  7,\n",
       "       30, 21, 31, -1, 24,  8, 12,  3, 28, 15, 32, 17, 33, 55,  0, 32, 13,\n",
       "       34, 35,  3,  2,  4, -1,  9, 25,  8,  5, 16,  2, 36, 18,  2,  0, 19,\n",
       "       37, 17,  2, 38, 34, 18, 25,  8, 17,  7,  8, 13, 34, 29, 21, 17, 18,\n",
       "        7,  6,  6, 39, 40, 14,  4,  1, -1, 13, 14, 23,  8,  9, 34, 52,  7,\n",
       "       21, 41, 42,  2, 23, 13,  5, 43, 17, 23,  6,  8, 14, 13, 26, -1, 20,\n",
       "       19, 21, 25, 22, 28,  6, -1, 44,  2,  7, -1, 15, 24, -1, 12,  1, 24,\n",
       "        8,  4,  9, 22, 17, 34, 11,  2, 30,  9, 43, 42, 19, 16,  6,  1, 29,\n",
       "       41, 28,  8,  0,  3, 23, 16, 14, 30,  9, -1, 16,  7, 30, 16, -1,  4,\n",
       "        3, 41,  5, 29, 20, 43, 28, 12, 35, 45, 24, 13, 46, 22, 23,  7, 13,\n",
       "       25, 38, 29, 45, 48, 19, 47, 24,  8,  0, 19, 46, 25, -1, 18, 10, 43,\n",
       "       13,  7, 40, 19, 43, 52, 12, 46, 10, 15, 48,  0,  8,  2, 43, 21, 18,\n",
       "       10, 44, 16, -1,  3, 23,  9,  1, 23, 23, 17, 43,  5, 10, 40, 44, 47,\n",
       "       10,  3, 41,  1, 43,  9, 17, 20, 28,  9, 18, 13, 21, 29, 56, 22, 22,\n",
       "       15, 32, 21, 19, -1,  0,  3, 47, 19, 49, 42, 16, 19, 50, 20, 28, 15,\n",
       "       10, 28,  3, 13, 44, 18, 10, 10, 22, -1, 22, 22, 47, 17,  9, 25, 43,\n",
       "       47, 15, 23, 51, 22, 52, 15,  1, 21, 13, 21, 11, 45, 11, 43, 47, 10,\n",
       "       15, 41, 44, 21, 15, 15, 16, 22, 19, 27, -1,  4,  6, 32, 40, 24, 33,\n",
       "        2,  8, 17,  2,  8, -1, 10, 28, 18, 25,  0,  1, 52, 12,  8,  3, 28,\n",
       "       42, 16, 12, 10, 28,  3, 46, 43,  5,  9,  8, 24, 12, 32,  1, 10, 35,\n",
       "        8, 12, 51, 52, 18, 49, 44, 19, 33, 34,  0, -1, 17, 40, 25, 50, 25,\n",
       "       17, 47, 15, 17, 25, 11,  7, 26, -1, 52, 46, 19, 18, 47,  7, 46, 18,\n",
       "       18,  1, 22, 21, 46, 17, 37, -1, 53, 54, 23, 41, -1, 29, 32, 11,  0,\n",
       "       19, -1, 25, 52, 16,  0, 43, 47,  4, 44, 14, 21, 54,  1, 53, 18, 11,\n",
       "       -1, 33,  6, 14,  1, 55, -1, 10,  2, 19, 43, 26,  6, 15, 41,  1,  8,\n",
       "       14, 28,  2,  7, 55, 16,  0, 48,  2, 32,  2,  0, 47, 27, 30,  6,  0,\n",
       "       43, 30, 46,  4, 30, 47, 35, -1, 24, 53, 31, 16, 13, 17, 14,  8, 16,\n",
       "       48, 15, 19,  6, 20, 18, 17, 29, 53, 20, 41, 41, 23, -1, 33,  8, 43,\n",
       "       11, 22, 18, 37,  1, 43, 13, -1, 44, 16, 16, 11, 30, 11, 15, 52, 44,\n",
       "       55, -1, 29,  7, 29, 19, 32,  9, 11, 26, 21, 56, 31, 38, 30,  7, 18,\n",
       "        1, 30, 14, 21, 55, 22, 14, -1, -1, 18,  1, 12,  2, 16, -1, 13, 34,\n",
       "        4, 36, 32, 23, 47, 55, 55, 34, 24, 20, 23, 43, 14, 18, 14, 56, 26,\n",
       "       23, 13, 23, 44, 15,  6, 21, 50, 52, 20, 28, 37, 11, 22, 16, 46,  0,\n",
       "       52, 24, 12, 52, 44,  1, 30, 20, 14,  3, 30, 43, 52, 44,  1, 47, 47,\n",
       "       -1,  1,  0, 30,  3,  1, 28, 23, 19, 49, 37, 29, 18, 46,  8,  6, 15,\n",
       "       18, 11, 25, 19, 10,  1,  8, 18,  8, 16, 18,  1,  9, 16, 24, 15, 43,\n",
       "       10,  7, 24,  9, 28, 14, 16, 32,  6, 42,  8, 29, 21, 12, 14, 22, 52,\n",
       "        8, 10, 18, 19, 22, 41,  6, 28, 13, 29, 54, -1, 53, 16, 30,  0, 48,\n",
       "       15, 10, 53, 13, 52, 44, 22,  2, 30, -1, 18, 26, 15, 36, 55, 30, 41,\n",
       "       55, 20, 10, 43,  8, 47, 41, 13, 10, -1,  3, 54, 14, 47,  2,  3, 52,\n",
       "       39, 55, 53, -1, 22, 16, 14, 48, 15, 18,  1,  8,  8, 29,  6, 14, 53,\n",
       "       17, -1, 28, 14, 18, 25, 16, 17, 13,  1, 44, 53, 28, 33,  7, 19, 43,\n",
       "       16, 41, 31, -1, 15, 11, 34,  9, 37, 29, 29, 11,  1, -1, 28,  8, -1,\n",
       "       39, 43, 52, 40, 33, 37, -1,  2, 30, 15,  9,  1, 18, 41, 55,  4,  8,\n",
       "       15, 19, 52, 16, 28,  1, 16, 22, 43,  1,  1,  9, 26, 52, 23, 21, 44,\n",
       "       30, 21, 24, 44, 26, 47, 24, 43, 17,  7,  1, 53, 21, 33, 15,  3, 25,\n",
       "       30, 28, 30,  1,  1, 15, 51, 28, 16, 10, 47, 43,  7,  6,  1, 18, 35,\n",
       "       22,  9, 13, 14, 42,  7, 54, 33, 47, 30, 31, 37, 39, 23, 26,  3,  7,\n",
       "        0, -1, 15, 18, 28], dtype=int64)"
      ]
     },
     "execution_count": 38,
     "metadata": {},
     "output_type": "execute_result"
    }
   ],
   "source": [
    "db.labels_"
   ]
  },
  {
   "cell_type": "code",
   "execution_count": 60,
   "id": "dcfbbfca",
   "metadata": {},
   "outputs": [
    {
     "data": {
      "text/plain": [
       "array([0, 1, 2, 2, 1, 0, 0, 2, 2, 1, 1, 0, 2, 0, 2, 0, 2, 0, 1, 0, 0, 1,\n",
       "       1, 1, 0, 1, 0, 2, 1, 1, 1, 0, 1, 1, 1, 1, 1, 0, 0, 0, 0, 2, 1, 1,\n",
       "       2, 2, 2, 0, 2, 2, 2, 2, 1, 0, 2, 1, 1, 2, 2, 0, 0, 0, 0, 2, 1, 0,\n",
       "       0, 0, 0, 1, 2, 2, 1, 0, 0, 0, 1, 0, 1, 2, 0, 1, 2, 0, 1, 2, 0, 2,\n",
       "       0, 0, 1, 0, 1, 0, 2, 1, 0, 0, 2, 1, 0, 1, 2, 0, 0, 2, 2, 2, 1, 1,\n",
       "       2, 0, 2, 1, 1, 0, 0, 1, 2, 1, 0, 0, 2, 1, 0, 0, 1, 0, 1, 0, 1, 2,\n",
       "       0, 0, 2, 0, 1, 1, 0, 0, 0, 0, 0, 2, 2, 2, 2, 0, 1, 0, 2, 1, 1, 1,\n",
       "       1, 0, 0, 0, 0, 0, 2, 2, 0, 1, 0, 1, 1, 0, 1, 2, 0, 0, 1, 0, 2, 1,\n",
       "       1, 2, 2, 0, 2, 1, 2, 2, 1, 0, 1, 2, 0, 0, 2, 0, 1, 0, 2, 1, 2, 1,\n",
       "       0, 2, 0, 1, 2, 0, 0, 0, 2, 2, 0, 1, 2, 1, 1, 0, 1, 2, 0, 0, 1, 2,\n",
       "       1, 0, 2, 2, 1, 1, 1, 2, 2, 2, 0, 0, 0, 1, 2, 1, 1, 1, 2, 2, 1, 2,\n",
       "       2, 1, 0, 1, 1, 1, 0, 1, 0, 2, 2, 2, 2, 2, 2, 0, 1, 1, 0, 0, 0, 0,\n",
       "       0, 1, 0, 1, 2, 0, 0, 0, 0, 0, 1, 1, 0, 0, 2, 2, 1, 0, 0, 1, 1, 2,\n",
       "       0, 0, 0, 2, 0, 2, 0, 2, 1, 2, 2, 0, 2, 0, 0, 2, 0, 0, 0, 1, 2, 0,\n",
       "       1, 0, 0, 1, 0, 1, 1, 0, 1, 0, 2, 0, 1, 2, 2, 0, 0, 2, 1, 0, 0, 1,\n",
       "       0, 1, 0, 0, 1, 0, 0, 2, 1, 2, 2, 1, 0, 2, 1, 1, 2, 0, 1, 0, 0, 1,\n",
       "       1, 2, 1, 2, 0, 0, 1, 2, 2, 0, 2, 2, 1, 0, 0, 1, 1, 2, 0, 1, 2, 1,\n",
       "       1, 2, 0, 1, 1, 0, 2, 1, 2, 0, 0, 2, 0, 2, 0, 2, 0, 0, 2, 0, 0, 0,\n",
       "       0, 2, 0, 0, 1, 2, 1, 1, 2, 2, 2, 1, 1, 1, 0, 1, 2, 0, 2, 1, 1, 0,\n",
       "       1, 0, 1, 2, 0, 0, 0, 1, 1, 0, 1, 1, 0, 1, 2, 1, 2, 2, 1, 0, 1, 1,\n",
       "       1, 0, 0, 2, 0, 2, 1, 1, 0, 2, 2, 1, 1, 0, 0, 0, 0, 1, 1, 2, 0, 2,\n",
       "       2, 1, 1, 0, 0, 2, 0, 2, 0, 2, 0, 2, 0, 0, 1, 2, 2, 1, 2, 2, 1, 2,\n",
       "       1, 1, 0, 1, 0, 0, 2, 1, 1, 0, 0, 1, 0, 0, 1, 0, 2, 1, 0, 0, 0, 1,\n",
       "       2, 2, 1, 1, 0, 0, 1, 2, 1, 1, 0, 2, 2, 1, 1, 0, 2, 0, 0, 1, 2, 1,\n",
       "       0, 2, 2, 2, 1, 0, 0, 0, 0, 1, 0, 0, 0, 2, 2, 1, 1, 2, 2, 1, 1, 0,\n",
       "       2, 2, 2, 1, 1, 2, 2, 1, 2, 0, 0, 1, 0, 0, 1, 2, 1, 1, 0, 1, 0, 1,\n",
       "       1, 2, 1, 2, 0, 0, 1, 0, 1, 2, 0, 0, 1, 2, 1, 0, 0, 2, 0, 0, 1, 2,\n",
       "       0, 1, 1, 2, 1, 2, 1, 2, 0, 2, 2, 2, 1, 1, 2, 1, 2, 2, 2, 1, 0, 2,\n",
       "       2, 1, 0, 1, 1, 0, 2, 2, 1, 2, 1, 0, 0, 1, 0, 0, 1, 2, 1, 1, 1, 1,\n",
       "       1, 1, 1, 0, 1, 1, 0, 1, 2, 2, 1, 0, 0, 2, 1, 0, 0, 0, 1, 2, 1, 2,\n",
       "       2, 0, 1, 1, 2, 1, 1, 0, 0, 0, 0, 0, 2, 0, 1, 1, 1, 2, 0, 0, 0, 2,\n",
       "       1, 0, 1, 2, 0, 2, 2, 2, 1, 0, 0, 0, 1, 2, 0, 1, 0, 2, 1, 1, 2, 0,\n",
       "       0, 2, 1, 2, 0, 2, 2, 2, 2, 1, 2, 1, 1, 0, 0, 1, 2, 0, 0, 1, 1, 1,\n",
       "       1, 2, 0, 2, 1, 0, 2, 0, 2, 1, 0, 1, 0, 0, 1, 2, 1, 0, 2, 2, 1, 1,\n",
       "       1, 0, 0, 2, 0, 0, 0, 0, 2, 2, 2, 0, 1, 0, 0, 1, 0, 2, 1, 1, 2, 2,\n",
       "       2, 0, 2, 2, 0, 0, 1, 1, 0, 1, 1, 1, 0, 1, 1, 1, 0, 1, 1, 0, 1, 1,\n",
       "       1, 0, 0, 1, 1, 1, 2, 2, 1, 1, 2, 0, 2, 1, 1, 0, 2, 1, 1, 1, 2, 0,\n",
       "       2, 0, 2, 0, 2, 1, 1, 0, 0, 0, 1, 2, 2, 1, 2, 0, 1, 1, 1, 0, 0, 0,\n",
       "       2, 0, 2, 0, 2, 2, 2, 0, 2, 2, 1, 0, 2, 2, 0, 2, 0, 1, 0],\n",
       "      dtype=int64)"
      ]
     },
     "execution_count": 60,
     "metadata": {},
     "output_type": "execute_result"
    }
   ],
   "source": [
    "agg = AgglomerativeClustering(n_clusters=3)\n",
    "agg.fit(X_cluster)\n",
    "agg.labels_\n"
   ]
  },
  {
   "cell_type": "code",
   "execution_count": 61,
   "id": "1e496260",
   "metadata": {},
   "outputs": [],
   "source": [
    "X_cluster = X_cluster.assign(Agg_Sonuc = pd.Series(agg.labels_).values) "
   ]
  },
  {
   "cell_type": "code",
   "execution_count": 62,
   "id": "56513f40",
   "metadata": {},
   "outputs": [
    {
     "data": {
      "text/html": [
       "<div>\n",
       "<style scoped>\n",
       "    .dataframe tbody tr th:only-of-type {\n",
       "        vertical-align: middle;\n",
       "    }\n",
       "\n",
       "    .dataframe tbody tr th {\n",
       "        vertical-align: top;\n",
       "    }\n",
       "\n",
       "    .dataframe thead th {\n",
       "        text-align: right;\n",
       "    }\n",
       "</style>\n",
       "<table border=\"1\" class=\"dataframe\">\n",
       "  <thead>\n",
       "    <tr style=\"text-align: right;\">\n",
       "      <th></th>\n",
       "      <th>Cinsiyet</th>\n",
       "      <th>Maaş</th>\n",
       "      <th>Bonus</th>\n",
       "      <th>Yönetici</th>\n",
       "      <th>Takım_Encode</th>\n",
       "      <th>KMeans_sonuc</th>\n",
       "      <th>Agg_Sonuc</th>\n",
       "    </tr>\n",
       "  </thead>\n",
       "  <tbody>\n",
       "    <tr>\n",
       "      <th>0</th>\n",
       "      <td>1.0</td>\n",
       "      <td>0.203228</td>\n",
       "      <td>-0.578936</td>\n",
       "      <td>True</td>\n",
       "      <td>7.0</td>\n",
       "      <td>0</td>\n",
       "      <td>0</td>\n",
       "    </tr>\n",
       "    <tr>\n",
       "      <th>1</th>\n",
       "      <td>1.0</td>\n",
       "      <td>-0.868115</td>\n",
       "      <td>-1.076486</td>\n",
       "      <td>True</td>\n",
       "      <td>0.0</td>\n",
       "      <td>1</td>\n",
       "      <td>1</td>\n",
       "    </tr>\n",
       "    <tr>\n",
       "      <th>2</th>\n",
       "      <td>0.0</td>\n",
       "      <td>1.211183</td>\n",
       "      <td>0.301952</td>\n",
       "      <td>False</td>\n",
       "      <td>4.0</td>\n",
       "      <td>2</td>\n",
       "      <td>2</td>\n",
       "    </tr>\n",
       "    <tr>\n",
       "      <th>3</th>\n",
       "      <td>1.0</td>\n",
       "      <td>1.456948</td>\n",
       "      <td>-0.149519</td>\n",
       "      <td>True</td>\n",
       "      <td>4.0</td>\n",
       "      <td>2</td>\n",
       "      <td>2</td>\n",
       "    </tr>\n",
       "    <tr>\n",
       "      <th>4</th>\n",
       "      <td>1.0</td>\n",
       "      <td>0.315162</td>\n",
       "      <td>-1.575112</td>\n",
       "      <td>True</td>\n",
       "      <td>1.0</td>\n",
       "      <td>1</td>\n",
       "      <td>1</td>\n",
       "    </tr>\n",
       "  </tbody>\n",
       "</table>\n",
       "</div>"
      ],
      "text/plain": [
       "   Cinsiyet      Maaş     Bonus  Yönetici  Takım_Encode  KMeans_sonuc  \\\n",
       "0       1.0  0.203228 -0.578936      True           7.0             0   \n",
       "1       1.0 -0.868115 -1.076486      True           0.0             1   \n",
       "2       0.0  1.211183  0.301952     False           4.0             2   \n",
       "3       1.0  1.456948 -0.149519      True           4.0             2   \n",
       "4       1.0  0.315162 -1.575112      True           1.0             1   \n",
       "\n",
       "   Agg_Sonuc  \n",
       "0          0  \n",
       "1          1  \n",
       "2          2  \n",
       "3          2  \n",
       "4          1  "
      ]
     },
     "execution_count": 62,
     "metadata": {},
     "output_type": "execute_result"
    }
   ],
   "source": [
    "X_cluster.head()"
   ]
  },
  {
   "cell_type": "code",
   "execution_count": 42,
   "id": "6ecd172e",
   "metadata": {},
   "outputs": [
    {
     "data": {
      "text/html": [
       "<div>\n",
       "<style scoped>\n",
       "    .dataframe tbody tr th:only-of-type {\n",
       "        vertical-align: middle;\n",
       "    }\n",
       "\n",
       "    .dataframe tbody tr th {\n",
       "        vertical-align: top;\n",
       "    }\n",
       "\n",
       "    .dataframe thead th {\n",
       "        text-align: right;\n",
       "    }\n",
       "</style>\n",
       "<table border=\"1\" class=\"dataframe\">\n",
       "  <thead>\n",
       "    <tr style=\"text-align: right;\">\n",
       "      <th></th>\n",
       "      <th>First Name</th>\n",
       "      <th>Cinsiyet</th>\n",
       "      <th>Last Login Time</th>\n",
       "      <th>Maaş</th>\n",
       "      <th>Bonus</th>\n",
       "      <th>Yönetici</th>\n",
       "      <th>Takım</th>\n",
       "      <th>Takım_Encode</th>\n",
       "    </tr>\n",
       "    <tr>\n",
       "      <th>Start Date</th>\n",
       "      <th></th>\n",
       "      <th></th>\n",
       "      <th></th>\n",
       "      <th></th>\n",
       "      <th></th>\n",
       "      <th></th>\n",
       "      <th></th>\n",
       "      <th></th>\n",
       "    </tr>\n",
       "  </thead>\n",
       "  <tbody>\n",
       "    <tr>\n",
       "      <th>1993-08-06</th>\n",
       "      <td>Douglas</td>\n",
       "      <td>1.0</td>\n",
       "      <td>12:42 PM</td>\n",
       "      <td>0.203228</td>\n",
       "      <td>-0.578936</td>\n",
       "      <td>True</td>\n",
       "      <td>Marketing</td>\n",
       "      <td>7.0</td>\n",
       "    </tr>\n",
       "    <tr>\n",
       "      <th>1996-03-31</th>\n",
       "      <td>Thomas</td>\n",
       "      <td>1.0</td>\n",
       "      <td>6:53 AM</td>\n",
       "      <td>-0.868115</td>\n",
       "      <td>-1.076486</td>\n",
       "      <td>True</td>\n",
       "      <td>Business Development</td>\n",
       "      <td>0.0</td>\n",
       "    </tr>\n",
       "    <tr>\n",
       "      <th>1993-04-23</th>\n",
       "      <td>Maria</td>\n",
       "      <td>0.0</td>\n",
       "      <td>11:17 AM</td>\n",
       "      <td>1.211183</td>\n",
       "      <td>0.301952</td>\n",
       "      <td>False</td>\n",
       "      <td>Finance</td>\n",
       "      <td>4.0</td>\n",
       "    </tr>\n",
       "    <tr>\n",
       "      <th>2005-03-04</th>\n",
       "      <td>Jerry</td>\n",
       "      <td>1.0</td>\n",
       "      <td>1:00 PM</td>\n",
       "      <td>1.456948</td>\n",
       "      <td>-0.149519</td>\n",
       "      <td>True</td>\n",
       "      <td>Finance</td>\n",
       "      <td>4.0</td>\n",
       "    </tr>\n",
       "    <tr>\n",
       "      <th>1998-01-24</th>\n",
       "      <td>Larry</td>\n",
       "      <td>1.0</td>\n",
       "      <td>4:47 PM</td>\n",
       "      <td>0.315162</td>\n",
       "      <td>-1.575112</td>\n",
       "      <td>True</td>\n",
       "      <td>Client Services</td>\n",
       "      <td>1.0</td>\n",
       "    </tr>\n",
       "  </tbody>\n",
       "</table>\n",
       "</div>"
      ],
      "text/plain": [
       "           First Name  Cinsiyet Last Login Time      Maaş     Bonus  Yönetici  \\\n",
       "Start Date                                                                      \n",
       "1993-08-06    Douglas       1.0        12:42 PM  0.203228 -0.578936      True   \n",
       "1996-03-31     Thomas       1.0         6:53 AM -0.868115 -1.076486      True   \n",
       "1993-04-23      Maria       0.0        11:17 AM  1.211183  0.301952     False   \n",
       "2005-03-04      Jerry       1.0         1:00 PM  1.456948 -0.149519      True   \n",
       "1998-01-24      Larry       1.0         4:47 PM  0.315162 -1.575112      True   \n",
       "\n",
       "                           Takım  Takım_Encode  \n",
       "Start Date                                      \n",
       "1993-08-06             Marketing           7.0  \n",
       "1996-03-31  Business Development           0.0  \n",
       "1993-04-23               Finance           4.0  \n",
       "2005-03-04               Finance           4.0  \n",
       "1998-01-24       Client Services           1.0  "
      ]
     },
     "execution_count": 42,
     "metadata": {},
     "output_type": "execute_result"
    }
   ],
   "source": [
    "df.head()"
   ]
  },
  {
   "cell_type": "code",
   "execution_count": 69,
   "id": "f58a16b1",
   "metadata": {},
   "outputs": [
    {
     "data": {
      "image/png": "[encoded data removed]",
      "text/plain": [
       "<Figure size 432x288 with 3 Axes>"
      ]
     },
     "metadata": {
      "needs_background": "light"
     },
     "output_type": "display_data"
    }
   ],
   "source": [
    "#Grafikler Kümeler için\n",
    "\n",
    "plt.axes([0,0, 4,4])\n",
    "X_cluster[[\"KMeans_sonuc\"]].value_counts().plot(kind='bar', use_index = [\"Küme 1\",\"Küme 2\",\"Küme 3\"], \n",
    "                                                title = \"Çalışanların Sınıflandırılması\")\n",
    "plt.axes([5,0, 4,4])\n",
    "X_cluster[[\"Agg_Sonuc\"]].value_counts().plot(kind='bar', use_index = [\"Küme 1\",\"Küme 2\",\"Küme 3\"], \n",
    "                                                title = \"Çalışanların Sınıflandırılması\")\n",
    "\n",
    "plt.axes([10,0, 4,4])\n",
    "plt.scatter(X_cluster[[\"KMeans_sonuc\"]], X_cluster[[\"Agg_Sonuc\"]])\n",
    "plt.show()\n"
   ]
  },
  {
   "cell_type": "markdown",
   "id": "d6c6fd09",
   "metadata": {},
   "source": [
    "# Feature Selection"
   ]
  },
  {
   "cell_type": "code",
   "execution_count": 78,
   "id": "9a04ce69",
   "metadata": {},
   "outputs": [
    {
     "name": "stderr",
     "output_type": "stream",
     "text": [
      "C:\\Users\\Betul\\AppData\\Local\\Temp/ipykernel_13592/3517601948.py:4: SettingWithCopyWarning: \n",
      "A value is trying to be set on a copy of a slice from a DataFrame.\n",
      "Try using .loc[row_indexer,col_indexer] = value instead\n",
      "\n",
      "See the caveats in the documentation: https://pandas.pydata.org/pandas-docs/stable/user_guide/indexing.html#returning-a-view-versus-a-copy\n",
      "  X[\"Yönetici_Encode\"] = enc.transform(X[[\"Yönetici\"]])\n"
     ]
    }
   ],
   "source": [
    "X.head()\n",
    "enc = preprocessing.OrdinalEncoder()\n",
    "enc.fit(X[[\"Yönetici\"]])\n",
    "X[\"Yönetici_Encode\"] = enc.transform(X[[\"Yönetici\"]])"
   ]
  },
  {
   "cell_type": "markdown",
   "id": "70e9a421",
   "metadata": {},
   "source": [
    "# Regression - Prediction"
   ]
  },
  {
   "cell_type": "code",
   "execution_count": 94,
   "id": "bcde53be",
   "metadata": {},
   "outputs": [
    {
     "data": {
      "text/html": [
       "<div>\n",
       "<style scoped>\n",
       "    .dataframe tbody tr th:only-of-type {\n",
       "        vertical-align: middle;\n",
       "    }\n",
       "\n",
       "    .dataframe tbody tr th {\n",
       "        vertical-align: top;\n",
       "    }\n",
       "\n",
       "    .dataframe thead th {\n",
       "        text-align: right;\n",
       "    }\n",
       "</style>\n",
       "<table border=\"1\" class=\"dataframe\">\n",
       "  <thead>\n",
       "    <tr style=\"text-align: right;\">\n",
       "      <th></th>\n",
       "      <th>Maaş</th>\n",
       "    </tr>\n",
       "  </thead>\n",
       "  <tbody>\n",
       "    <tr>\n",
       "      <th>0</th>\n",
       "      <td>0.203228</td>\n",
       "    </tr>\n",
       "    <tr>\n",
       "      <th>1</th>\n",
       "      <td>-0.868115</td>\n",
       "    </tr>\n",
       "    <tr>\n",
       "      <th>2</th>\n",
       "      <td>1.211183</td>\n",
       "    </tr>\n",
       "    <tr>\n",
       "      <th>3</th>\n",
       "      <td>1.456948</td>\n",
       "    </tr>\n",
       "    <tr>\n",
       "      <th>4</th>\n",
       "      <td>0.315162</td>\n",
       "    </tr>\n",
       "    <tr>\n",
       "      <th>...</th>\n",
       "      <td>...</td>\n",
       "    </tr>\n",
       "    <tr>\n",
       "      <th>850</th>\n",
       "      <td>0.250654</td>\n",
       "    </tr>\n",
       "    <tr>\n",
       "      <th>851</th>\n",
       "      <td>-1.459919</td>\n",
       "    </tr>\n",
       "    <tr>\n",
       "      <th>852</th>\n",
       "      <td>0.191295</td>\n",
       "    </tr>\n",
       "    <tr>\n",
       "      <th>853</th>\n",
       "      <td>-0.911513</td>\n",
       "    </tr>\n",
       "    <tr>\n",
       "      <th>854</th>\n",
       "      <td>1.191770</td>\n",
       "    </tr>\n",
       "  </tbody>\n",
       "</table>\n",
       "<p>855 rows × 1 columns</p>\n",
       "</div>"
      ],
      "text/plain": [
       "         Maaş\n",
       "0    0.203228\n",
       "1   -0.868115\n",
       "2    1.211183\n",
       "3    1.456948\n",
       "4    0.315162\n",
       "..        ...\n",
       "850  0.250654\n",
       "851 -1.459919\n",
       "852  0.191295\n",
       "853 -0.911513\n",
       "854  1.191770\n",
       "\n",
       "[855 rows x 1 columns]"
      ]
     },
     "execution_count": 94,
     "metadata": {},
     "output_type": "execute_result"
    }
   ],
   "source": [
    "X = X[[\"Cinsiyet\", \"Bonus\", \"Yönetici_Encode\", \"Takım_Encode\"]]\n",
    "\n",
    "#y = y.to_frame()\n",
    "#y.drop(labels = 'Start Date', axis = 1, inplace=True)\n",
    "y"
   ]
  },
  {
   "cell_type": "code",
   "execution_count": 95,
   "id": "0815baeb",
   "metadata": {},
   "outputs": [
    {
     "name": "stderr",
     "output_type": "stream",
     "text": [
      "c:\\users\\betul\\pycharmprojects\\crytocurency_prediction\\venv\\lib\\site-packages\\seaborn\\_decorators.py:36: FutureWarning: Pass the following variables as keyword args: x, y. From version 0.12, the only valid positional argument will be `data`, and passing other arguments without an explicit keyword will result in an error or misinterpretation.\n",
      "  warnings.warn(\n"
     ]
    },
    {
     "data": {
      "text/plain": [
       "<AxesSubplot:xlabel='Bonus', ylabel='Maaş'>"
      ]
     },
     "execution_count": 95,
     "metadata": {},
     "output_type": "execute_result"
    },
    {
     "data": {
      "image/png": "[encoded data removed]",
      "text/plain": [
       "<Figure size 432x288 with 1 Axes>"
      ]
     },
     "metadata": {
      "needs_background": "light"
     },
     "output_type": "display_data"
    }
   ],
   "source": [
    "#sns.pairplot(X)\n",
    "sns.scatterplot(X[\"Bonus\"], y[\"Maaş\"])\n"
   ]
  },
  {
   "cell_type": "code",
   "execution_count": 124,
   "id": "ccf875bc",
   "metadata": {},
   "outputs": [],
   "source": [
    "X=df[[\"Bonus\", \"Yönetici\"]]\n",
    "y=df[[\"Maaş\"]]"
   ]
  },
  {
   "cell_type": "code",
   "execution_count": 123,
   "id": "d8547e35",
   "metadata": {},
   "outputs": [
    {
     "name": "stderr",
     "output_type": "stream",
     "text": [
      "c:\\users\\betul\\pycharmprojects\\crytocurency_prediction\\venv\\lib\\site-packages\\sklearn\\utils\\validation.py:63: DataConversionWarning: A column-vector y was passed when a 1d array was expected. Please change the shape of y to (n_samples, ), for example using ravel().\n",
      "  return f(*args, **kwargs)\n",
      "c:\\users\\betul\\pycharmprojects\\crytocurency_prediction\\venv\\lib\\site-packages\\sklearn\\utils\\validation.py:63: DataConversionWarning: A column-vector y was passed when a 1d array was expected. Please change the shape of y to (n_samples, ), for example using ravel().\n",
      "  return f(*args, **kwargs)\n"
     ]
    },
    {
     "data": {
      "text/plain": [
       "RFE(estimator=SVR(kernel='linear'))"
      ]
     },
     "execution_count": 123,
     "metadata": {},
     "output_type": "execute_result"
    }
   ],
   "source": [
    "model = SVR(kernel='linear')\n",
    "rfe = RFE(estimator=model)\n",
    "rfe.fit(X,y)"
   ]
  },
  {
   "cell_type": "code",
   "execution_count": 55,
   "id": "1132b505",
   "metadata": {},
   "outputs": [
    {
     "data": {
      "text/plain": [
       "array([2, 1, 1, 3])"
      ]
     },
     "execution_count": 55,
     "metadata": {},
     "output_type": "execute_result"
    }
   ],
   "source": [
    "rfe.ranking_"
   ]
  },
  {
   "cell_type": "code",
   "execution_count": 59,
   "id": "62edcfb9",
   "metadata": {},
   "outputs": [
    {
     "data": {
      "text/plain": [
       "array([False,  True,  True, False])"
      ]
     },
     "execution_count": 59,
     "metadata": {},
     "output_type": "execute_result"
    }
   ],
   "source": [
    "rfe.support_"
   ]
  },
  {
   "cell_type": "code",
   "execution_count": 125,
   "id": "f3af0838",
   "metadata": {},
   "outputs": [],
   "source": [
    "Xtrain, Xtest, ytrain, ytest = train_test_split(X,y, test_size = 0.2, random_state=1)"
   ]
  },
  {
   "cell_type": "code",
   "execution_count": 126,
   "id": "708f761e",
   "metadata": {},
   "outputs": [
    {
     "data": {
      "text/plain": [
       "LinearRegression()"
      ]
     },
     "execution_count": 126,
     "metadata": {},
     "output_type": "execute_result"
    }
   ],
   "source": [
    "linreg = LinearRegression()\n",
    "linreg.fit(Xtrain, ytrain)"
   ]
  },
  {
   "cell_type": "code",
   "execution_count": 127,
   "id": "86a7ae4e",
   "metadata": {},
   "outputs": [],
   "source": [
    "ypred = linreg.predict(Xtest)"
   ]
  },
  {
   "cell_type": "code",
   "execution_count": 128,
   "id": "212d7964",
   "metadata": {},
   "outputs": [
    {
     "data": {
      "text/plain": [
       "1.023056853308745"
      ]
     },
     "execution_count": 128,
     "metadata": {},
     "output_type": "execute_result"
    }
   ],
   "source": [
    "metrics.mean_squared_error(ypred, ytest)"
   ]
  },
  {
   "cell_type": "code",
   "execution_count": 111,
   "id": "1067112a",
   "metadata": {},
   "outputs": [
    {
     "data": {
      "text/plain": [
       "0.8793476140031461"
      ]
     },
     "execution_count": 111,
     "metadata": {},
     "output_type": "execute_result"
    }
   ],
   "source": [
    "metrics.mean_absolute_percentage_error(ypred, ytest)\n",
    "metrics.mean_absolute_error(ypred, ytest)"
   ]
  },
  {
   "cell_type": "code",
   "execution_count": 114,
   "id": "20220448",
   "metadata": {
    "collapsed": true
   },
   "outputs": [
    {
     "ename": "ValueError",
     "evalue": "continuous is not supported",
     "output_type": "error",
     "traceback": [
      "\u001b[1;31m---------------------------------------------------------------------------\u001b[0m",
      "\u001b[1;31mValueError\u001b[0m                                Traceback (most recent call last)",
      "\u001b[1;32m~\\AppData\\Local\\Temp/ipykernel_13592/2176371896.py\u001b[0m in \u001b[0;36m<module>\u001b[1;34m\u001b[0m\n\u001b[0;32m      1\u001b[0m \u001b[0mmetrics\u001b[0m\u001b[1;33m.\u001b[0m\u001b[0mmean_squared_error\u001b[0m\u001b[1;33m(\u001b[0m\u001b[0mypred\u001b[0m\u001b[1;33m,\u001b[0m \u001b[0mytest\u001b[0m\u001b[1;33m)\u001b[0m\u001b[1;33m\u001b[0m\u001b[1;33m\u001b[0m\u001b[0m\n\u001b[1;32m----> 2\u001b[1;33m \u001b[0mmetrics\u001b[0m\u001b[1;33m.\u001b[0m\u001b[0mprecision_score\u001b[0m\u001b[1;33m(\u001b[0m\u001b[0mypred\u001b[0m\u001b[1;33m,\u001b[0m \u001b[0mytest\u001b[0m\u001b[1;33m)\u001b[0m\u001b[1;33m\u001b[0m\u001b[1;33m\u001b[0m\u001b[0m\n\u001b[0m",
      "\u001b[1;32mc:\\users\\betul\\pycharmprojects\\crytocurency_prediction\\venv\\lib\\site-packages\\sklearn\\utils\\validation.py\u001b[0m in \u001b[0;36minner_f\u001b[1;34m(*args, **kwargs)\u001b[0m\n\u001b[0;32m     61\u001b[0m             \u001b[0mextra_args\u001b[0m \u001b[1;33m=\u001b[0m \u001b[0mlen\u001b[0m\u001b[1;33m(\u001b[0m\u001b[0margs\u001b[0m\u001b[1;33m)\u001b[0m \u001b[1;33m-\u001b[0m \u001b[0mlen\u001b[0m\u001b[1;33m(\u001b[0m\u001b[0mall_args\u001b[0m\u001b[1;33m)\u001b[0m\u001b[1;33m\u001b[0m\u001b[1;33m\u001b[0m\u001b[0m\n\u001b[0;32m     62\u001b[0m             \u001b[1;32mif\u001b[0m \u001b[0mextra_args\u001b[0m \u001b[1;33m<=\u001b[0m \u001b[1;36m0\u001b[0m\u001b[1;33m:\u001b[0m\u001b[1;33m\u001b[0m\u001b[1;33m\u001b[0m\u001b[0m\n\u001b[1;32m---> 63\u001b[1;33m                 \u001b[1;32mreturn\u001b[0m \u001b[0mf\u001b[0m\u001b[1;33m(\u001b[0m\u001b[1;33m*\u001b[0m\u001b[0margs\u001b[0m\u001b[1;33m,\u001b[0m \u001b[1;33m**\u001b[0m\u001b[0mkwargs\u001b[0m\u001b[1;33m)\u001b[0m\u001b[1;33m\u001b[0m\u001b[1;33m\u001b[0m\u001b[0m\n\u001b[0m\u001b[0;32m     64\u001b[0m \u001b[1;33m\u001b[0m\u001b[0m\n\u001b[0;32m     65\u001b[0m             \u001b[1;31m# extra_args > 0\u001b[0m\u001b[1;33m\u001b[0m\u001b[1;33m\u001b[0m\u001b[0m\n",
      "\u001b[1;32mc:\\users\\betul\\pycharmprojects\\crytocurency_prediction\\venv\\lib\\site-packages\\sklearn\\metrics\\_classification.py\u001b[0m in \u001b[0;36mprecision_score\u001b[1;34m(y_true, y_pred, labels, pos_label, average, sample_weight, zero_division)\u001b[0m\n\u001b[0;32m   1654\u001b[0m \u001b[1;33m\u001b[0m\u001b[0m\n\u001b[0;32m   1655\u001b[0m     \"\"\"\n\u001b[1;32m-> 1656\u001b[1;33m     p, _, _, _ = precision_recall_fscore_support(y_true, y_pred,\n\u001b[0m\u001b[0;32m   1657\u001b[0m                                                  \u001b[0mlabels\u001b[0m\u001b[1;33m=\u001b[0m\u001b[0mlabels\u001b[0m\u001b[1;33m,\u001b[0m\u001b[1;33m\u001b[0m\u001b[1;33m\u001b[0m\u001b[0m\n\u001b[0;32m   1658\u001b[0m                                                  \u001b[0mpos_label\u001b[0m\u001b[1;33m=\u001b[0m\u001b[0mpos_label\u001b[0m\u001b[1;33m,\u001b[0m\u001b[1;33m\u001b[0m\u001b[1;33m\u001b[0m\u001b[0m\n",
      "\u001b[1;32mc:\\users\\betul\\pycharmprojects\\crytocurency_prediction\\venv\\lib\\site-packages\\sklearn\\utils\\validation.py\u001b[0m in \u001b[0;36minner_f\u001b[1;34m(*args, **kwargs)\u001b[0m\n\u001b[0;32m     61\u001b[0m             \u001b[0mextra_args\u001b[0m \u001b[1;33m=\u001b[0m \u001b[0mlen\u001b[0m\u001b[1;33m(\u001b[0m\u001b[0margs\u001b[0m\u001b[1;33m)\u001b[0m \u001b[1;33m-\u001b[0m \u001b[0mlen\u001b[0m\u001b[1;33m(\u001b[0m\u001b[0mall_args\u001b[0m\u001b[1;33m)\u001b[0m\u001b[1;33m\u001b[0m\u001b[1;33m\u001b[0m\u001b[0m\n\u001b[0;32m     62\u001b[0m             \u001b[1;32mif\u001b[0m \u001b[0mextra_args\u001b[0m \u001b[1;33m<=\u001b[0m \u001b[1;36m0\u001b[0m\u001b[1;33m:\u001b[0m\u001b[1;33m\u001b[0m\u001b[1;33m\u001b[0m\u001b[0m\n\u001b[1;32m---> 63\u001b[1;33m                 \u001b[1;32mreturn\u001b[0m \u001b[0mf\u001b[0m\u001b[1;33m(\u001b[0m\u001b[1;33m*\u001b[0m\u001b[0margs\u001b[0m\u001b[1;33m,\u001b[0m \u001b[1;33m**\u001b[0m\u001b[0mkwargs\u001b[0m\u001b[1;33m)\u001b[0m\u001b[1;33m\u001b[0m\u001b[1;33m\u001b[0m\u001b[0m\n\u001b[0m\u001b[0;32m     64\u001b[0m \u001b[1;33m\u001b[0m\u001b[0m\n\u001b[0;32m     65\u001b[0m             \u001b[1;31m# extra_args > 0\u001b[0m\u001b[1;33m\u001b[0m\u001b[1;33m\u001b[0m\u001b[0m\n",
      "\u001b[1;32mc:\\users\\betul\\pycharmprojects\\crytocurency_prediction\\venv\\lib\\site-packages\\sklearn\\metrics\\_classification.py\u001b[0m in \u001b[0;36mprecision_recall_fscore_support\u001b[1;34m(y_true, y_pred, beta, labels, pos_label, average, warn_for, sample_weight, zero_division)\u001b[0m\n\u001b[0;32m   1462\u001b[0m     \u001b[1;32mif\u001b[0m \u001b[0mbeta\u001b[0m \u001b[1;33m<\u001b[0m \u001b[1;36m0\u001b[0m\u001b[1;33m:\u001b[0m\u001b[1;33m\u001b[0m\u001b[1;33m\u001b[0m\u001b[0m\n\u001b[0;32m   1463\u001b[0m         \u001b[1;32mraise\u001b[0m \u001b[0mValueError\u001b[0m\u001b[1;33m(\u001b[0m\u001b[1;34m\"beta should be >=0 in the F-beta score\"\u001b[0m\u001b[1;33m)\u001b[0m\u001b[1;33m\u001b[0m\u001b[1;33m\u001b[0m\u001b[0m\n\u001b[1;32m-> 1464\u001b[1;33m     labels = _check_set_wise_labels(y_true, y_pred, average, labels,\n\u001b[0m\u001b[0;32m   1465\u001b[0m                                     pos_label)\n\u001b[0;32m   1466\u001b[0m \u001b[1;33m\u001b[0m\u001b[0m\n",
      "\u001b[1;32mc:\\users\\betul\\pycharmprojects\\crytocurency_prediction\\venv\\lib\\site-packages\\sklearn\\metrics\\_classification.py\u001b[0m in \u001b[0;36m_check_set_wise_labels\u001b[1;34m(y_true, y_pred, average, labels, pos_label)\u001b[0m\n\u001b[0;32m   1275\u001b[0m                          str(average_options))\n\u001b[0;32m   1276\u001b[0m \u001b[1;33m\u001b[0m\u001b[0m\n\u001b[1;32m-> 1277\u001b[1;33m     \u001b[0my_type\u001b[0m\u001b[1;33m,\u001b[0m \u001b[0my_true\u001b[0m\u001b[1;33m,\u001b[0m \u001b[0my_pred\u001b[0m \u001b[1;33m=\u001b[0m \u001b[0m_check_targets\u001b[0m\u001b[1;33m(\u001b[0m\u001b[0my_true\u001b[0m\u001b[1;33m,\u001b[0m \u001b[0my_pred\u001b[0m\u001b[1;33m)\u001b[0m\u001b[1;33m\u001b[0m\u001b[1;33m\u001b[0m\u001b[0m\n\u001b[0m\u001b[0;32m   1278\u001b[0m     \u001b[1;31m# Convert to Python primitive type to avoid NumPy type / Python str\u001b[0m\u001b[1;33m\u001b[0m\u001b[1;33m\u001b[0m\u001b[0m\n\u001b[0;32m   1279\u001b[0m     \u001b[1;31m# comparison. See https://github.com/numpy/numpy/issues/6784\u001b[0m\u001b[1;33m\u001b[0m\u001b[1;33m\u001b[0m\u001b[0m\n",
      "\u001b[1;32mc:\\users\\betul\\pycharmprojects\\crytocurency_prediction\\venv\\lib\\site-packages\\sklearn\\metrics\\_classification.py\u001b[0m in \u001b[0;36m_check_targets\u001b[1;34m(y_true, y_pred)\u001b[0m\n\u001b[0;32m     98\u001b[0m     \u001b[1;31m# No metrics support \"multiclass-multioutput\" format\u001b[0m\u001b[1;33m\u001b[0m\u001b[1;33m\u001b[0m\u001b[0m\n\u001b[0;32m     99\u001b[0m     \u001b[1;32mif\u001b[0m \u001b[1;33m(\u001b[0m\u001b[0my_type\u001b[0m \u001b[1;32mnot\u001b[0m \u001b[1;32min\u001b[0m \u001b[1;33m[\u001b[0m\u001b[1;34m\"binary\"\u001b[0m\u001b[1;33m,\u001b[0m \u001b[1;34m\"multiclass\"\u001b[0m\u001b[1;33m,\u001b[0m \u001b[1;34m\"multilabel-indicator\"\u001b[0m\u001b[1;33m]\u001b[0m\u001b[1;33m)\u001b[0m\u001b[1;33m:\u001b[0m\u001b[1;33m\u001b[0m\u001b[1;33m\u001b[0m\u001b[0m\n\u001b[1;32m--> 100\u001b[1;33m         \u001b[1;32mraise\u001b[0m \u001b[0mValueError\u001b[0m\u001b[1;33m(\u001b[0m\u001b[1;34m\"{0} is not supported\"\u001b[0m\u001b[1;33m.\u001b[0m\u001b[0mformat\u001b[0m\u001b[1;33m(\u001b[0m\u001b[0my_type\u001b[0m\u001b[1;33m)\u001b[0m\u001b[1;33m)\u001b[0m\u001b[1;33m\u001b[0m\u001b[1;33m\u001b[0m\u001b[0m\n\u001b[0m\u001b[0;32m    101\u001b[0m \u001b[1;33m\u001b[0m\u001b[0m\n\u001b[0;32m    102\u001b[0m     \u001b[1;32mif\u001b[0m \u001b[0my_type\u001b[0m \u001b[1;32min\u001b[0m \u001b[1;33m[\u001b[0m\u001b[1;34m\"binary\"\u001b[0m\u001b[1;33m,\u001b[0m \u001b[1;34m\"multiclass\"\u001b[0m\u001b[1;33m]\u001b[0m\u001b[1;33m:\u001b[0m\u001b[1;33m\u001b[0m\u001b[1;33m\u001b[0m\u001b[0m\n",
      "\u001b[1;31mValueError\u001b[0m: continuous is not supported"
     ]
    }
   ],
   "source": [
    "metrics.mean_squared_error(ypred, ytest)\n"
   ]
  },
  {
   "cell_type": "code",
   "execution_count": 163,
   "id": "1b526939",
   "metadata": {
    "scrolled": true
   },
   "outputs": [
    {
     "name": "stderr",
     "output_type": "stream",
     "text": [
      "c:\\users\\betul\\pycharmprojects\\crytocurency_prediction\\venv\\lib\\site-packages\\sklearn\\utils\\validation.py:63: DataConversionWarning: A column-vector y was passed when a 1d array was expected. Please change the shape of y to (n_samples, ), for example using ravel().\n",
      "  return f(*args, **kwargs)\n"
     ]
    }
   ],
   "source": [
    "neuralnet = MLPRegressor(hidden_layer_sizes=(100))\n",
    "neuralnet.fit(Xtrain, ytrain)\n",
    "ypred = neuralnet.predict(Xtest)"
   ]
  },
  {
   "cell_type": "code",
   "execution_count": 164,
   "id": "ec8efffe",
   "metadata": {},
   "outputs": [
    {
     "data": {
      "text/plain": [
       "28.297037888620924"
      ]
     },
     "execution_count": 164,
     "metadata": {},
     "output_type": "execute_result"
    },
    {
     "data": {
      "image/png": "[encoded data removed]",
      "text/plain": [
       "<Figure size 432x288 with 1 Axes>"
      ]
     },
     "metadata": {
      "needs_background": "light"
     },
     "output_type": "display_data"
    }
   ],
   "source": [
    "plt.plot(ypred, ytest)\n",
    "metrics.mean_absolute_percentage_error(ypred, ytest)\n"
   ]
  },
  {
   "cell_type": "code",
   "execution_count": 166,
   "id": "2a8fba9c",
   "metadata": {},
   "outputs": [
    {
     "data": {
      "text/plain": [
       "5.7627184962378815"
      ]
     },
     "execution_count": 166,
     "metadata": {},
     "output_type": "execute_result"
    },
    {
     "data": {
      "image/png": "[encoded data removed]",
      "text/plain": [
       "<Figure size 432x288 with 1 Axes>"
      ]
     },
     "metadata": {
      "needs_background": "light"
     },
     "output_type": "display_data"
    }
   ],
   "source": [
    "dectree = DecisionTreeRegressor()\n",
    "dectree.fit(Xtrain, ytrain)\n",
    "ypred = dectree.predict(Xtest)\n",
    "plt.plot(ypred, ytest)\n",
    "metrics.mean_absolute_percentage_error(ypred, ytest)"
   ]
  },
  {
   "cell_type": "markdown",
   "id": "31f4bc3a",
   "metadata": {},
   "source": [
    "# Classification"
   ]
  },
  {
   "cell_type": "code",
   "execution_count": 183,
   "id": "728c761a",
   "metadata": {},
   "outputs": [
    {
     "data": {
      "text/html": [
       "<div>\n",
       "<style scoped>\n",
       "    .dataframe tbody tr th:only-of-type {\n",
       "        vertical-align: middle;\n",
       "    }\n",
       "\n",
       "    .dataframe tbody tr th {\n",
       "        vertical-align: top;\n",
       "    }\n",
       "\n",
       "    .dataframe thead th {\n",
       "        text-align: right;\n",
       "    }\n",
       "</style>\n",
       "<table border=\"1\" class=\"dataframe\">\n",
       "  <thead>\n",
       "    <tr style=\"text-align: right;\">\n",
       "      <th></th>\n",
       "      <th>First Name</th>\n",
       "      <th>Cinsiyet</th>\n",
       "      <th>Last Login Time</th>\n",
       "      <th>Maaş</th>\n",
       "      <th>Bonus</th>\n",
       "      <th>Yönetici</th>\n",
       "      <th>Takım</th>\n",
       "      <th>Takım_Encode</th>\n",
       "    </tr>\n",
       "  </thead>\n",
       "  <tbody>\n",
       "    <tr>\n",
       "      <th>0</th>\n",
       "      <td>Douglas</td>\n",
       "      <td>1.0</td>\n",
       "      <td>12:42 PM</td>\n",
       "      <td>0.203228</td>\n",
       "      <td>-0.578936</td>\n",
       "      <td>True</td>\n",
       "      <td>Marketing</td>\n",
       "      <td>7.0</td>\n",
       "    </tr>\n",
       "    <tr>\n",
       "      <th>1</th>\n",
       "      <td>Thomas</td>\n",
       "      <td>1.0</td>\n",
       "      <td>6:53 AM</td>\n",
       "      <td>-0.868115</td>\n",
       "      <td>-1.076486</td>\n",
       "      <td>True</td>\n",
       "      <td>Business Development</td>\n",
       "      <td>0.0</td>\n",
       "    </tr>\n",
       "    <tr>\n",
       "      <th>2</th>\n",
       "      <td>Maria</td>\n",
       "      <td>0.0</td>\n",
       "      <td>11:17 AM</td>\n",
       "      <td>1.211183</td>\n",
       "      <td>0.301952</td>\n",
       "      <td>False</td>\n",
       "      <td>Finance</td>\n",
       "      <td>4.0</td>\n",
       "    </tr>\n",
       "    <tr>\n",
       "      <th>3</th>\n",
       "      <td>Jerry</td>\n",
       "      <td>1.0</td>\n",
       "      <td>1:00 PM</td>\n",
       "      <td>1.456948</td>\n",
       "      <td>-0.149519</td>\n",
       "      <td>True</td>\n",
       "      <td>Finance</td>\n",
       "      <td>4.0</td>\n",
       "    </tr>\n",
       "    <tr>\n",
       "      <th>4</th>\n",
       "      <td>Larry</td>\n",
       "      <td>1.0</td>\n",
       "      <td>4:47 PM</td>\n",
       "      <td>0.315162</td>\n",
       "      <td>-1.575112</td>\n",
       "      <td>True</td>\n",
       "      <td>Client Services</td>\n",
       "      <td>1.0</td>\n",
       "    </tr>\n",
       "    <tr>\n",
       "      <th>...</th>\n",
       "      <td>...</td>\n",
       "      <td>...</td>\n",
       "      <td>...</td>\n",
       "      <td>...</td>\n",
       "      <td>...</td>\n",
       "      <td>...</td>\n",
       "      <td>...</td>\n",
       "      <td>...</td>\n",
       "    </tr>\n",
       "    <tr>\n",
       "      <th>850</th>\n",
       "      <td>George</td>\n",
       "      <td>1.0</td>\n",
       "      <td>5:47 PM</td>\n",
       "      <td>0.250654</td>\n",
       "      <td>-1.021083</td>\n",
       "      <td>True</td>\n",
       "      <td>Marketing</td>\n",
       "      <td>7.0</td>\n",
       "    </tr>\n",
       "    <tr>\n",
       "      <th>851</th>\n",
       "      <td>Phillip</td>\n",
       "      <td>1.0</td>\n",
       "      <td>6:30 AM</td>\n",
       "      <td>-1.459919</td>\n",
       "      <td>1.703519</td>\n",
       "      <td>False</td>\n",
       "      <td>Finance</td>\n",
       "      <td>4.0</td>\n",
       "    </tr>\n",
       "    <tr>\n",
       "      <th>852</th>\n",
       "      <td>Russell</td>\n",
       "      <td>1.0</td>\n",
       "      <td>12:39 PM</td>\n",
       "      <td>0.191295</td>\n",
       "      <td>-1.569374</td>\n",
       "      <td>False</td>\n",
       "      <td>Product</td>\n",
       "      <td>8.0</td>\n",
       "    </tr>\n",
       "    <tr>\n",
       "      <th>853</th>\n",
       "      <td>Larry</td>\n",
       "      <td>1.0</td>\n",
       "      <td>4:45 PM</td>\n",
       "      <td>-0.911513</td>\n",
       "      <td>0.324723</td>\n",
       "      <td>False</td>\n",
       "      <td>Business Development</td>\n",
       "      <td>0.0</td>\n",
       "    </tr>\n",
       "    <tr>\n",
       "      <th>854</th>\n",
       "      <td>Albert</td>\n",
       "      <td>1.0</td>\n",
       "      <td>6:24 PM</td>\n",
       "      <td>1.191770</td>\n",
       "      <td>-0.000881</td>\n",
       "      <td>True</td>\n",
       "      <td>Sales</td>\n",
       "      <td>9.0</td>\n",
       "    </tr>\n",
       "  </tbody>\n",
       "</table>\n",
       "<p>855 rows × 8 columns</p>\n",
       "</div>"
      ],
      "text/plain": [
       "    First Name  Cinsiyet Last Login Time      Maaş     Bonus  Yönetici  \\\n",
       "0      Douglas       1.0        12:42 PM  0.203228 -0.578936      True   \n",
       "1       Thomas       1.0         6:53 AM -0.868115 -1.076486      True   \n",
       "2        Maria       0.0        11:17 AM  1.211183  0.301952     False   \n",
       "3        Jerry       1.0         1:00 PM  1.456948 -0.149519      True   \n",
       "4        Larry       1.0         4:47 PM  0.315162 -1.575112      True   \n",
       "..         ...       ...             ...       ...       ...       ...   \n",
       "850     George       1.0         5:47 PM  0.250654 -1.021083      True   \n",
       "851    Phillip       1.0         6:30 AM -1.459919  1.703519     False   \n",
       "852    Russell       1.0        12:39 PM  0.191295 -1.569374     False   \n",
       "853      Larry       1.0         4:45 PM -0.911513  0.324723     False   \n",
       "854     Albert       1.0         6:24 PM  1.191770 -0.000881      True   \n",
       "\n",
       "                    Takım  Takım_Encode  \n",
       "0               Marketing           7.0  \n",
       "1    Business Development           0.0  \n",
       "2                 Finance           4.0  \n",
       "3                 Finance           4.0  \n",
       "4         Client Services           1.0  \n",
       "..                    ...           ...  \n",
       "850             Marketing           7.0  \n",
       "851               Finance           4.0  \n",
       "852               Product           8.0  \n",
       "853  Business Development           0.0  \n",
       "854                 Sales           9.0  \n",
       "\n",
       "[855 rows x 8 columns]"
      ]
     },
     "execution_count": 183,
     "metadata": {},
     "output_type": "execute_result"
    }
   ],
   "source": [
    "df"
   ]
  },
  {
   "cell_type": "code",
   "execution_count": 246,
   "id": "cd1385a4",
   "metadata": {},
   "outputs": [],
   "source": [
    "X = df[[\"Cinsiyet\",\"Maaş\",\"Bonus\",\"Takım_Encode\"]]\n",
    "y= df[[\"Yönetici\"]]"
   ]
  },
  {
   "cell_type": "code",
   "execution_count": 247,
   "id": "4810ef20",
   "metadata": {},
   "outputs": [],
   "source": [
    "Xtrain, Xtest, ytrain, ytest = train_test_split(X,y,test_size=0.20, random_state=1, stratify=y)"
   ]
  },
  {
   "cell_type": "code",
   "execution_count": 248,
   "id": "30733a85",
   "metadata": {},
   "outputs": [
    {
     "name": "stderr",
     "output_type": "stream",
     "text": [
      "c:\\users\\betul\\pycharmprojects\\crytocurency_prediction\\venv\\lib\\site-packages\\sklearn\\utils\\validation.py:63: DataConversionWarning: A column-vector y was passed when a 1d array was expected. Please change the shape of y to (n_samples, ), for example using ravel().\n",
      "  return f(*args, **kwargs)\n"
     ]
    }
   ],
   "source": [
    "class_tree = MLPClassifier(hidden_layer_sizes=(50,50,50), max_iter=1000)\n",
    "class_tree.fit(Xtrain, ytrain)\n",
    "ypred = class_tree.predict(Xtest)"
   ]
  },
  {
   "cell_type": "code",
   "execution_count": 252,
   "id": "e5601ad9",
   "metadata": {},
   "outputs": [
    {
     "data": {
      "text/plain": [
       "0.507705008255366"
      ]
     },
     "execution_count": 252,
     "metadata": {},
     "output_type": "execute_result"
    },
    {
     "data": {
      "image/png": "[encoded data removed]",
      "text/plain": [
       "<Figure size 432x288 with 1 Axes>"
      ]
     },
     "metadata": {
      "needs_background": "light"
     },
     "output_type": "display_data"
    }
   ],
   "source": [
    "metrics.plot_precision_recall_curve(class_tree, X, y)\n",
    "metrics.roc_auc_score(ytest, ypred)"
   ]
  },
  {
   "cell_type": "code",
   "execution_count": 224,
   "id": "f2f17ae5",
   "metadata": {},
   "outputs": [],
   "source": [
    "conmat =  metrics.confusion_matrix(ytest, ypred)"
   ]
  },
  {
   "cell_type": "code",
   "execution_count": 225,
   "id": "151ec683",
   "metadata": {},
   "outputs": [
    {
     "name": "stdout",
     "output_type": "stream",
     "text": [
      "              precision    recall  f1-score   support\n",
      "\n",
      "       False       0.53      0.48      0.50        92\n",
      "        True       0.45      0.51      0.48        79\n",
      "\n",
      "    accuracy                           0.49       171\n",
      "   macro avg       0.49      0.49      0.49       171\n",
      "weighted avg       0.50      0.49      0.49       171\n",
      "\n"
     ]
    }
   ],
   "source": [
    "print(metrics.classification_report(ytest, ypred))"
   ]
  },
  {
   "cell_type": "code",
   "execution_count": 226,
   "id": "c7cb8a09",
   "metadata": {},
   "outputs": [
    {
     "data": {
      "image/png": "[encoded data removed]",
      "text/plain": [
       "<Figure size 432x288 with 2 Axes>"
      ]
     },
     "metadata": {
      "needs_background": "light"
     },
     "output_type": "display_data"
    }
   ],
   "source": [
    "disp = metrics.ConfusionMatrixDisplay(conmat)\n",
    "disp.plot()\n",
    "plt.show()"
   ]
  },
  {
   "cell_type": "code",
   "execution_count": 227,
   "id": "ac83ac29",
   "metadata": {},
   "outputs": [
    {
     "data": {
      "text/plain": [
       "0.49122807017543857"
      ]
     },
     "execution_count": 227,
     "metadata": {},
     "output_type": "execute_result"
    }
   ],
   "source": [
    "metrics.accuracy_score(ytest, ypred)"
   ]
  },
  {
   "cell_type": "code",
   "execution_count": 229,
   "id": "b66f1123",
   "metadata": {},
   "outputs": [
    {
     "data": {
      "text/html": [
       "<div>\n",
       "<style scoped>\n",
       "    .dataframe tbody tr th:only-of-type {\n",
       "        vertical-align: middle;\n",
       "    }\n",
       "\n",
       "    .dataframe tbody tr th {\n",
       "        vertical-align: top;\n",
       "    }\n",
       "\n",
       "    .dataframe thead th {\n",
       "        text-align: right;\n",
       "    }\n",
       "</style>\n",
       "<table border=\"1\" class=\"dataframe\">\n",
       "  <thead>\n",
       "    <tr style=\"text-align: right;\">\n",
       "      <th></th>\n",
       "      <th>sepal_length</th>\n",
       "      <th>sepal_width</th>\n",
       "      <th>petal_length</th>\n",
       "      <th>petal_width</th>\n",
       "      <th>species</th>\n",
       "    </tr>\n",
       "  </thead>\n",
       "  <tbody>\n",
       "    <tr>\n",
       "      <th>0</th>\n",
       "      <td>5.1</td>\n",
       "      <td>3.5</td>\n",
       "      <td>1.4</td>\n",
       "      <td>0.2</td>\n",
       "      <td>setosa</td>\n",
       "    </tr>\n",
       "    <tr>\n",
       "      <th>1</th>\n",
       "      <td>4.9</td>\n",
       "      <td>3.0</td>\n",
       "      <td>1.4</td>\n",
       "      <td>0.2</td>\n",
       "      <td>setosa</td>\n",
       "    </tr>\n",
       "    <tr>\n",
       "      <th>2</th>\n",
       "      <td>4.7</td>\n",
       "      <td>3.2</td>\n",
       "      <td>1.3</td>\n",
       "      <td>0.2</td>\n",
       "      <td>setosa</td>\n",
       "    </tr>\n",
       "    <tr>\n",
       "      <th>3</th>\n",
       "      <td>4.6</td>\n",
       "      <td>3.1</td>\n",
       "      <td>1.5</td>\n",
       "      <td>0.2</td>\n",
       "      <td>setosa</td>\n",
       "    </tr>\n",
       "    <tr>\n",
       "      <th>4</th>\n",
       "      <td>5.0</td>\n",
       "      <td>3.6</td>\n",
       "      <td>1.4</td>\n",
       "      <td>0.2</td>\n",
       "      <td>setosa</td>\n",
       "    </tr>\n",
       "    <tr>\n",
       "      <th>...</th>\n",
       "      <td>...</td>\n",
       "      <td>...</td>\n",
       "      <td>...</td>\n",
       "      <td>...</td>\n",
       "      <td>...</td>\n",
       "    </tr>\n",
       "    <tr>\n",
       "      <th>145</th>\n",
       "      <td>6.7</td>\n",
       "      <td>3.0</td>\n",
       "      <td>5.2</td>\n",
       "      <td>2.3</td>\n",
       "      <td>virginica</td>\n",
       "    </tr>\n",
       "    <tr>\n",
       "      <th>146</th>\n",
       "      <td>6.3</td>\n",
       "      <td>2.5</td>\n",
       "      <td>5.0</td>\n",
       "      <td>1.9</td>\n",
       "      <td>virginica</td>\n",
       "    </tr>\n",
       "    <tr>\n",
       "      <th>147</th>\n",
       "      <td>6.5</td>\n",
       "      <td>3.0</td>\n",
       "      <td>5.2</td>\n",
       "      <td>2.0</td>\n",
       "      <td>virginica</td>\n",
       "    </tr>\n",
       "    <tr>\n",
       "      <th>148</th>\n",
       "      <td>6.2</td>\n",
       "      <td>3.4</td>\n",
       "      <td>5.4</td>\n",
       "      <td>2.3</td>\n",
       "      <td>virginica</td>\n",
       "    </tr>\n",
       "    <tr>\n",
       "      <th>149</th>\n",
       "      <td>5.9</td>\n",
       "      <td>3.0</td>\n",
       "      <td>5.1</td>\n",
       "      <td>1.8</td>\n",
       "      <td>virginica</td>\n",
       "    </tr>\n",
       "  </tbody>\n",
       "</table>\n",
       "<p>150 rows × 5 columns</p>\n",
       "</div>"
      ],
      "text/plain": [
       "     sepal_length  sepal_width  petal_length  petal_width    species\n",
       "0             5.1          3.5           1.4          0.2     setosa\n",
       "1             4.9          3.0           1.4          0.2     setosa\n",
       "2             4.7          3.2           1.3          0.2     setosa\n",
       "3             4.6          3.1           1.5          0.2     setosa\n",
       "4             5.0          3.6           1.4          0.2     setosa\n",
       "..            ...          ...           ...          ...        ...\n",
       "145           6.7          3.0           5.2          2.3  virginica\n",
       "146           6.3          2.5           5.0          1.9  virginica\n",
       "147           6.5          3.0           5.2          2.0  virginica\n",
       "148           6.2          3.4           5.4          2.3  virginica\n",
       "149           5.9          3.0           5.1          1.8  virginica\n",
       "\n",
       "[150 rows x 5 columns]"
      ]
     },
     "execution_count": 229,
     "metadata": {},
     "output_type": "execute_result"
    }
   ],
   "source": [
    "iris = sns.load_dataset('iris')\n",
    "iris"
   ]
  },
  {
   "cell_type": "code",
   "execution_count": 231,
   "id": "adb3f800",
   "metadata": {},
   "outputs": [],
   "source": [
    "X = iris.iloc[:,0:4]\n",
    "y=iris[['species']]"
   ]
  },
  {
   "cell_type": "code",
   "execution_count": 232,
   "id": "e992bcd5",
   "metadata": {},
   "outputs": [
    {
     "data": {
      "text/html": [
       "<div>\n",
       "<style scoped>\n",
       "    .dataframe tbody tr th:only-of-type {\n",
       "        vertical-align: middle;\n",
       "    }\n",
       "\n",
       "    .dataframe tbody tr th {\n",
       "        vertical-align: top;\n",
       "    }\n",
       "\n",
       "    .dataframe thead th {\n",
       "        text-align: right;\n",
       "    }\n",
       "</style>\n",
       "<table border=\"1\" class=\"dataframe\">\n",
       "  <thead>\n",
       "    <tr style=\"text-align: right;\">\n",
       "      <th></th>\n",
       "      <th>sepal_length</th>\n",
       "      <th>sepal_width</th>\n",
       "      <th>petal_length</th>\n",
       "      <th>petal_width</th>\n",
       "    </tr>\n",
       "  </thead>\n",
       "  <tbody>\n",
       "    <tr>\n",
       "      <th>0</th>\n",
       "      <td>5.1</td>\n",
       "      <td>3.5</td>\n",
       "      <td>1.4</td>\n",
       "      <td>0.2</td>\n",
       "    </tr>\n",
       "    <tr>\n",
       "      <th>1</th>\n",
       "      <td>4.9</td>\n",
       "      <td>3.0</td>\n",
       "      <td>1.4</td>\n",
       "      <td>0.2</td>\n",
       "    </tr>\n",
       "    <tr>\n",
       "      <th>2</th>\n",
       "      <td>4.7</td>\n",
       "      <td>3.2</td>\n",
       "      <td>1.3</td>\n",
       "      <td>0.2</td>\n",
       "    </tr>\n",
       "    <tr>\n",
       "      <th>3</th>\n",
       "      <td>4.6</td>\n",
       "      <td>3.1</td>\n",
       "      <td>1.5</td>\n",
       "      <td>0.2</td>\n",
       "    </tr>\n",
       "    <tr>\n",
       "      <th>4</th>\n",
       "      <td>5.0</td>\n",
       "      <td>3.6</td>\n",
       "      <td>1.4</td>\n",
       "      <td>0.2</td>\n",
       "    </tr>\n",
       "    <tr>\n",
       "      <th>...</th>\n",
       "      <td>...</td>\n",
       "      <td>...</td>\n",
       "      <td>...</td>\n",
       "      <td>...</td>\n",
       "    </tr>\n",
       "    <tr>\n",
       "      <th>145</th>\n",
       "      <td>6.7</td>\n",
       "      <td>3.0</td>\n",
       "      <td>5.2</td>\n",
       "      <td>2.3</td>\n",
       "    </tr>\n",
       "    <tr>\n",
       "      <th>146</th>\n",
       "      <td>6.3</td>\n",
       "      <td>2.5</td>\n",
       "      <td>5.0</td>\n",
       "      <td>1.9</td>\n",
       "    </tr>\n",
       "    <tr>\n",
       "      <th>147</th>\n",
       "      <td>6.5</td>\n",
       "      <td>3.0</td>\n",
       "      <td>5.2</td>\n",
       "      <td>2.0</td>\n",
       "    </tr>\n",
       "    <tr>\n",
       "      <th>148</th>\n",
       "      <td>6.2</td>\n",
       "      <td>3.4</td>\n",
       "      <td>5.4</td>\n",
       "      <td>2.3</td>\n",
       "    </tr>\n",
       "    <tr>\n",
       "      <th>149</th>\n",
       "      <td>5.9</td>\n",
       "      <td>3.0</td>\n",
       "      <td>5.1</td>\n",
       "      <td>1.8</td>\n",
       "    </tr>\n",
       "  </tbody>\n",
       "</table>\n",
       "<p>150 rows × 4 columns</p>\n",
       "</div>"
      ],
      "text/plain": [
       "     sepal_length  sepal_width  petal_length  petal_width\n",
       "0             5.1          3.5           1.4          0.2\n",
       "1             4.9          3.0           1.4          0.2\n",
       "2             4.7          3.2           1.3          0.2\n",
       "3             4.6          3.1           1.5          0.2\n",
       "4             5.0          3.6           1.4          0.2\n",
       "..            ...          ...           ...          ...\n",
       "145           6.7          3.0           5.2          2.3\n",
       "146           6.3          2.5           5.0          1.9\n",
       "147           6.5          3.0           5.2          2.0\n",
       "148           6.2          3.4           5.4          2.3\n",
       "149           5.9          3.0           5.1          1.8\n",
       "\n",
       "[150 rows x 4 columns]"
      ]
     },
     "execution_count": 232,
     "metadata": {},
     "output_type": "execute_result"
    }
   ],
   "source": []
  },
  {
   "cell_type": "code",
   "execution_count": 233,
   "id": "d09c4212",
   "metadata": {},
   "outputs": [],
   "source": [
    "Xtrain, Xtest, ytrain, ytest = train_test_split(X,y, test_size=0.20, random_state=1, stratify=y)"
   ]
  },
  {
   "cell_type": "code",
   "execution_count": 234,
   "id": "99a71e49",
   "metadata": {},
   "outputs": [],
   "source": [
    "alg = DecisionTreeClassifier()\n",
    "alg.fit(Xtrain, ytrain)\n",
    "ypred = alg.predict(Xtest)"
   ]
  },
  {
   "cell_type": "code",
   "execution_count": 236,
   "id": "a0f73c19",
   "metadata": {},
   "outputs": [],
   "source": [
    "conmat = metrics.confusion_matrix(ytest, ypred)"
   ]
  },
  {
   "cell_type": "code",
   "execution_count": 238,
   "id": "747844e3",
   "metadata": {},
   "outputs": [
    {
     "name": "stdout",
     "output_type": "stream",
     "text": [
      "              precision    recall  f1-score   support\n",
      "\n",
      "      setosa       1.00      1.00      1.00        10\n",
      "  versicolor       0.91      1.00      0.95        10\n",
      "   virginica       1.00      0.90      0.95        10\n",
      "\n",
      "    accuracy                           0.97        30\n",
      "   macro avg       0.97      0.97      0.97        30\n",
      "weighted avg       0.97      0.97      0.97        30\n",
      "\n"
     ]
    }
   ],
   "source": [
    "print(metrics.classification_report(ytest, ypred))"
   ]
  },
  {
   "cell_type": "code",
   "execution_count": 241,
   "id": "d370a4c3",
   "metadata": {},
   "outputs": [
    {
     "data": {
      "image/png": "[encoded data removed]",
      "text/plain": [
       "<Figure size 432x288 with 2 Axes>"
      ]
     },
     "metadata": {
      "needs_background": "light"
     },
     "output_type": "display_data"
    }
   ],
   "source": [
    "disp = metrics.ConfusionMatrixDisplay(conmat, display_labels=[\"setosa\",\"versicolor\",\"virginica\"])\n",
    "disp.plot()\n",
    "plt.show()\n"
   ]
  },
  {
   "cell_type": "code",
   "execution_count": null,
   "id": "858e2f19",
   "metadata": {},
   "outputs": [],
   "source": []
  }
 ],
 "metadata": {
  "kernelspec": {
   "display_name": "Python 3 (ipykernel)",
   "language": "python",
   "name": "python3"
  },
  "language_info": {
   "codemirror_mode": {
    "name": "ipython",
    "version": 3
   },
   "file_extension": ".py",
   "mimetype": "text/x-python",
   "name": "python",
   "nbconvert_exporter": "python",
   "pygments_lexer": "ipython3",
   "version": "3.9.9"
  }
 },
 "nbformat": 4,
 "nbformat_minor": 5
}
