{
 "cells": [
  {
   "cell_type": "markdown",
   "id": "a6f4065a",
   "metadata": {},
   "source": [
    "# Numpy Paketi"
   ]
  },
  {
   "cell_type": "code",
   "execution_count": 7,
   "id": "fa570b63",
   "metadata": {},
   "outputs": [],
   "source": [
    "import numpy as np"
   ]
  },
  {
   "cell_type": "code",
   "execution_count": 3,
   "id": "9646afb6",
   "metadata": {},
   "outputs": [],
   "source": [
    "liste = [5,8,78,96]"
   ]
  },
  {
   "cell_type": "code",
   "execution_count": 20,
   "id": "f83a666d",
   "metadata": {},
   "outputs": [],
   "source": [
    "not1 = np.array([12,78,78,12,45])\n",
    "not2 = np.array([12,58,41,12,45])"
   ]
  },
  {
   "cell_type": "code",
   "execution_count": 21,
   "id": "1850d89e",
   "metadata": {},
   "outputs": [
    {
     "data": {
      "text/plain": [
       "numpy.ndarray"
      ]
     },
     "execution_count": 21,
     "metadata": {},
     "output_type": "execute_result"
    }
   ],
   "source": [
    "type(not1)"
   ]
  },
  {
   "cell_type": "code",
   "execution_count": 26,
   "id": "8cdc4bb2",
   "metadata": {},
   "outputs": [
    {
     "data": {
      "text/plain": [
       "array([12. , 64. , 52.1, 12. , 45. ])"
      ]
     },
     "execution_count": 26,
     "metadata": {},
     "output_type": "execute_result"
    }
   ],
   "source": [
    "donem_sonu_notu = not1 *0.3 + not2*0.7\n",
    "donem_sonu_notu"
   ]
  },
  {
   "cell_type": "code",
   "execution_count": 28,
   "id": "495f3d66",
   "metadata": {},
   "outputs": [
    {
     "data": {
      "text/plain": [
       "array([False,  True,  True, False,  True])"
      ]
     },
     "execution_count": 28,
     "metadata": {},
     "output_type": "execute_result"
    }
   ],
   "source": [
    "donem_sonu_notu >= 45"
   ]
  },
  {
   "cell_type": "code",
   "execution_count": 30,
   "id": "cf6bf7c5",
   "metadata": {},
   "outputs": [
    {
     "data": {
      "text/plain": [
       "3"
      ]
     },
     "execution_count": 30,
     "metadata": {},
     "output_type": "execute_result"
    }
   ],
   "source": [
    "donem_sonu_notu[donem_sonu_notu >= 45]"
   ]
  },
  {
   "cell_type": "code",
   "execution_count": 127,
   "id": "52fa7156",
   "metadata": {},
   "outputs": [],
   "source": [
    "def sonuc(notu):\n",
    "    if notu < 45:\n",
    "        return \"Kaldı\"\n",
    "    else:\n",
    "        return \"Geçti\""
   ]
  },
  {
   "cell_type": "code",
   "execution_count": 131,
   "id": "e4a9a4cb",
   "metadata": {},
   "outputs": [],
   "source": [
    "sonuc_vectorized = np.vectorize(sonuc)"
   ]
  },
  {
   "cell_type": "code",
   "execution_count": 133,
   "id": "1fc82cb2",
   "metadata": {
    "collapsed": true
   },
   "outputs": [
    {
     "data": {
      "text/plain": [
       "array([19, 13, 50, 85, 21, 66, 93, 90, 92, 55, 15, 58, 32, 55, 81,  3, 67,\n",
       "       36, 32, 44, 85, 85, 94, 74, 11, 97, 48, 66, 87,  5, 82, 47, 42, 19,\n",
       "       94, 89, 74, 41, 51, 35, 16, 19, 25, 51, 48, 33, 87, 57, 24, 75, 87,\n",
       "       56, 65, 73, 37, 74, 45, 61, 83, 57,  5, 54, 42, 97, 19, 55,  5, 64,\n",
       "       58, 53, 10,  2, 90, 82, 92, 30,  8, 88, 50, 77, 65, 31, 59, 22, 66,\n",
       "       72, 93, 75, 64, 61, 43, 94, 50, 78, 25, 27, 45, 88, 53, 29, 61,  6,\n",
       "       10, 76, 25,  2, 81, 58, 77, 40, 17, 63, 93, 44, 64, 92, 83, 12, 71,\n",
       "        6, 20, 67, 28, 30, 47, 43, 53, 48, 59, 59, 68, 88, 92, 13, 65, 78,\n",
       "       65, 58, 52, 64, 80, 68, 44, 41, 64, 67, 39, 91, 79,  8, 59, 64, 19,\n",
       "       63, 15, 53, 77, 36,  8, 58, 99, 14, 55, 48, 54, 52, 12, 45, 87,  7,\n",
       "       38, 82, 60, 86, 35, 58, 66, 54, 56, 95, 54, 53, 79, 52, 68, 91, 81,\n",
       "       93, 90,  6, 70, 57, 26, 97, 27, 16, 12, 36,  3, 24, 45, 72, 74, 60,\n",
       "       37, 89, 21,  5, 29, 46, 53, 38, 99,  1, 64,  3, 92, 24,  5,  8, 35,\n",
       "       15, 42, 93, 43,  8, 28, 83, 39, 61,  6, 26, 27, 83, 83,  0, 74, 67,\n",
       "       72, 59, 93, 52, 94, 33, 88, 84, 22, 84,  6, 44, 12, 71, 18, 67, 94,\n",
       "       42, 24, 91, 85, 30, 25, 13, 38, 69, 98, 93, 95, 85, 66, 22, 89, 73,\n",
       "       67, 99, 77, 29, 29, 71, 10, 89, 59, 39,  2, 55, 19, 21, 15, 90, 45,\n",
       "       55, 82, 27,  8, 96, 29, 15, 43, 92, 67, 39, 85, 36, 35, 81, 69, 90,\n",
       "       11, 69, 87, 90, 65,  5, 81,  5, 60, 14, 36, 77, 27, 15, 77,  6, 37,\n",
       "       86, 98, 14, 20, 92, 85, 27, 66, 84, 60, 44, 32, 75, 40, 64, 69, 68,\n",
       "       33, 74, 74, 79, 46, 40, 24, 21, 86,  7, 63, 30, 34, 16, 46, 88, 98,\n",
       "       39,  9, 55, 41,  9, 90, 81, 25, 55, 47, 32, 89, 23, 85, 70, 10, 86,\n",
       "       96, 69, 80, 63, 67, 62, 13, 95, 47, 55, 80, 24, 33, 61, 17, 62, 23,\n",
       "       35, 68, 35, 63, 17, 16, 29, 98, 67, 88, 17, 17, 28, 77, 92, 64, 25,\n",
       "       73, 47, 76, 36, 92, 33, 20, 53, 61, 97,  6, 57, 74,  1, 68, 55, 49,\n",
       "       48, 34, 47,  3, 13, 49, 45, 49,  3, 87, 83, 90, 44, 61, 62, 33, 93,\n",
       "       11, 53,  6, 89, 93, 67, 51, 52,  5,  4, 42, 74, 59, 10, 20, 91, 59,\n",
       "       26, 12, 78, 53, 65, 61, 80, 32, 80, 71, 27, 33, 98,  2, 34, 12, 76,\n",
       "       92, 99, 30, 90, 13,  8, 95, 77, 62, 44, 18, 36,  0, 62, 19, 27, 16,\n",
       "       43, 37,  7, 75, 84, 23, 29, 62, 73, 23, 51, 94, 21,  2, 63, 37, 56,\n",
       "       60, 57,  8, 99, 33, 90, 69, 93, 79, 13, 55, 27, 90,  7,  0, 11, 97,\n",
       "       65, 53, 46, 70, 75, 55, 16,  7, 17, 76, 30, 28, 16, 65, 23, 48, 62,\n",
       "       72, 98, 12,  4, 61, 49,  3, 93, 26, 64, 46, 32, 33, 74, 80, 19, 24,\n",
       "       77, 66, 10, 22, 84, 87, 93, 19, 21, 30,  4, 40, 85, 12,  3,  3, 86,\n",
       "       15, 25, 99,  5, 41, 59, 83,  8, 43, 88, 17, 46, 92, 90, 31, 94, 89,\n",
       "       68, 12, 69, 83, 28, 25, 33, 36, 65,  7, 87, 21, 26, 96, 40,  8, 80,\n",
       "        0, 76, 20, 17, 81, 98, 40, 49,  4, 22, 74, 24, 49, 26, 74, 47, 18,\n",
       "       59, 76, 78, 53, 18, 93, 96, 57, 11,  6, 55, 85, 22, 28, 72, 59, 27,\n",
       "        6, 55, 79, 20, 53, 81, 77, 64, 71, 25, 38, 26, 64,  0, 11, 39, 17,\n",
       "       53, 58, 26, 77, 41, 26, 91, 37, 45, 73, 28,  1, 24, 16, 71, 24, 34,\n",
       "       32, 39, 31, 14, 76, 80, 21, 13, 93,  8, 97, 84,  8, 47, 17, 71, 91,\n",
       "        7, 60, 11, 63, 29, 43, 54, 91, 40, 34, 19, 68, 56, 80, 76, 77, 90,\n",
       "       81, 84, 65, 86, 27, 41, 72, 79,  1, 72, 36, 64, 77, 27, 62, 77, 35,\n",
       "        5, 84, 73, 72, 77, 30, 49, 75, 97, 58, 99, 57, 99, 68, 66, 27, 96,\n",
       "       68, 51, 70, 41, 85, 97, 87, 65, 77, 79, 36, 73, 61, 78, 55, 20, 41,\n",
       "       99, 70,  7, 25, 49, 61, 39, 65, 24, 90, 72,  0, 30,  5, 64,  5, 84,\n",
       "       41, 81, 14, 69, 94, 38, 13, 99, 98, 68, 76, 57, 91, 71, 66, 21,  5,\n",
       "       42, 69,  5, 70, 11, 44, 49, 84, 92, 14, 15,  9,  9, 44, 38, 61, 66,\n",
       "       28, 11, 88, 82, 11, 65, 85, 80, 52, 60, 54, 94,  4, 36, 54, 57,  1,\n",
       "        4, 75, 74,  6, 56, 40, 33, 63, 16, 81, 65,  5, 97,  4, 99, 37, 37,\n",
       "       65, 79, 90, 60, 51,  4, 79, 31, 75, 51, 68, 79, 18, 42, 18, 26, 87,\n",
       "       61, 78, 12, 13, 69, 93, 42,  3, 87,  7, 65, 67, 90, 82, 51, 57, 73,\n",
       "        2, 49, 89, 84, 19, 48, 58, 54,  1, 44, 56, 43, 83,  3, 52, 33, 80,\n",
       "       21, 62, 86, 56, 91, 75, 26, 92, 57, 60, 43, 27, 80, 68,  7,  3, 76,\n",
       "        6, 69, 56, 11, 64, 83, 57, 67, 64, 84, 74, 86, 35, 12, 58, 10, 51,\n",
       "       38,  5, 95, 95, 79, 42, 77, 19, 53, 54, 42, 34, 26,  9,  8, 48, 70,\n",
       "       93, 98, 65, 31, 43, 22, 49, 27, 26, 63,  6, 89, 81, 76, 35, 54, 10,\n",
       "       84, 27, 13, 93, 27, 39, 27,  1, 71, 31, 21, 29, 98, 31, 90, 90, 43,\n",
       "       59, 45, 37, 42, 67, 88, 48, 21, 86, 23, 33,  9, 91,  1])"
      ]
     },
     "execution_count": 133,
     "metadata": {},
     "output_type": "execute_result"
    }
   ],
   "source": [
    "sonuc_listesi = np.random.randint(0,100, 1000)\n",
    "sonuc_listesi"
   ]
  },
  {
   "cell_type": "code",
   "execution_count": 136,
   "id": "7810a46e",
   "metadata": {},
   "outputs": [
    {
     "data": {
      "text/plain": [
       "numpy.ndarray"
      ]
     },
     "execution_count": 136,
     "metadata": {},
     "output_type": "execute_result"
    }
   ],
   "source": [
    "son_liste= sonuc_vectorized(sonuc_listesi)\n",
    "type(son_liste)"
   ]
  },
  {
   "cell_type": "code",
   "execution_count": 138,
   "id": "ae6c6469",
   "metadata": {},
   "outputs": [
    {
     "data": {
      "text/plain": [
       "array([3.46410162, 8.        , 7.21803297, 3.46410162, 6.70820393])"
      ]
     },
     "execution_count": 138,
     "metadata": {},
     "output_type": "execute_result"
    }
   ],
   "source": [
    "son_liste[son_liste == \"Geçti\"]\n",
    "np.sqrt(donem_sonu_notu)"
   ]
  },
  {
   "cell_type": "code",
   "execution_count": 34,
   "id": "505f47d6",
   "metadata": {},
   "outputs": [
    {
     "name": "stdout",
     "output_type": "stream",
     "text": [
      "[2000 2003 2006 2009 2012 2015 2018]\n"
     ]
    },
    {
     "data": {
      "text/plain": [
       "array([-5.        , -4.47368421, -3.94736842, -3.42105263, -2.89473684,\n",
       "       -2.36842105, -1.84210526, -1.31578947, -0.78947368, -0.26315789,\n",
       "        0.26315789,  0.78947368,  1.31578947,  1.84210526,  2.36842105,\n",
       "        2.89473684,  3.42105263,  3.94736842,  4.47368421,  5.        ])"
      ]
     },
     "execution_count": 34,
     "metadata": {},
     "output_type": "execute_result"
    }
   ],
   "source": [
    "print(np.arange(2000, 2021, 3))\n",
    "np.linspace(-5,5,20)"
   ]
  },
  {
   "cell_type": "code",
   "execution_count": 36,
   "id": "08a394a4",
   "metadata": {},
   "outputs": [
    {
     "data": {
      "text/plain": [
       "array([[25, 54, 78],\n",
       "       [85, 65, 87],\n",
       "       [ 0, 45, 79]])"
      ]
     },
     "execution_count": 36,
     "metadata": {},
     "output_type": "execute_result"
    }
   ],
   "source": [
    "dizi_2d = np.array([[25,54,78],[85,65,87],[0,45,79]])\n",
    "dizi_2d"
   ]
  },
  {
   "cell_type": "code",
   "execution_count": 44,
   "id": "c18d8d1b",
   "metadata": {},
   "outputs": [
    {
     "data": {
      "text/plain": [
       "81.33333333333333"
      ]
     },
     "execution_count": 44,
     "metadata": {},
     "output_type": "execute_result"
    }
   ],
   "source": [
    "dizi_2d[:,2]"
   ]
  },
  {
   "cell_type": "code",
   "execution_count": 51,
   "id": "ff573bb5",
   "metadata": {},
   "outputs": [
    {
     "data": {
      "text/plain": [
       "array([[79, 70, 25, 70],\n",
       "       [ 4, 43, 60, 16],\n",
       "       [95, 56, 15, 55],\n",
       "       [69, 21, 39,  3],\n",
       "       [58, 52, 71, 87],\n",
       "       [39, 95, 39, 37],\n",
       "       [81, 64, 59,  5],\n",
       "       [19, 48, 14, 46],\n",
       "       [53, 40, 86, 80],\n",
       "       [ 7, 68, 10,  7]])"
      ]
     },
     "execution_count": 51,
     "metadata": {},
     "output_type": "execute_result"
    }
   ],
   "source": [
    "dizi = np.random.randint(1,100, 40).reshape(10,4)\n",
    "dizi"
   ]
  },
  {
   "cell_type": "code",
   "execution_count": 57,
   "id": "2be148c5",
   "metadata": {
    "collapsed": true
   },
   "outputs": [
    {
     "data": {
      "text/plain": [
       "array([244, 123, 221, 132, 268, 210, 209, 127, 259,  92])"
      ]
     },
     "execution_count": 57,
     "metadata": {},
     "output_type": "execute_result"
    }
   ],
   "source": [
    "dizi.sum(axis=0) # 0 : Sütun 1: Satır"
   ]
  },
  {
   "cell_type": "code",
   "execution_count": 60,
   "id": "cabb2a83",
   "metadata": {
    "collapsed": true
   },
   "outputs": [
    {
     "data": {
      "text/plain": [
       "array([[ 79, 149, 174, 244],\n",
       "       [  4,  47, 107, 123],\n",
       "       [ 95, 151, 166, 221],\n",
       "       [ 69,  90, 129, 132],\n",
       "       [ 58, 110, 181, 268],\n",
       "       [ 39, 134, 173, 210],\n",
       "       [ 81, 145, 204, 209],\n",
       "       [ 19,  67,  81, 127],\n",
       "       [ 53,  93, 179, 259],\n",
       "       [  7,  75,  85,  92]], dtype=int32)"
      ]
     },
     "execution_count": 60,
     "metadata": {},
     "output_type": "execute_result"
    }
   ],
   "source": [
    "dizi.cumsum(axis = 1)"
   ]
  },
  {
   "cell_type": "code",
   "execution_count": 67,
   "id": "ef533d13",
   "metadata": {},
   "outputs": [
    {
     "data": {
      "text/plain": [
       "array([91, 74, 76, 84])"
      ]
     },
     "execution_count": 67,
     "metadata": {},
     "output_type": "execute_result"
    }
   ],
   "source": [
    "dizi.ptp(0)"
   ]
  },
  {
   "cell_type": "code",
   "execution_count": 70,
   "id": "a6f7fdf2",
   "metadata": {},
   "outputs": [
    {
     "data": {
      "text/plain": [
       "array([[ 7, 33, 97, 63],\n",
       "       [ 9, 24, 33, 72],\n",
       "       [18, 83, 60, 25],\n",
       "       [32, 63, 24, 22],\n",
       "       [26, 61, 70, 49],\n",
       "       [55,  6, 91, 95],\n",
       "       [38, 83, 84, 51],\n",
       "       [88, 43, 21, 20],\n",
       "       [83, 41, 55, 86],\n",
       "       [92, 78, 38, 41]])"
      ]
     },
     "execution_count": 70,
     "metadata": {},
     "output_type": "execute_result"
    }
   ],
   "source": [
    "dizi2 = np.random.randint(1,100, 40).reshape(10,4)\n",
    "dizi2"
   ]
  },
  {
   "cell_type": "code",
   "execution_count": 73,
   "id": "f9260576",
   "metadata": {},
   "outputs": [
    {
     "data": {
      "text/plain": [
       "array([[ 553, 2310, 2425, 4410],\n",
       "       [  36, 1032, 1980, 1152],\n",
       "       [1710, 4648,  900, 1375],\n",
       "       [2208, 1323,  936,   66],\n",
       "       [1508, 3172, 4970, 4263],\n",
       "       [2145,  570, 3549, 3515],\n",
       "       [3078, 5312, 4956,  255],\n",
       "       [1672, 2064,  294,  920],\n",
       "       [4399, 1640, 4730, 6880],\n",
       "       [ 644, 5304,  380,  287]])"
      ]
     },
     "execution_count": 73,
     "metadata": {},
     "output_type": "execute_result"
    }
   ],
   "source": [
    "dizi * dizi2"
   ]
  },
  {
   "cell_type": "code",
   "execution_count": 80,
   "id": "6f12a058",
   "metadata": {},
   "outputs": [
    {
     "data": {
      "text/plain": [
       "array([95, 70, 71, 87])"
      ]
     },
     "execution_count": 80,
     "metadata": {},
     "output_type": "execute_result"
    }
   ],
   "source": [
    "np.max(dizi[0:5,:], axis = 0)"
   ]
  },
  {
   "cell_type": "code",
   "execution_count": 82,
   "id": "e45d647a",
   "metadata": {},
   "outputs": [
    {
     "data": {
      "text/plain": [
       "array([[79, 70, 25, 70],\n",
       "       [ 4, 43, 60, 16],\n",
       "       [95, 56, 15, 55],\n",
       "       [69, 21, 39,  3],\n",
       "       [58, 52, 71, 87],\n",
       "       [39, 95, 39, 37],\n",
       "       [81, 64, 59,  5],\n",
       "       [19, 48, 14, 46],\n",
       "       [53, 40, 86, 80],\n",
       "       [ 7, 68, 10,  7]])"
      ]
     },
     "execution_count": 82,
     "metadata": {},
     "output_type": "execute_result"
    }
   ],
   "source": [
    "dizi"
   ]
  },
  {
   "cell_type": "code",
   "execution_count": 89,
   "id": "46ea68f2",
   "metadata": {},
   "outputs": [
    {
     "data": {
      "text/plain": [
       "array([[79, 70],\n",
       "       [58, 52]])"
      ]
     },
     "execution_count": 89,
     "metadata": {},
     "output_type": "execute_result"
    }
   ],
   "source": [
    "dizi[[0,4], 0:2]"
   ]
  },
  {
   "cell_type": "code",
   "execution_count": 97,
   "id": "fee7505c",
   "metadata": {},
   "outputs": [],
   "source": [
    "np.std(dizi[0,:])\n",
    "liste1 = np.array([0,1,0,2,3,0])\n",
    "liste2 = np.array([-10, 10, -10, 10, 6, 0])"
   ]
  },
  {
   "cell_type": "code",
   "execution_count": 103,
   "id": "17f40077",
   "metadata": {},
   "outputs": [
    {
     "data": {
      "text/plain": [
       "1.0"
      ]
     },
     "execution_count": 103,
     "metadata": {},
     "output_type": "execute_result"
    }
   ],
   "source": [
    "np.mean(liste2)\n"
   ]
  },
  {
   "cell_type": "code",
   "execution_count": 106,
   "id": "0c40e6e8",
   "metadata": {},
   "outputs": [
    {
     "data": {
      "text/plain": [
       "array([[ 1.        , -0.03237583],\n",
       "       [-0.03237583,  1.        ]])"
      ]
     },
     "execution_count": 106,
     "metadata": {},
     "output_type": "execute_result"
    }
   ],
   "source": [
    "np.corrcoef(dizi[:,0], dizi[:,1]) #(fonksiyon, metodlar)"
   ]
  },
  {
   "cell_type": "code",
   "execution_count": 118,
   "id": "0cfe581c",
   "metadata": {},
   "outputs": [],
   "source": [
    "matrix1 = np.random.randint(1,100, 24).reshape(4,6)\n",
    "matrix2 = np.random.randint(1,100, 36).reshape(6,6)"
   ]
  },
  {
   "cell_type": "code",
   "execution_count": 126,
   "id": "622573fb",
   "metadata": {},
   "outputs": [
    {
     "data": {
      "text/plain": [
       "array([[77, 38, 50, 82, 30, 44],\n",
       "       [87, 46, 38, 49, 71, 81],\n",
       "       [58, 80, 40, 18, 44, 93],\n",
       "       [65, 21, 70, 23, 20, 50]])"
      ]
     },
     "execution_count": 126,
     "metadata": {},
     "output_type": "execute_result"
    }
   ],
   "source": [
    "np.concatenate((matrix1, matrix2), axis = 0)\n",
    "matrix1"
   ]
  },
  {
   "cell_type": "code",
   "execution_count": null,
   "id": "f9d15e33",
   "metadata": {},
   "outputs": [],
   "source": []
  }
 ],
 "metadata": {
  "kernelspec": {
   "display_name": "Python 3 (ipykernel)",
   "language": "python",
   "name": "python3"
  },
  "language_info": {
   "codemirror_mode": {
    "name": "ipython",
    "version": 3
   },
   "file_extension": ".py",
   "mimetype": "text/x-python",
   "name": "python",
   "nbconvert_exporter": "python",
   "pygments_lexer": "ipython3",
   "version": "3.9.9"
  }
 },
 "nbformat": 4,
 "nbformat_minor": 5
}
