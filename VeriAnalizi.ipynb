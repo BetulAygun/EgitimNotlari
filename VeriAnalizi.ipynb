{
 "cells": [
  {
   "cell_type": "code",
   "execution_count": 162,
   "id": "660fb2ad",
   "metadata": {},
   "outputs": [],
   "source": [
    "import pandas as pd\n",
    "import numpy as np\n",
    "import matplotlib.pyplot as plt\n",
    "import seaborn as sns\n",
    "from sklearn.impute import SimpleImputer, KNNImputer\n",
    "from sklearn import preprocessing\n",
    "from sklearn.preprocessing import StandardScaler, RobustScaler, MinMaxScaler\n",
    "from sklearn.cluster import AgglomerativeClustering, DBSCAN, KMeans\n",
    "from sklearn.model_selection import train_test_split, GridSearchCV\n",
    "from sklearn.feature_selection import RFE\n",
    "from sklearn.tree import DecisionTreeClassifier, DecisionTreeRegressor\n",
    "from sklearn.metrics import accuracy_score, confusion_matrix, recall_score, precision_score, f1_score\n",
    "from sklearn import metrics\n",
    "from sklearn.linear_model import LogisticRegression, LinearRegression\n",
    "from sklearn.svm import SVC, SVR\n",
    "from sklearn.neural_network import MLPClassifier, MLPRegressor\n",
    "from sklearn.ensemble import RandomForestClassifier, RandomForestRegressor \n",
    "from sklearn.naive_bayes import GaussianNB\n"
   ]
  },
  {
   "cell_type": "code",
   "execution_count": null,
   "id": "7b67843b",
   "metadata": {},
   "outputs": [],
   "source": []
  },
  {
   "cell_type": "code",
   "execution_count": 4,
   "id": "c97c6b67",
   "metadata": {},
   "outputs": [],
   "source": [
    "nba = pd.read_csv(\"nba.csv\")"
   ]
  },
  {
   "cell_type": "code",
   "execution_count": 5,
   "id": "2b29db9a",
   "metadata": {},
   "outputs": [
    {
     "name": "stdout",
     "output_type": "stream",
     "text": [
      "<class 'pandas.core.frame.DataFrame'>\n",
      "RangeIndex: 457 entries, 0 to 456\n",
      "Data columns (total 8 columns):\n",
      " #   Column    Non-Null Count  Dtype  \n",
      "---  ------    --------------  -----  \n",
      " 0   Name      457 non-null    object \n",
      " 1   Team      457 non-null    object \n",
      " 2   Number    457 non-null    int64  \n",
      " 3   Position  457 non-null    object \n",
      " 4   Age       457 non-null    int64  \n",
      " 5   Height    457 non-null    int64  \n",
      " 6   College   373 non-null    object \n",
      " 7   Salary    446 non-null    float64\n",
      "dtypes: float64(1), int64(3), object(4)\n",
      "memory usage: 28.7+ KB\n"
     ]
    }
   ],
   "source": [
    "nba.info()"
   ]
  },
  {
   "cell_type": "code",
   "execution_count": 6,
   "id": "95301a5e",
   "metadata": {
    "scrolled": true
   },
   "outputs": [
    {
     "data": {
      "text/html": [
       "<div>\n",
       "<style scoped>\n",
       "    .dataframe tbody tr th:only-of-type {\n",
       "        vertical-align: middle;\n",
       "    }\n",
       "\n",
       "    .dataframe tbody tr th {\n",
       "        vertical-align: top;\n",
       "    }\n",
       "\n",
       "    .dataframe thead th {\n",
       "        text-align: right;\n",
       "    }\n",
       "</style>\n",
       "<table border=\"1\" class=\"dataframe\">\n",
       "  <thead>\n",
       "    <tr style=\"text-align: right;\">\n",
       "      <th></th>\n",
       "      <th>Name</th>\n",
       "      <th>Team</th>\n",
       "      <th>Number</th>\n",
       "      <th>Position</th>\n",
       "      <th>Age</th>\n",
       "      <th>Height</th>\n",
       "      <th>College</th>\n",
       "      <th>Salary</th>\n",
       "    </tr>\n",
       "  </thead>\n",
       "  <tbody>\n",
       "    <tr>\n",
       "      <th>0</th>\n",
       "      <td>Avery Bradley</td>\n",
       "      <td>Boston Celtics</td>\n",
       "      <td>0</td>\n",
       "      <td>PG</td>\n",
       "      <td>25</td>\n",
       "      <td>180</td>\n",
       "      <td>Texas</td>\n",
       "      <td>7730337.0</td>\n",
       "    </tr>\n",
       "    <tr>\n",
       "      <th>1</th>\n",
       "      <td>Jae Crowder</td>\n",
       "      <td>Boston Celtics</td>\n",
       "      <td>99</td>\n",
       "      <td>SF</td>\n",
       "      <td>25</td>\n",
       "      <td>235</td>\n",
       "      <td>Marquette</td>\n",
       "      <td>6796117.0</td>\n",
       "    </tr>\n",
       "    <tr>\n",
       "      <th>2</th>\n",
       "      <td>John Holland</td>\n",
       "      <td>Boston Celtics</td>\n",
       "      <td>30</td>\n",
       "      <td>SG</td>\n",
       "      <td>27</td>\n",
       "      <td>205</td>\n",
       "      <td>Boston University</td>\n",
       "      <td>NaN</td>\n",
       "    </tr>\n",
       "    <tr>\n",
       "      <th>3</th>\n",
       "      <td>R.J. Hunter</td>\n",
       "      <td>Boston Celtics</td>\n",
       "      <td>28</td>\n",
       "      <td>SG</td>\n",
       "      <td>22</td>\n",
       "      <td>185</td>\n",
       "      <td>Georgia State</td>\n",
       "      <td>1148640.0</td>\n",
       "    </tr>\n",
       "    <tr>\n",
       "      <th>4</th>\n",
       "      <td>Jonas Jerebko</td>\n",
       "      <td>Boston Celtics</td>\n",
       "      <td>8</td>\n",
       "      <td>PF</td>\n",
       "      <td>29</td>\n",
       "      <td>231</td>\n",
       "      <td>NaN</td>\n",
       "      <td>5000000.0</td>\n",
       "    </tr>\n",
       "  </tbody>\n",
       "</table>\n",
       "</div>"
      ],
      "text/plain": [
       "            Name            Team  Number Position  Age  Height  \\\n",
       "0  Avery Bradley  Boston Celtics       0       PG   25     180   \n",
       "1    Jae Crowder  Boston Celtics      99       SF   25     235   \n",
       "2   John Holland  Boston Celtics      30       SG   27     205   \n",
       "3    R.J. Hunter  Boston Celtics      28       SG   22     185   \n",
       "4  Jonas Jerebko  Boston Celtics       8       PF   29     231   \n",
       "\n",
       "             College     Salary  \n",
       "0              Texas  7730337.0  \n",
       "1          Marquette  6796117.0  \n",
       "2  Boston University        NaN  \n",
       "3      Georgia State  1148640.0  \n",
       "4                NaN  5000000.0  "
      ]
     },
     "execution_count": 6,
     "metadata": {},
     "output_type": "execute_result"
    }
   ],
   "source": [
    "nba.head()"
   ]
  },
  {
   "cell_type": "code",
   "execution_count": 7,
   "id": "b8350d36",
   "metadata": {},
   "outputs": [
    {
     "data": {
      "text/plain": [
       "Salary    4.842684e+06\n",
       "dtype: float64"
      ]
     },
     "execution_count": 7,
     "metadata": {},
     "output_type": "execute_result"
    }
   ],
   "source": [
    "nba[[\"Salary\"]].mean()"
   ]
  },
  {
   "cell_type": "code",
   "execution_count": 8,
   "id": "cce3c8c1",
   "metadata": {},
   "outputs": [
    {
     "data": {
      "text/plain": [
       "array([[<AxesSubplot:title={'center':'Number'}>,\n",
       "        <AxesSubplot:title={'center':'Age'}>],\n",
       "       [<AxesSubplot:title={'center':'Height'}>,\n",
       "        <AxesSubplot:title={'center':'Salary'}>]], dtype=object)"
      ]
     },
     "execution_count": 8,
     "metadata": {},
     "output_type": "execute_result"
    },
    {
     "data": {
      "image/png": "[encoded data removed]",
      "text/plain": [
       "<Figure size 432x288 with 4 Axes>"
      ]
     },
     "metadata": {
      "needs_background": "light"
     },
     "output_type": "display_data"
    }
   ],
   "source": [
    "nba.hist()"
   ]
  },
  {
   "cell_type": "code",
   "execution_count": 9,
   "id": "d61d953b",
   "metadata": {},
   "outputs": [
    {
     "data": {
      "text/plain": [
       "<AxesSubplot:>"
      ]
     },
     "execution_count": 9,
     "metadata": {},
     "output_type": "execute_result"
    },
    {
     "data": {
      "image/png": "[encoded data removed]",
      "text/plain": [
       "<Figure size 432x288 with 1 Axes>"
      ]
     },
     "metadata": {
      "needs_background": "light"
     },
     "output_type": "display_data"
    }
   ],
   "source": [
    "nba[[\"Salary\"]].boxplot()"
   ]
  },
  {
   "cell_type": "code",
   "execution_count": 10,
   "id": "493327ec",
   "metadata": {},
   "outputs": [],
   "source": [
    "simp = SimpleImputer(strategy='median')"
   ]
  },
  {
   "cell_type": "code",
   "execution_count": 11,
   "id": "48a4099e",
   "metadata": {},
   "outputs": [
    {
     "data": {
      "text/plain": [
       "SimpleImputer(strategy='median')"
      ]
     },
     "execution_count": 11,
     "metadata": {},
     "output_type": "execute_result"
    }
   ],
   "source": [
    "simp.fit(nba[[\"Salary\"]])"
   ]
  },
  {
   "cell_type": "code",
   "execution_count": 12,
   "id": "e7bca0c8",
   "metadata": {},
   "outputs": [
    {
     "data": {
      "text/plain": [
       "array([[ 7730337.],\n",
       "       [ 6796117.],\n",
       "       [ 2839073.],\n",
       "       [ 1148640.],\n",
       "       [ 5000000.],\n",
       "       [12000000.],\n",
       "       [ 1170960.],\n",
       "       [ 2165160.],\n",
       "       [ 1824360.],\n",
       "       [ 3431040.],\n",
       "       [ 2569260.],\n",
       "       [ 6912869.],\n",
       "       [ 3425510.],\n",
       "       [ 1749840.],\n",
       "       [ 2616975.],\n",
       "       [ 3425510.],\n",
       "       [  845059.],\n",
       "       [ 1500000.],\n",
       "       [ 1335480.],\n",
       "       [ 6300000.],\n",
       "       [ 1599840.],\n",
       "       [  134215.],\n",
       "       [ 1500000.],\n",
       "       [19689000.],\n",
       "       [ 1140240.],\n",
       "       [  947276.],\n",
       "       [  981348.],\n",
       "       [  947276.],\n",
       "       [  947276.],\n",
       "       [11235955.],\n",
       "       [ 8000000.],\n",
       "       [ 1635476.],\n",
       "       [   30888.],\n",
       "       [22875000.],\n",
       "       [ 7402812.],\n",
       "       [  845059.],\n",
       "       [  845059.],\n",
       "       [ 1572360.],\n",
       "       [12650000.],\n",
       "       [ 3750000.],\n",
       "       [ 4131720.],\n",
       "       [ 2814000.],\n",
       "       [ 1636842.],\n",
       "       [  947276.],\n",
       "       [ 4000000.],\n",
       "       [  167406.],\n",
       "       [ 2839073.],\n",
       "       [  947276.],\n",
       "       [ 1000000.],\n",
       "       [ 4626960.],\n",
       "       [  845059.],\n",
       "       [ 1074169.],\n",
       "       [ 6500000.],\n",
       "       [ 2144772.],\n",
       "       [  525093.],\n",
       "       [ 3457800.],\n",
       "       [ 4582680.],\n",
       "       [  947276.],\n",
       "       [ 2869440.],\n",
       "       [  947276.],\n",
       "       [  525093.],\n",
       "       [ 2814000.],\n",
       "       [ 1524000.],\n",
       "       [13600000.],\n",
       "       [10050000.],\n",
       "       [ 2500000.],\n",
       "       [ 7000000.],\n",
       "       [12000000.],\n",
       "       [ 1842000.],\n",
       "       [ 6268675.],\n",
       "       [  650000.],\n",
       "       [ 3553917.],\n",
       "       [ 2900000.],\n",
       "       [  245177.],\n",
       "       [ 4660482.],\n",
       "       [ 1509360.],\n",
       "       [ 2500000.],\n",
       "       [ 3873398.],\n",
       "       [13800000.],\n",
       "       [  947276.],\n",
       "       [11370786.],\n",
       "       [ 2008748.],\n",
       "       [14260870.],\n",
       "       [11710456.],\n",
       "       [ 5543725.],\n",
       "       [ 1131960.],\n",
       "       [  845059.],\n",
       "       [ 1270964.],\n",
       "       [ 3815000.],\n",
       "       [15501000.],\n",
       "       [  289755.],\n",
       "       [ 1100602.],\n",
       "       [  111444.],\n",
       "       [ 5675000.],\n",
       "       [  525093.],\n",
       "       [ 9650000.],\n",
       "       [18907726.],\n",
       "       [ 1100602.],\n",
       "       [19689000.],\n",
       "       [  947276.],\n",
       "       [21468695.],\n",
       "       [ 3376000.],\n",
       "       [  947726.],\n",
       "       [ 7085000.],\n",
       "       [ 3110796.],\n",
       "       [ 1159680.],\n",
       "       [ 3000000.],\n",
       "       [  845059.],\n",
       "       [  700000.],\n",
       "       [25000000.],\n",
       "       [  845059.],\n",
       "       [15592217.],\n",
       "       [  525093.],\n",
       "       [ 1724250.],\n",
       "       [ 1155600.],\n",
       "       [ 3132240.],\n",
       "       [ 5103120.],\n",
       "       [  981348.],\n",
       "       [ 7000000.],\n",
       "       [  947276.],\n",
       "       [ 5219169.],\n",
       "       [13500000.],\n",
       "       [ 2127840.],\n",
       "       [  206192.],\n",
       "       [13000000.],\n",
       "       [ 1160160.],\n",
       "       [  981348.],\n",
       "       [13500000.],\n",
       "       [ 3807120.],\n",
       "       [ 1035000.],\n",
       "       [   55722.],\n",
       "       [  947276.],\n",
       "       [ 5500000.],\n",
       "       [ 5500000.],\n",
       "       [ 2041080.],\n",
       "       [   83397.],\n",
       "       [  981348.],\n",
       "       [ 1015421.],\n",
       "       [ 6060606.],\n",
       "       [ 1449187.],\n",
       "       [ 2836186.],\n",
       "       [ 3398280.],\n",
       "       [ 5013559.],\n",
       "       [15851950.],\n",
       "       [  947276.],\n",
       "       [  525093.],\n",
       "       [12403101.],\n",
       "       [ 7700000.],\n",
       "       [ 3156600.],\n",
       "       [  845059.],\n",
       "       [ 9500000.],\n",
       "       [  845059.],\n",
       "       [ 2250000.],\n",
       "       [16407500.],\n",
       "       [ 4500000.],\n",
       "       [  525093.],\n",
       "       [ 7448760.],\n",
       "       [ 8500000.],\n",
       "       [  947276.],\n",
       "       [ 2380440.],\n",
       "       [ 5543725.],\n",
       "       [ 1015421.],\n",
       "       [13400000.],\n",
       "       [ 1391160.],\n",
       "       [20093064.],\n",
       "       [ 1535880.],\n",
       "       [ 1147276.],\n",
       "       [ 8193029.],\n",
       "       [16407501.],\n",
       "       [22970500.],\n",
       "       [  947276.],\n",
       "       [ 2839073.],\n",
       "       [  947276.],\n",
       "       [ 1276000.],\n",
       "       [19689000.],\n",
       "       [  111196.],\n",
       "       [ 4950000.],\n",
       "       [ 8988765.],\n",
       "       [ 5000000.],\n",
       "       [14260870.],\n",
       "       [ 2100000.],\n",
       "       [ 2500000.],\n",
       "       [ 6500000.],\n",
       "       [ 2170465.],\n",
       "       [  111444.],\n",
       "       [ 1252440.],\n",
       "       [ 2891760.],\n",
       "       [  845059.],\n",
       "       [ 3272091.],\n",
       "       [16000000.],\n",
       "       [  600000.],\n",
       "       [13913044.],\n",
       "       [ 2841960.],\n",
       "       [ 6270000.],\n",
       "       [ 5000000.],\n",
       "       [ 3000000.],\n",
       "       [ 4050000.],\n",
       "       [ 1007026.],\n",
       "       [10300000.],\n",
       "       [17120106.],\n",
       "       [ 8000000.],\n",
       "       [ 4000000.],\n",
       "       [ 1358880.],\n",
       "       [  211744.],\n",
       "       [ 4000000.],\n",
       "       [ 4394225.],\n",
       "       [ 1100000.],\n",
       "       [ 7000000.],\n",
       "       [ 2357760.],\n",
       "       [  845059.],\n",
       "       [ 1007026.],\n",
       "       [ 1953960.],\n",
       "       [ 3000000.],\n",
       "       [ 2399040.],\n",
       "       [  947276.],\n",
       "       [ 1662360.],\n",
       "       [ 2943221.],\n",
       "       [  855000.],\n",
       "       [ 8000000.],\n",
       "       [14700000.],\n",
       "       [16407500.],\n",
       "       [  295327.],\n",
       "       [  845059.],\n",
       "       [ 5152440.],\n",
       "       [ 2109294.],\n",
       "       [ 6600000.],\n",
       "       [ 1733040.],\n",
       "       [ 1449000.],\n",
       "       [ 4290000.],\n",
       "       [ 1100602.],\n",
       "       [ 3950313.],\n",
       "       [ 4053446.],\n",
       "       [ 2085671.],\n",
       "       [16407500.],\n",
       "       [ 1270964.],\n",
       "       [  525093.],\n",
       "       [ 8333334.],\n",
       "       [ 5200000.],\n",
       "       [15361500.],\n",
       "       [  845059.],\n",
       "       [  947276.],\n",
       "       [ 5378974.],\n",
       "       [ 8193030.],\n",
       "       [  306527.],\n",
       "       [ 6486486.],\n",
       "       [ 8229375.],\n",
       "       [ 1242720.],\n",
       "       [ 1646400.],\n",
       "       [  200600.],\n",
       "       [15756438.],\n",
       "       [ 1000000.],\n",
       "       [22359364.],\n",
       "       [ 2489530.],\n",
       "       [ 3189794.],\n",
       "       [ 2288205.],\n",
       "       [  947276.],\n",
       "       [  947276.],\n",
       "       [ 1404600.],\n",
       "       [ 5158539.],\n",
       "       [ 5000000.],\n",
       "       [ 3542500.],\n",
       "       [ 4088019.],\n",
       "       [ 9588426.],\n",
       "       [  700902.],\n",
       "       [ 2839073.],\n",
       "       [19688000.],\n",
       "       [  845059.],\n",
       "       [ 1201440.],\n",
       "       [ 1230840.],\n",
       "       [ 2839073.],\n",
       "       [ 2839073.],\n",
       "       [ 9638555.],\n",
       "       [ 9000000.],\n",
       "       [ 2839073.],\n",
       "       [ 5464000.],\n",
       "       [ 4389607.],\n",
       "       [ 8500000.],\n",
       "       [ 9213483.],\n",
       "       [ 1100602.],\n",
       "       [ 3036927.],\n",
       "       [ 2850000.],\n",
       "       [ 7070730.],\n",
       "       [  169883.],\n",
       "       [ 1164858.],\n",
       "       [  845059.],\n",
       "       [10734586.],\n",
       "       [  845059.],\n",
       "       [ 1320000.],\n",
       "       [15514031.],\n",
       "       [ 1015421.],\n",
       "       [10595507.],\n",
       "       [   55722.],\n",
       "       [  947276.],\n",
       "       [ 3382023.],\n",
       "       [19689000.],\n",
       "       [ 1142880.],\n",
       "       [  947276.],\n",
       "       [ 7500000.],\n",
       "       [ 5250000.],\n",
       "       [ 2814000.],\n",
       "       [10000000.],\n",
       "       [16407500.],\n",
       "       [ 1200000.],\n",
       "       [  200600.],\n",
       "       [  250750.],\n",
       "       [ 3578947.],\n",
       "       [13437500.],\n",
       "       [  525093.],\n",
       "       [ 1499187.],\n",
       "       [ 2000000.],\n",
       "       [ 1304520.],\n",
       "       [ 2854940.],\n",
       "       [12000000.],\n",
       "       [ 1000000.],\n",
       "       [ 5746479.],\n",
       "       [18671659.],\n",
       "       [  947276.],\n",
       "       [  525093.],\n",
       "       [ 1763400.],\n",
       "       [ 3333333.],\n",
       "       [ 4000000.],\n",
       "       [ 9756250.],\n",
       "       [ 1000000.],\n",
       "       [ 8000000.],\n",
       "       [13125306.],\n",
       "       [  947276.],\n",
       "       [  189455.],\n",
       "       [  947276.],\n",
       "       [  525093.],\n",
       "       [ 6110034.],\n",
       "       [13500000.],\n",
       "       [ 2612520.],\n",
       "       [ 6331404.],\n",
       "       [ 3034356.],\n",
       "       [ 5675000.],\n",
       "       [ 2139000.],\n",
       "       [12000000.],\n",
       "       [ 7000000.],\n",
       "       [ 4204200.],\n",
       "       [22192730.],\n",
       "       [10151612.],\n",
       "       [14783000.],\n",
       "       [  947276.],\n",
       "       [ 2854940.],\n",
       "       [  261894.],\n",
       "       [  845059.],\n",
       "       [ 5543725.],\n",
       "       [  525093.],\n",
       "       [  947276.],\n",
       "       [20000000.],\n",
       "       [ 2839073.],\n",
       "       [  981348.],\n",
       "       [ 2481720.],\n",
       "       [ 2839073.],\n",
       "       [  947276.],\n",
       "       [ 2288205.],\n",
       "       [ 4171680.],\n",
       "       [ 3741480.],\n",
       "       [ 7900000.],\n",
       "       [ 8344497.],\n",
       "       [  845059.],\n",
       "       [ 1294440.],\n",
       "       [ 2380593.],\n",
       "       [ 5192520.],\n",
       "       [ 2505720.],\n",
       "       [ 4300000.],\n",
       "       [11250000.],\n",
       "       [ 5000000.],\n",
       "       [ 4000000.],\n",
       "       [ 5694674.],\n",
       "       [ 4375000.],\n",
       "       [  561716.],\n",
       "       [ 3300000.],\n",
       "       [11217391.],\n",
       "       [  273038.],\n",
       "       [13000000.],\n",
       "       [ 8000000.],\n",
       "       [ 1920240.],\n",
       "       [ 4662960.],\n",
       "       [ 2170465.],\n",
       "       [ 1100602.],\n",
       "       [  200600.],\n",
       "       [15851950.],\n",
       "       [ 2814000.],\n",
       "       [ 3000000.],\n",
       "       [ 3533333.],\n",
       "       [10449438.],\n",
       "       [11235955.],\n",
       "       [14000000.],\n",
       "       [ 1584480.],\n",
       "       [ 1300000.],\n",
       "       [ 1709719.],\n",
       "       [  947276.],\n",
       "       [ 3102240.],\n",
       "       [ 4345000.],\n",
       "       [ 1842000.],\n",
       "       [  258489.],\n",
       "       [ 2839073.],\n",
       "       [ 3950001.],\n",
       "       [ 1474440.],\n",
       "       [ 8500000.],\n",
       "       [ 1282080.],\n",
       "       [ 2148360.],\n",
       "       [ 2056920.],\n",
       "       [ 1938840.],\n",
       "       [12100000.],\n",
       "       [  947276.],\n",
       "       [12700000.],\n",
       "       [ 1149500.],\n",
       "       [ 2839073.],\n",
       "       [ 5703600.],\n",
       "       [ 5758680.],\n",
       "       [ 2279040.],\n",
       "       [ 3750000.],\n",
       "       [20158622.],\n",
       "       [ 3135000.],\n",
       "       [ 1140240.],\n",
       "       [12250000.],\n",
       "       [16407500.],\n",
       "       [ 1463040.],\n",
       "       [  222888.],\n",
       "       [ 3344000.],\n",
       "       [ 2021520.],\n",
       "       [ 1210800.],\n",
       "       [ 4500000.],\n",
       "       [ 5138430.],\n",
       "       [16744218.],\n",
       "       [  525093.],\n",
       "       [ 8042895.],\n",
       "       [  625093.],\n",
       "       [  947276.],\n",
       "       [ 6980802.],\n",
       "       [ 2894059.],\n",
       "       [ 6000000.],\n",
       "       [ 5016000.],\n",
       "       [ 3075880.],\n",
       "       [ 4236287.],\n",
       "       [ 2525160.],\n",
       "       [  525093.],\n",
       "       [ 1415520.],\n",
       "       [ 2854940.],\n",
       "       [ 2637720.],\n",
       "       [ 4775000.],\n",
       "       [ 2658240.],\n",
       "       [ 9463484.],\n",
       "       [ 3777720.],\n",
       "       [12000000.],\n",
       "       [ 1175880.],\n",
       "       [15409570.],\n",
       "       [ 1348440.],\n",
       "       [ 2050000.],\n",
       "       [  981348.],\n",
       "       [ 2239800.],\n",
       "       [ 2433333.],\n",
       "       [  900000.],\n",
       "       [ 2900000.],\n",
       "       [  947276.]])"
      ]
     },
     "execution_count": 12,
     "metadata": {},
     "output_type": "execute_result"
    }
   ],
   "source": [
    "np.round(simp.transform(nba[[\"Salary\"]]), 0)"
   ]
  },
  {
   "cell_type": "code",
   "execution_count": 13,
   "id": "905dca60",
   "metadata": {},
   "outputs": [
    {
     "data": {
      "text/plain": [
       "SimpleImputer(strategy='most_frequent')"
      ]
     },
     "execution_count": 13,
     "metadata": {},
     "output_type": "execute_result"
    }
   ],
   "source": [
    "simp_kolej = SimpleImputer(strategy='most_frequent')\n",
    "simp_kolej.fit(nba[[\"College\"]])"
   ]
  },
  {
   "cell_type": "code",
   "execution_count": 14,
   "id": "94d1e7fa",
   "metadata": {},
   "outputs": [],
   "source": [
    "nba[[\"College\"]] = simp_kolej.transform(nba[[\"College\"]])"
   ]
  },
  {
   "cell_type": "code",
   "execution_count": 15,
   "id": "8bc9344e",
   "metadata": {},
   "outputs": [
    {
     "name": "stdout",
     "output_type": "stream",
     "text": [
      "<class 'pandas.core.frame.DataFrame'>\n",
      "RangeIndex: 457 entries, 0 to 456\n",
      "Data columns (total 8 columns):\n",
      " #   Column    Non-Null Count  Dtype  \n",
      "---  ------    --------------  -----  \n",
      " 0   Name      457 non-null    object \n",
      " 1   Team      457 non-null    object \n",
      " 2   Number    457 non-null    int64  \n",
      " 3   Position  457 non-null    object \n",
      " 4   Age       457 non-null    int64  \n",
      " 5   Height    457 non-null    int64  \n",
      " 6   College   457 non-null    object \n",
      " 7   Salary    446 non-null    float64\n",
      "dtypes: float64(1), int64(3), object(4)\n",
      "memory usage: 28.7+ KB\n"
     ]
    }
   ],
   "source": [
    "nba.info()"
   ]
  },
  {
   "cell_type": "code",
   "execution_count": 16,
   "id": "3f6244f8",
   "metadata": {},
   "outputs": [
    {
     "data": {
      "text/plain": [
       "KNNImputer(n_neighbors=3)"
      ]
     },
     "execution_count": 16,
     "metadata": {},
     "output_type": "execute_result"
    }
   ],
   "source": [
    "knnimp = KNNImputer(n_neighbors=3)\n",
    "knnimp.fit(nba[[\"Salary\"]])"
   ]
  },
  {
   "cell_type": "code",
   "execution_count": 17,
   "id": "ccc5e91b",
   "metadata": {},
   "outputs": [],
   "source": [
    "nba[[\"Salary\"]] = knnimp.transform(nba[[\"Salary\"]])"
   ]
  },
  {
   "cell_type": "code",
   "execution_count": 18,
   "id": "d659d78d",
   "metadata": {},
   "outputs": [
    {
     "data": {
      "text/html": [
       "<div>\n",
       "<style scoped>\n",
       "    .dataframe tbody tr th:only-of-type {\n",
       "        vertical-align: middle;\n",
       "    }\n",
       "\n",
       "    .dataframe tbody tr th {\n",
       "        vertical-align: top;\n",
       "    }\n",
       "\n",
       "    .dataframe thead th {\n",
       "        text-align: right;\n",
       "    }\n",
       "</style>\n",
       "<table border=\"1\" class=\"dataframe\">\n",
       "  <thead>\n",
       "    <tr style=\"text-align: right;\">\n",
       "      <th></th>\n",
       "      <th>Name</th>\n",
       "      <th>Team</th>\n",
       "      <th>Number</th>\n",
       "      <th>Position</th>\n",
       "      <th>Age</th>\n",
       "      <th>Height</th>\n",
       "      <th>College</th>\n",
       "      <th>Salary</th>\n",
       "    </tr>\n",
       "  </thead>\n",
       "  <tbody>\n",
       "    <tr>\n",
       "      <th>0</th>\n",
       "      <td>Avery Bradley</td>\n",
       "      <td>Boston Celtics</td>\n",
       "      <td>0</td>\n",
       "      <td>PG</td>\n",
       "      <td>25</td>\n",
       "      <td>180</td>\n",
       "      <td>Texas</td>\n",
       "      <td>7.730337e+06</td>\n",
       "    </tr>\n",
       "    <tr>\n",
       "      <th>1</th>\n",
       "      <td>Jae Crowder</td>\n",
       "      <td>Boston Celtics</td>\n",
       "      <td>99</td>\n",
       "      <td>SF</td>\n",
       "      <td>25</td>\n",
       "      <td>235</td>\n",
       "      <td>Marquette</td>\n",
       "      <td>6.796117e+06</td>\n",
       "    </tr>\n",
       "    <tr>\n",
       "      <th>2</th>\n",
       "      <td>John Holland</td>\n",
       "      <td>Boston Celtics</td>\n",
       "      <td>30</td>\n",
       "      <td>SG</td>\n",
       "      <td>27</td>\n",
       "      <td>205</td>\n",
       "      <td>Boston University</td>\n",
       "      <td>4.842684e+06</td>\n",
       "    </tr>\n",
       "    <tr>\n",
       "      <th>3</th>\n",
       "      <td>R.J. Hunter</td>\n",
       "      <td>Boston Celtics</td>\n",
       "      <td>28</td>\n",
       "      <td>SG</td>\n",
       "      <td>22</td>\n",
       "      <td>185</td>\n",
       "      <td>Georgia State</td>\n",
       "      <td>1.148640e+06</td>\n",
       "    </tr>\n",
       "    <tr>\n",
       "      <th>4</th>\n",
       "      <td>Jonas Jerebko</td>\n",
       "      <td>Boston Celtics</td>\n",
       "      <td>8</td>\n",
       "      <td>PF</td>\n",
       "      <td>29</td>\n",
       "      <td>231</td>\n",
       "      <td>Kentucky</td>\n",
       "      <td>5.000000e+06</td>\n",
       "    </tr>\n",
       "  </tbody>\n",
       "</table>\n",
       "</div>"
      ],
      "text/plain": [
       "            Name            Team  Number Position  Age  Height  \\\n",
       "0  Avery Bradley  Boston Celtics       0       PG   25     180   \n",
       "1    Jae Crowder  Boston Celtics      99       SF   25     235   \n",
       "2   John Holland  Boston Celtics      30       SG   27     205   \n",
       "3    R.J. Hunter  Boston Celtics      28       SG   22     185   \n",
       "4  Jonas Jerebko  Boston Celtics       8       PF   29     231   \n",
       "\n",
       "             College        Salary  \n",
       "0              Texas  7.730337e+06  \n",
       "1          Marquette  6.796117e+06  \n",
       "2  Boston University  4.842684e+06  \n",
       "3      Georgia State  1.148640e+06  \n",
       "4           Kentucky  5.000000e+06  "
      ]
     },
     "execution_count": 18,
     "metadata": {},
     "output_type": "execute_result"
    }
   ],
   "source": [
    "nba.head()"
   ]
  },
  {
   "cell_type": "code",
   "execution_count": 19,
   "id": "ace9a258",
   "metadata": {},
   "outputs": [],
   "source": [
    "standardscale = preprocessing.StandardScaler()"
   ]
  },
  {
   "cell_type": "code",
   "execution_count": 20,
   "id": "a09f190a",
   "metadata": {},
   "outputs": [
    {
     "data": {
      "text/plain": [
       "StandardScaler()"
      ]
     },
     "execution_count": 20,
     "metadata": {},
     "output_type": "execute_result"
    }
   ],
   "source": [
    "standardscale.fit(nba[[\"Age\"]])"
   ]
  },
  {
   "cell_type": "code",
   "execution_count": 21,
   "id": "c8ab760f",
   "metadata": {},
   "outputs": [],
   "source": [
    "nba[[\"Age\"]] = standardscale.transform(nba[[\"Age\"]])"
   ]
  },
  {
   "cell_type": "code",
   "execution_count": 22,
   "id": "aa727ba9",
   "metadata": {},
   "outputs": [],
   "source": [
    "normalization = preprocessing.MinMaxScaler()\n",
    "normalization.fit(nba[[\"Height\"]])\n",
    "nba[[\"Height\"]] = normalization.transform(nba[[\"Height\"]])"
   ]
  },
  {
   "cell_type": "code",
   "execution_count": 23,
   "id": "c538cd32",
   "metadata": {},
   "outputs": [],
   "source": [
    "robscale = preprocessing.RobustScaler()\n",
    "robscale.fit(nba[[\"Salary\"]])\n",
    "nba[[\"Salary\"]] = robscale.transform(nba[[\"Salary\"]])"
   ]
  },
  {
   "cell_type": "code",
   "execution_count": 24,
   "id": "5185c821",
   "metadata": {},
   "outputs": [
    {
     "data": {
      "text/html": [
       "<div>\n",
       "<style scoped>\n",
       "    .dataframe tbody tr th:only-of-type {\n",
       "        vertical-align: middle;\n",
       "    }\n",
       "\n",
       "    .dataframe tbody tr th {\n",
       "        vertical-align: top;\n",
       "    }\n",
       "\n",
       "    .dataframe thead th {\n",
       "        text-align: right;\n",
       "    }\n",
       "</style>\n",
       "<table border=\"1\" class=\"dataframe\">\n",
       "  <thead>\n",
       "    <tr style=\"text-align: right;\">\n",
       "      <th></th>\n",
       "      <th>Name</th>\n",
       "      <th>Team</th>\n",
       "      <th>Number</th>\n",
       "      <th>Position</th>\n",
       "      <th>Age</th>\n",
       "      <th>Height</th>\n",
       "      <th>College</th>\n",
       "      <th>Salary</th>\n",
       "    </tr>\n",
       "  </thead>\n",
       "  <tbody>\n",
       "    <tr>\n",
       "      <th>0</th>\n",
       "      <td>Avery Bradley</td>\n",
       "      <td>Boston Celtics</td>\n",
       "      <td>0</td>\n",
       "      <td>PG</td>\n",
       "      <td>-0.440701</td>\n",
       "      <td>0.130137</td>\n",
       "      <td>Texas</td>\n",
       "      <td>0.929283</td>\n",
       "    </tr>\n",
       "    <tr>\n",
       "      <th>1</th>\n",
       "      <td>Jae Crowder</td>\n",
       "      <td>Boston Celtics</td>\n",
       "      <td>99</td>\n",
       "      <td>SF</td>\n",
       "      <td>-0.440701</td>\n",
       "      <td>0.506849</td>\n",
       "      <td>Marquette</td>\n",
       "      <td>0.750684</td>\n",
       "    </tr>\n",
       "    <tr>\n",
       "      <th>2</th>\n",
       "      <td>John Holland</td>\n",
       "      <td>Boston Celtics</td>\n",
       "      <td>30</td>\n",
       "      <td>SG</td>\n",
       "      <td>0.013927</td>\n",
       "      <td>0.301370</td>\n",
       "      <td>Boston University</td>\n",
       "      <td>0.377235</td>\n",
       "    </tr>\n",
       "    <tr>\n",
       "      <th>3</th>\n",
       "      <td>R.J. Hunter</td>\n",
       "      <td>Boston Celtics</td>\n",
       "      <td>28</td>\n",
       "      <td>SG</td>\n",
       "      <td>-1.122644</td>\n",
       "      <td>0.164384</td>\n",
       "      <td>Georgia State</td>\n",
       "      <td>-0.328974</td>\n",
       "    </tr>\n",
       "    <tr>\n",
       "      <th>4</th>\n",
       "      <td>Jonas Jerebko</td>\n",
       "      <td>Boston Celtics</td>\n",
       "      <td>8</td>\n",
       "      <td>PF</td>\n",
       "      <td>0.468556</td>\n",
       "      <td>0.479452</td>\n",
       "      <td>Kentucky</td>\n",
       "      <td>0.407310</td>\n",
       "    </tr>\n",
       "  </tbody>\n",
       "</table>\n",
       "</div>"
      ],
      "text/plain": [
       "            Name            Team  Number Position       Age    Height  \\\n",
       "0  Avery Bradley  Boston Celtics       0       PG -0.440701  0.130137   \n",
       "1    Jae Crowder  Boston Celtics      99       SF -0.440701  0.506849   \n",
       "2   John Holland  Boston Celtics      30       SG  0.013927  0.301370   \n",
       "3    R.J. Hunter  Boston Celtics      28       SG -1.122644  0.164384   \n",
       "4  Jonas Jerebko  Boston Celtics       8       PF  0.468556  0.479452   \n",
       "\n",
       "             College    Salary  \n",
       "0              Texas  0.929283  \n",
       "1          Marquette  0.750684  \n",
       "2  Boston University  0.377235  \n",
       "3      Georgia State -0.328974  \n",
       "4           Kentucky  0.407310  "
      ]
     },
     "execution_count": 24,
     "metadata": {},
     "output_type": "execute_result"
    }
   ],
   "source": [
    "nba.head()"
   ]
  },
  {
   "cell_type": "code",
   "execution_count": 25,
   "id": "b9df6436",
   "metadata": {},
   "outputs": [
    {
     "data": {
      "text/plain": [
       "<AxesSubplot:>"
      ]
     },
     "execution_count": 25,
     "metadata": {},
     "output_type": "execute_result"
    },
    {
     "data": {
      "image/png": "[encoded data removed]",
      "text/plain": [
       "<Figure size 432x288 with 1 Axes>"
      ]
     },
     "metadata": {
      "needs_background": "light"
     },
     "output_type": "display_data"
    }
   ],
   "source": [
    "nba[[\"Age\",\"Height\", \"Salary\"]].boxplot()"
   ]
  },
  {
   "cell_type": "code",
   "execution_count": 26,
   "id": "15c7cfb5",
   "metadata": {},
   "outputs": [
    {
     "name": "stdout",
     "output_type": "stream",
     "text": [
      "<class 'pandas.core.frame.DataFrame'>\n",
      "RangeIndex: 457 entries, 0 to 456\n",
      "Data columns (total 8 columns):\n",
      " #   Column    Non-Null Count  Dtype  \n",
      "---  ------    --------------  -----  \n",
      " 0   Name      457 non-null    object \n",
      " 1   Team      457 non-null    object \n",
      " 2   Number    457 non-null    int64  \n",
      " 3   Position  457 non-null    object \n",
      " 4   Age       457 non-null    float64\n",
      " 5   Height    457 non-null    float64\n",
      " 6   College   457 non-null    object \n",
      " 7   Salary    457 non-null    float64\n",
      "dtypes: float64(3), int64(1), object(4)\n",
      "memory usage: 28.7+ KB\n"
     ]
    }
   ],
   "source": [
    "nba.info()"
   ]
  },
  {
   "cell_type": "code",
   "execution_count": 27,
   "id": "fe65c006",
   "metadata": {},
   "outputs": [],
   "source": [
    "nba[[\"Position\"]] = nba[[\"Position\"]].astype('category')"
   ]
  },
  {
   "cell_type": "code",
   "execution_count": 28,
   "id": "a9f17735",
   "metadata": {},
   "outputs": [],
   "source": [
    "encode = preprocessing.OrdinalEncoder()"
   ]
  },
  {
   "cell_type": "code",
   "execution_count": 29,
   "id": "18d6d1e8",
   "metadata": {},
   "outputs": [
    {
     "data": {
      "text/plain": [
       "OrdinalEncoder()"
      ]
     },
     "execution_count": 29,
     "metadata": {},
     "output_type": "execute_result"
    }
   ],
   "source": [
    "encode.fit(nba[[\"Position\"]])"
   ]
  },
  {
   "cell_type": "code",
   "execution_count": 30,
   "id": "944936bc",
   "metadata": {},
   "outputs": [
    {
     "data": {
      "text/plain": [
       "Position\n",
       "SG          102\n",
       "PF          100\n",
       "PG           92\n",
       "SF           85\n",
       "C            78\n",
       "dtype: int64"
      ]
     },
     "execution_count": 30,
     "metadata": {},
     "output_type": "execute_result"
    }
   ],
   "source": [
    "nba[[\"Position\"]].value_counts()"
   ]
  },
  {
   "cell_type": "code",
   "execution_count": 31,
   "id": "ef8121a7",
   "metadata": {},
   "outputs": [],
   "source": [
    "nba[\"Position_Encode\"] = encode.transform(nba[[\"Position\"]])"
   ]
  },
  {
   "cell_type": "code",
   "execution_count": 32,
   "id": "655a96df",
   "metadata": {},
   "outputs": [
    {
     "data": {
      "text/html": [
       "<div>\n",
       "<style scoped>\n",
       "    .dataframe tbody tr th:only-of-type {\n",
       "        vertical-align: middle;\n",
       "    }\n",
       "\n",
       "    .dataframe tbody tr th {\n",
       "        vertical-align: top;\n",
       "    }\n",
       "\n",
       "    .dataframe thead th {\n",
       "        text-align: right;\n",
       "    }\n",
       "</style>\n",
       "<table border=\"1\" class=\"dataframe\">\n",
       "  <thead>\n",
       "    <tr style=\"text-align: right;\">\n",
       "      <th></th>\n",
       "      <th>Name</th>\n",
       "      <th>Team</th>\n",
       "      <th>Number</th>\n",
       "      <th>Position</th>\n",
       "      <th>Age</th>\n",
       "      <th>Height</th>\n",
       "      <th>College</th>\n",
       "      <th>Salary</th>\n",
       "      <th>Position_Encode</th>\n",
       "    </tr>\n",
       "  </thead>\n",
       "  <tbody>\n",
       "    <tr>\n",
       "      <th>0</th>\n",
       "      <td>Avery Bradley</td>\n",
       "      <td>Boston Celtics</td>\n",
       "      <td>0</td>\n",
       "      <td>PG</td>\n",
       "      <td>-0.440701</td>\n",
       "      <td>0.130137</td>\n",
       "      <td>Texas</td>\n",
       "      <td>0.929283</td>\n",
       "      <td>2.0</td>\n",
       "    </tr>\n",
       "    <tr>\n",
       "      <th>1</th>\n",
       "      <td>Jae Crowder</td>\n",
       "      <td>Boston Celtics</td>\n",
       "      <td>99</td>\n",
       "      <td>SF</td>\n",
       "      <td>-0.440701</td>\n",
       "      <td>0.506849</td>\n",
       "      <td>Marquette</td>\n",
       "      <td>0.750684</td>\n",
       "      <td>3.0</td>\n",
       "    </tr>\n",
       "    <tr>\n",
       "      <th>2</th>\n",
       "      <td>John Holland</td>\n",
       "      <td>Boston Celtics</td>\n",
       "      <td>30</td>\n",
       "      <td>SG</td>\n",
       "      <td>0.013927</td>\n",
       "      <td>0.301370</td>\n",
       "      <td>Boston University</td>\n",
       "      <td>0.377235</td>\n",
       "      <td>4.0</td>\n",
       "    </tr>\n",
       "    <tr>\n",
       "      <th>3</th>\n",
       "      <td>R.J. Hunter</td>\n",
       "      <td>Boston Celtics</td>\n",
       "      <td>28</td>\n",
       "      <td>SG</td>\n",
       "      <td>-1.122644</td>\n",
       "      <td>0.164384</td>\n",
       "      <td>Georgia State</td>\n",
       "      <td>-0.328974</td>\n",
       "      <td>4.0</td>\n",
       "    </tr>\n",
       "    <tr>\n",
       "      <th>4</th>\n",
       "      <td>Jonas Jerebko</td>\n",
       "      <td>Boston Celtics</td>\n",
       "      <td>8</td>\n",
       "      <td>PF</td>\n",
       "      <td>0.468556</td>\n",
       "      <td>0.479452</td>\n",
       "      <td>Kentucky</td>\n",
       "      <td>0.407310</td>\n",
       "      <td>1.0</td>\n",
       "    </tr>\n",
       "  </tbody>\n",
       "</table>\n",
       "</div>"
      ],
      "text/plain": [
       "            Name            Team  Number Position       Age    Height  \\\n",
       "0  Avery Bradley  Boston Celtics       0       PG -0.440701  0.130137   \n",
       "1    Jae Crowder  Boston Celtics      99       SF -0.440701  0.506849   \n",
       "2   John Holland  Boston Celtics      30       SG  0.013927  0.301370   \n",
       "3    R.J. Hunter  Boston Celtics      28       SG -1.122644  0.164384   \n",
       "4  Jonas Jerebko  Boston Celtics       8       PF  0.468556  0.479452   \n",
       "\n",
       "             College    Salary  Position_Encode  \n",
       "0              Texas  0.929283              2.0  \n",
       "1          Marquette  0.750684              3.0  \n",
       "2  Boston University  0.377235              4.0  \n",
       "3      Georgia State -0.328974              4.0  \n",
       "4           Kentucky  0.407310              1.0  "
      ]
     },
     "execution_count": 32,
     "metadata": {},
     "output_type": "execute_result"
    }
   ],
   "source": [
    "nba.head()"
   ]
  },
  {
   "cell_type": "code",
   "execution_count": 33,
   "id": "e98521e8",
   "metadata": {},
   "outputs": [],
   "source": [
    "encode.fit(nba[[\"College\"]])\n",
    "nba[\"College\"] = encode.transform(nba[[\"College\"]])"
   ]
  },
  {
   "cell_type": "code",
   "execution_count": 34,
   "id": "b2dd0410",
   "metadata": {},
   "outputs": [],
   "source": [
    "categorization = preprocessing.KBinsDiscretizer(n_bins=4, strategy='uniform', encode='ordinal')"
   ]
  },
  {
   "cell_type": "code",
   "execution_count": 35,
   "id": "ebac3449",
   "metadata": {},
   "outputs": [
    {
     "data": {
      "text/plain": [
       "KBinsDiscretizer(encode='ordinal', n_bins=4, strategy='uniform')"
      ]
     },
     "execution_count": 35,
     "metadata": {},
     "output_type": "execute_result"
    }
   ],
   "source": [
    "categorization.fit(nba[[\"Salary\"]])"
   ]
  },
  {
   "cell_type": "code",
   "execution_count": 36,
   "id": "f0dd73f0",
   "metadata": {},
   "outputs": [
    {
     "data": {
      "text/plain": [
       "array([[1.],\n",
       "       [1.],\n",
       "       [0.],\n",
       "       [0.],\n",
       "       [0.],\n",
       "       [1.],\n",
       "       [0.],\n",
       "       [0.],\n",
       "       [0.],\n",
       "       [0.],\n",
       "       [0.],\n",
       "       [1.],\n",
       "       [0.],\n",
       "       [0.],\n",
       "       [0.],\n",
       "       [0.],\n",
       "       [0.],\n",
       "       [0.],\n",
       "       [0.],\n",
       "       [1.],\n",
       "       [0.],\n",
       "       [0.],\n",
       "       [0.],\n",
       "       [3.],\n",
       "       [0.],\n",
       "       [0.],\n",
       "       [0.],\n",
       "       [0.],\n",
       "       [0.],\n",
       "       [1.],\n",
       "       [1.],\n",
       "       [0.],\n",
       "       [0.],\n",
       "       [3.],\n",
       "       [1.],\n",
       "       [0.],\n",
       "       [0.],\n",
       "       [0.],\n",
       "       [2.],\n",
       "       [0.],\n",
       "       [0.],\n",
       "       [0.],\n",
       "       [0.],\n",
       "       [0.],\n",
       "       [0.],\n",
       "       [0.],\n",
       "       [0.],\n",
       "       [0.],\n",
       "       [0.],\n",
       "       [0.],\n",
       "       [0.],\n",
       "       [0.],\n",
       "       [1.],\n",
       "       [0.],\n",
       "       [0.],\n",
       "       [0.],\n",
       "       [0.],\n",
       "       [0.],\n",
       "       [0.],\n",
       "       [0.],\n",
       "       [0.],\n",
       "       [0.],\n",
       "       [0.],\n",
       "       [2.],\n",
       "       [1.],\n",
       "       [0.],\n",
       "       [1.],\n",
       "       [1.],\n",
       "       [0.],\n",
       "       [0.],\n",
       "       [0.],\n",
       "       [0.],\n",
       "       [0.],\n",
       "       [0.],\n",
       "       [0.],\n",
       "       [0.],\n",
       "       [0.],\n",
       "       [0.],\n",
       "       [2.],\n",
       "       [0.],\n",
       "       [1.],\n",
       "       [0.],\n",
       "       [2.],\n",
       "       [1.],\n",
       "       [0.],\n",
       "       [0.],\n",
       "       [0.],\n",
       "       [0.],\n",
       "       [0.],\n",
       "       [2.],\n",
       "       [0.],\n",
       "       [0.],\n",
       "       [0.],\n",
       "       [0.],\n",
       "       [0.],\n",
       "       [1.],\n",
       "       [3.],\n",
       "       [0.],\n",
       "       [3.],\n",
       "       [0.],\n",
       "       [3.],\n",
       "       [0.],\n",
       "       [0.],\n",
       "       [1.],\n",
       "       [0.],\n",
       "       [0.],\n",
       "       [0.],\n",
       "       [0.],\n",
       "       [0.],\n",
       "       [3.],\n",
       "       [0.],\n",
       "       [2.],\n",
       "       [0.],\n",
       "       [0.],\n",
       "       [0.],\n",
       "       [0.],\n",
       "       [0.],\n",
       "       [0.],\n",
       "       [1.],\n",
       "       [0.],\n",
       "       [0.],\n",
       "       [2.],\n",
       "       [0.],\n",
       "       [0.],\n",
       "       [2.],\n",
       "       [0.],\n",
       "       [0.],\n",
       "       [2.],\n",
       "       [0.],\n",
       "       [0.],\n",
       "       [0.],\n",
       "       [0.],\n",
       "       [0.],\n",
       "       [0.],\n",
       "       [0.],\n",
       "       [0.],\n",
       "       [0.],\n",
       "       [0.],\n",
       "       [0.],\n",
       "       [0.],\n",
       "       [0.],\n",
       "       [0.],\n",
       "       [0.],\n",
       "       [2.],\n",
       "       [0.],\n",
       "       [0.],\n",
       "       [1.],\n",
       "       [1.],\n",
       "       [0.],\n",
       "       [0.],\n",
       "       [1.],\n",
       "       [0.],\n",
       "       [0.],\n",
       "       [2.],\n",
       "       [0.],\n",
       "       [0.],\n",
       "       [1.],\n",
       "       [1.],\n",
       "       [0.],\n",
       "       [0.],\n",
       "       [0.],\n",
       "       [0.],\n",
       "       [2.],\n",
       "       [0.],\n",
       "       [3.],\n",
       "       [0.],\n",
       "       [0.],\n",
       "       [1.],\n",
       "       [2.],\n",
       "       [3.],\n",
       "       [0.],\n",
       "       [0.],\n",
       "       [0.],\n",
       "       [0.],\n",
       "       [3.],\n",
       "       [0.],\n",
       "       [0.],\n",
       "       [1.],\n",
       "       [0.],\n",
       "       [2.],\n",
       "       [0.],\n",
       "       [0.],\n",
       "       [1.],\n",
       "       [0.],\n",
       "       [0.],\n",
       "       [0.],\n",
       "       [0.],\n",
       "       [0.],\n",
       "       [0.],\n",
       "       [2.],\n",
       "       [0.],\n",
       "       [2.],\n",
       "       [0.],\n",
       "       [0.],\n",
       "       [0.],\n",
       "       [0.],\n",
       "       [0.],\n",
       "       [0.],\n",
       "       [1.],\n",
       "       [2.],\n",
       "       [1.],\n",
       "       [0.],\n",
       "       [0.],\n",
       "       [0.],\n",
       "       [0.],\n",
       "       [0.],\n",
       "       [0.],\n",
       "       [1.],\n",
       "       [0.],\n",
       "       [0.],\n",
       "       [0.],\n",
       "       [0.],\n",
       "       [0.],\n",
       "       [0.],\n",
       "       [0.],\n",
       "       [0.],\n",
       "       [0.],\n",
       "       [0.],\n",
       "       [1.],\n",
       "       [2.],\n",
       "       [2.],\n",
       "       [0.],\n",
       "       [0.],\n",
       "       [0.],\n",
       "       [0.],\n",
       "       [1.],\n",
       "       [0.],\n",
       "       [0.],\n",
       "       [0.],\n",
       "       [0.],\n",
       "       [0.],\n",
       "       [0.],\n",
       "       [0.],\n",
       "       [2.],\n",
       "       [0.],\n",
       "       [0.],\n",
       "       [1.],\n",
       "       [0.],\n",
       "       [2.],\n",
       "       [0.],\n",
       "       [0.],\n",
       "       [0.],\n",
       "       [1.],\n",
       "       [0.],\n",
       "       [1.],\n",
       "       [1.],\n",
       "       [0.],\n",
       "       [0.],\n",
       "       [0.],\n",
       "       [2.],\n",
       "       [0.],\n",
       "       [3.],\n",
       "       [0.],\n",
       "       [0.],\n",
       "       [0.],\n",
       "       [0.],\n",
       "       [0.],\n",
       "       [0.],\n",
       "       [0.],\n",
       "       [0.],\n",
       "       [0.],\n",
       "       [0.],\n",
       "       [1.],\n",
       "       [0.],\n",
       "       [0.],\n",
       "       [3.],\n",
       "       [0.],\n",
       "       [0.],\n",
       "       [0.],\n",
       "       [0.],\n",
       "       [0.],\n",
       "       [1.],\n",
       "       [1.],\n",
       "       [0.],\n",
       "       [0.],\n",
       "       [0.],\n",
       "       [1.],\n",
       "       [1.],\n",
       "       [0.],\n",
       "       [0.],\n",
       "       [0.],\n",
       "       [1.],\n",
       "       [0.],\n",
       "       [0.],\n",
       "       [0.],\n",
       "       [1.],\n",
       "       [0.],\n",
       "       [0.],\n",
       "       [2.],\n",
       "       [0.],\n",
       "       [1.],\n",
       "       [0.],\n",
       "       [0.],\n",
       "       [0.],\n",
       "       [3.],\n",
       "       [0.],\n",
       "       [0.],\n",
       "       [1.],\n",
       "       [0.],\n",
       "       [0.],\n",
       "       [1.],\n",
       "       [2.],\n",
       "       [0.],\n",
       "       [0.],\n",
       "       [0.],\n",
       "       [0.],\n",
       "       [2.],\n",
       "       [0.],\n",
       "       [0.],\n",
       "       [0.],\n",
       "       [0.],\n",
       "       [0.],\n",
       "       [1.],\n",
       "       [0.],\n",
       "       [0.],\n",
       "       [2.],\n",
       "       [0.],\n",
       "       [0.],\n",
       "       [0.],\n",
       "       [0.],\n",
       "       [0.],\n",
       "       [1.],\n",
       "       [0.],\n",
       "       [1.],\n",
       "       [2.],\n",
       "       [0.],\n",
       "       [0.],\n",
       "       [0.],\n",
       "       [0.],\n",
       "       [0.],\n",
       "       [2.],\n",
       "       [0.],\n",
       "       [1.],\n",
       "       [0.],\n",
       "       [0.],\n",
       "       [0.],\n",
       "       [1.],\n",
       "       [1.],\n",
       "       [0.],\n",
       "       [3.],\n",
       "       [1.],\n",
       "       [2.],\n",
       "       [0.],\n",
       "       [0.],\n",
       "       [0.],\n",
       "       [0.],\n",
       "       [0.],\n",
       "       [0.],\n",
       "       [0.],\n",
       "       [3.],\n",
       "       [0.],\n",
       "       [0.],\n",
       "       [0.],\n",
       "       [0.],\n",
       "       [0.],\n",
       "       [0.],\n",
       "       [0.],\n",
       "       [0.],\n",
       "       [1.],\n",
       "       [1.],\n",
       "       [0.],\n",
       "       [0.],\n",
       "       [0.],\n",
       "       [0.],\n",
       "       [0.],\n",
       "       [0.],\n",
       "       [1.],\n",
       "       [0.],\n",
       "       [0.],\n",
       "       [0.],\n",
       "       [0.],\n",
       "       [0.],\n",
       "       [0.],\n",
       "       [1.],\n",
       "       [0.],\n",
       "       [2.],\n",
       "       [1.],\n",
       "       [0.],\n",
       "       [0.],\n",
       "       [0.],\n",
       "       [0.],\n",
       "       [0.],\n",
       "       [2.],\n",
       "       [0.],\n",
       "       [0.],\n",
       "       [0.],\n",
       "       [1.],\n",
       "       [1.],\n",
       "       [2.],\n",
       "       [0.],\n",
       "       [0.],\n",
       "       [0.],\n",
       "       [0.],\n",
       "       [0.],\n",
       "       [0.],\n",
       "       [0.],\n",
       "       [0.],\n",
       "       [0.],\n",
       "       [0.],\n",
       "       [0.],\n",
       "       [1.],\n",
       "       [0.],\n",
       "       [0.],\n",
       "       [0.],\n",
       "       [0.],\n",
       "       [1.],\n",
       "       [0.],\n",
       "       [2.],\n",
       "       [0.],\n",
       "       [0.],\n",
       "       [0.],\n",
       "       [0.],\n",
       "       [0.],\n",
       "       [0.],\n",
       "       [3.],\n",
       "       [0.],\n",
       "       [0.],\n",
       "       [1.],\n",
       "       [2.],\n",
       "       [0.],\n",
       "       [0.],\n",
       "       [0.],\n",
       "       [0.],\n",
       "       [0.],\n",
       "       [0.],\n",
       "       [0.],\n",
       "       [2.],\n",
       "       [0.],\n",
       "       [1.],\n",
       "       [0.],\n",
       "       [0.],\n",
       "       [1.],\n",
       "       [0.],\n",
       "       [0.],\n",
       "       [0.],\n",
       "       [0.],\n",
       "       [0.],\n",
       "       [0.],\n",
       "       [0.],\n",
       "       [0.],\n",
       "       [0.],\n",
       "       [0.],\n",
       "       [0.],\n",
       "       [0.],\n",
       "       [1.],\n",
       "       [0.],\n",
       "       [1.],\n",
       "       [0.],\n",
       "       [2.],\n",
       "       [0.],\n",
       "       [0.],\n",
       "       [0.],\n",
       "       [0.],\n",
       "       [0.],\n",
       "       [0.],\n",
       "       [0.],\n",
       "       [0.]])"
      ]
     },
     "execution_count": 36,
     "metadata": {},
     "output_type": "execute_result"
    }
   ],
   "source": [
    "categorization.transform(nba[[\"Salary\"]])"
   ]
  },
  {
   "cell_type": "code",
   "execution_count": 37,
   "id": "90273def",
   "metadata": {},
   "outputs": [
    {
     "data": {
      "text/html": [
       "<div>\n",
       "<style scoped>\n",
       "    .dataframe tbody tr th:only-of-type {\n",
       "        vertical-align: middle;\n",
       "    }\n",
       "\n",
       "    .dataframe tbody tr th {\n",
       "        vertical-align: top;\n",
       "    }\n",
       "\n",
       "    .dataframe thead th {\n",
       "        text-align: right;\n",
       "    }\n",
       "</style>\n",
       "<table border=\"1\" class=\"dataframe\">\n",
       "  <thead>\n",
       "    <tr style=\"text-align: right;\">\n",
       "      <th></th>\n",
       "      <th>Name</th>\n",
       "      <th>Team</th>\n",
       "      <th>Number</th>\n",
       "      <th>Position</th>\n",
       "      <th>Age</th>\n",
       "      <th>Height</th>\n",
       "      <th>College</th>\n",
       "      <th>Salary</th>\n",
       "      <th>Position_Encode</th>\n",
       "    </tr>\n",
       "  </thead>\n",
       "  <tbody>\n",
       "    <tr>\n",
       "      <th>0</th>\n",
       "      <td>Avery Bradley</td>\n",
       "      <td>Boston Celtics</td>\n",
       "      <td>0</td>\n",
       "      <td>PG</td>\n",
       "      <td>-0.440701</td>\n",
       "      <td>0.130137</td>\n",
       "      <td>93.0</td>\n",
       "      <td>0.929283</td>\n",
       "      <td>2.0</td>\n",
       "    </tr>\n",
       "    <tr>\n",
       "      <th>1</th>\n",
       "      <td>Jae Crowder</td>\n",
       "      <td>Boston Celtics</td>\n",
       "      <td>99</td>\n",
       "      <td>SF</td>\n",
       "      <td>-0.440701</td>\n",
       "      <td>0.506849</td>\n",
       "      <td>52.0</td>\n",
       "      <td>0.750684</td>\n",
       "      <td>3.0</td>\n",
       "    </tr>\n",
       "    <tr>\n",
       "      <th>2</th>\n",
       "      <td>John Holland</td>\n",
       "      <td>Boston Celtics</td>\n",
       "      <td>30</td>\n",
       "      <td>SG</td>\n",
       "      <td>0.013927</td>\n",
       "      <td>0.301370</td>\n",
       "      <td>8.0</td>\n",
       "      <td>0.377235</td>\n",
       "      <td>4.0</td>\n",
       "    </tr>\n",
       "    <tr>\n",
       "      <th>3</th>\n",
       "      <td>R.J. Hunter</td>\n",
       "      <td>Boston Celtics</td>\n",
       "      <td>28</td>\n",
       "      <td>SG</td>\n",
       "      <td>-1.122644</td>\n",
       "      <td>0.164384</td>\n",
       "      <td>33.0</td>\n",
       "      <td>-0.328974</td>\n",
       "      <td>4.0</td>\n",
       "    </tr>\n",
       "    <tr>\n",
       "      <th>4</th>\n",
       "      <td>Jonas Jerebko</td>\n",
       "      <td>Boston Celtics</td>\n",
       "      <td>8</td>\n",
       "      <td>PF</td>\n",
       "      <td>0.468556</td>\n",
       "      <td>0.479452</td>\n",
       "      <td>45.0</td>\n",
       "      <td>0.407310</td>\n",
       "      <td>1.0</td>\n",
       "    </tr>\n",
       "  </tbody>\n",
       "</table>\n",
       "</div>"
      ],
      "text/plain": [
       "            Name            Team  Number Position       Age    Height  \\\n",
       "0  Avery Bradley  Boston Celtics       0       PG -0.440701  0.130137   \n",
       "1    Jae Crowder  Boston Celtics      99       SF -0.440701  0.506849   \n",
       "2   John Holland  Boston Celtics      30       SG  0.013927  0.301370   \n",
       "3    R.J. Hunter  Boston Celtics      28       SG -1.122644  0.164384   \n",
       "4  Jonas Jerebko  Boston Celtics       8       PF  0.468556  0.479452   \n",
       "\n",
       "   College    Salary  Position_Encode  \n",
       "0     93.0  0.929283              2.0  \n",
       "1     52.0  0.750684              3.0  \n",
       "2      8.0  0.377235              4.0  \n",
       "3     33.0 -0.328974              4.0  \n",
       "4     45.0  0.407310              1.0  "
      ]
     },
     "execution_count": 37,
     "metadata": {},
     "output_type": "execute_result"
    }
   ],
   "source": [
    "nba.head()"
   ]
  },
  {
   "cell_type": "markdown",
   "id": "41f84065",
   "metadata": {},
   "source": [
    "# Train Test Data Bölümleme"
   ]
  },
  {
   "cell_type": "code",
   "execution_count": 38,
   "id": "44bab47a",
   "metadata": {},
   "outputs": [],
   "source": [
    "X = nba.loc[:, \"Age\": \"Position_Encode\"]"
   ]
  },
  {
   "cell_type": "code",
   "execution_count": 39,
   "id": "4b9d825b",
   "metadata": {},
   "outputs": [],
   "source": [
    "Xtrain, Xtest = train_test_split(X, test_size=0.25, random_state=1)"
   ]
  },
  {
   "cell_type": "markdown",
   "id": "122f00dd",
   "metadata": {},
   "source": [
    "# Clustering Yöntemleri"
   ]
  },
  {
   "cell_type": "code",
   "execution_count": 40,
   "id": "0d845ec3",
   "metadata": {},
   "outputs": [],
   "source": [
    "clus_kmean = KMeans(n_clusters=3)"
   ]
  },
  {
   "cell_type": "code",
   "execution_count": 41,
   "id": "84a0ea93",
   "metadata": {},
   "outputs": [
    {
     "data": {
      "text/plain": [
       "KMeans(n_clusters=3)"
      ]
     },
     "execution_count": 41,
     "metadata": {},
     "output_type": "execute_result"
    }
   ],
   "source": [
    "clus_kmean.fit(Xtrain)"
   ]
  },
  {
   "cell_type": "code",
   "execution_count": 42,
   "id": "cf7a455e",
   "metadata": {},
   "outputs": [
    {
     "data": {
      "text/plain": [
       "array([0, 2, 0, 1, 2, 1, 1, 0, 0, 2, 2, 0, 1, 0, 1, 0, 1, 1, 2, 0, 1, 1,\n",
       "       1, 1, 1, 0, 0, 1, 0, 0, 2, 1, 0, 1, 0, 1, 1, 2, 0, 1, 1, 2, 1, 1,\n",
       "       1, 0, 1, 1, 1, 1, 0, 1, 1, 2, 2, 1, 2, 1, 1, 0, 1, 1, 1, 0, 2, 1,\n",
       "       2, 1, 1, 1, 1, 1, 1, 1, 1, 1, 2, 1, 2, 1, 2, 1, 2, 0, 1, 2, 1, 2,\n",
       "       2, 2, 1, 2, 0, 1, 1, 0, 2, 1, 2, 2, 1, 0, 0, 1, 0, 1, 1, 1, 1, 0,\n",
       "       0, 2, 2, 2, 1])"
      ]
     },
     "execution_count": 42,
     "metadata": {},
     "output_type": "execute_result"
    }
   ],
   "source": [
    "clus_kmean.predict(Xtest)"
   ]
  },
  {
   "cell_type": "code",
   "execution_count": 43,
   "id": "a2c91277",
   "metadata": {},
   "outputs": [
    {
     "data": {
      "text/plain": [
       "array([0, 2, 0, 1, 2, 1, 1, 0, 0, 2, 2, 0, 1, 0, 1, 0, 1, 1, 2, 0, 1, 1,\n",
       "       1, 1, 1, 0, 0, 1, 0, 0, 2, 1, 0, 1, 0, 1, 1, 2, 0, 1, 1, 2, 1, 1,\n",
       "       1, 0, 1, 1, 1, 1, 0, 1, 1, 2, 2, 1, 2, 1, 1, 0, 1, 1, 1, 0, 2, 1,\n",
       "       2, 1, 1, 1, 1, 1, 1, 1, 1, 1, 2, 1, 2, 1, 2, 1, 2, 0, 1, 2, 1, 2,\n",
       "       2, 2, 1, 2, 0, 1, 1, 0, 2, 1, 2, 2, 1, 0, 0, 1, 0, 1, 1, 1, 1, 0,\n",
       "       0, 2, 2, 2, 1])"
      ]
     },
     "execution_count": 43,
     "metadata": {},
     "output_type": "execute_result"
    }
   ],
   "source": [
    "clus_kmean.predict(Xtest)"
   ]
  },
  {
   "cell_type": "code",
   "execution_count": 44,
   "id": "03fc472e",
   "metadata": {},
   "outputs": [
    {
     "data": {
      "text/html": [
       "<div>\n",
       "<style scoped>\n",
       "    .dataframe tbody tr th:only-of-type {\n",
       "        vertical-align: middle;\n",
       "    }\n",
       "\n",
       "    .dataframe tbody tr th {\n",
       "        vertical-align: top;\n",
       "    }\n",
       "\n",
       "    .dataframe thead th {\n",
       "        text-align: right;\n",
       "    }\n",
       "</style>\n",
       "<table border=\"1\" class=\"dataframe\">\n",
       "  <thead>\n",
       "    <tr style=\"text-align: right;\">\n",
       "      <th></th>\n",
       "      <th>Age</th>\n",
       "      <th>Height</th>\n",
       "      <th>College</th>\n",
       "      <th>Salary</th>\n",
       "      <th>Position_Encode</th>\n",
       "    </tr>\n",
       "  </thead>\n",
       "  <tbody>\n",
       "    <tr>\n",
       "      <th>67</th>\n",
       "      <td>0.695870</td>\n",
       "      <td>0.301370</td>\n",
       "      <td>102.0</td>\n",
       "      <td>1.745537</td>\n",
       "      <td>2.0</td>\n",
       "    </tr>\n",
       "    <tr>\n",
       "      <th>146</th>\n",
       "      <td>0.468556</td>\n",
       "      <td>0.472603</td>\n",
       "      <td>20.0</td>\n",
       "      <td>1.822600</td>\n",
       "      <td>3.0</td>\n",
       "    </tr>\n",
       "    <tr>\n",
       "      <th>323</th>\n",
       "      <td>0.013927</td>\n",
       "      <td>0.171233</td>\n",
       "      <td>106.0</td>\n",
       "      <td>0.980836</td>\n",
       "      <td>2.0</td>\n",
       "    </tr>\n",
       "    <tr>\n",
       "      <th>251</th>\n",
       "      <td>0.695870</td>\n",
       "      <td>0.712329</td>\n",
       "      <td>45.0</td>\n",
       "      <td>3.725992</td>\n",
       "      <td>0.0</td>\n",
       "    </tr>\n",
       "    <tr>\n",
       "      <th>224</th>\n",
       "      <td>0.013927</td>\n",
       "      <td>0.602740</td>\n",
       "      <td>26.0</td>\n",
       "      <td>-0.145321</td>\n",
       "      <td>0.0</td>\n",
       "    </tr>\n",
       "    <tr>\n",
       "      <th>...</th>\n",
       "      <td>...</td>\n",
       "      <td>...</td>\n",
       "      <td>...</td>\n",
       "      <td>...</td>\n",
       "      <td>...</td>\n",
       "    </tr>\n",
       "    <tr>\n",
       "      <th>394</th>\n",
       "      <td>1.605127</td>\n",
       "      <td>0.198630</td>\n",
       "      <td>82.0</td>\n",
       "      <td>0.282091</td>\n",
       "      <td>2.0</td>\n",
       "    </tr>\n",
       "    <tr>\n",
       "      <th>191</th>\n",
       "      <td>-0.213387</td>\n",
       "      <td>0.321918</td>\n",
       "      <td>7.0</td>\n",
       "      <td>2.111264</td>\n",
       "      <td>2.0</td>\n",
       "    </tr>\n",
       "    <tr>\n",
       "      <th>312</th>\n",
       "      <td>0.695870</td>\n",
       "      <td>0.575342</td>\n",
       "      <td>28.0</td>\n",
       "      <td>1.745537</td>\n",
       "      <td>0.0</td>\n",
       "    </tr>\n",
       "    <tr>\n",
       "      <th>340</th>\n",
       "      <td>0.923185</td>\n",
       "      <td>0.404110</td>\n",
       "      <td>26.0</td>\n",
       "      <td>1.392171</td>\n",
       "      <td>3.0</td>\n",
       "    </tr>\n",
       "    <tr>\n",
       "      <th>300</th>\n",
       "      <td>0.241242</td>\n",
       "      <td>0.369863</td>\n",
       "      <td>66.0</td>\n",
       "      <td>1.363187</td>\n",
       "      <td>4.0</td>\n",
       "    </tr>\n",
       "  </tbody>\n",
       "</table>\n",
       "<p>115 rows × 5 columns</p>\n",
       "</div>"
      ],
      "text/plain": [
       "          Age    Height  College    Salary  Position_Encode\n",
       "67   0.695870  0.301370    102.0  1.745537              2.0\n",
       "146  0.468556  0.472603     20.0  1.822600              3.0\n",
       "323  0.013927  0.171233    106.0  0.980836              2.0\n",
       "251  0.695870  0.712329     45.0  3.725992              0.0\n",
       "224  0.013927  0.602740     26.0 -0.145321              0.0\n",
       "..        ...       ...      ...       ...              ...\n",
       "394  1.605127  0.198630     82.0  0.282091              2.0\n",
       "191 -0.213387  0.321918      7.0  2.111264              2.0\n",
       "312  0.695870  0.575342     28.0  1.745537              0.0\n",
       "340  0.923185  0.404110     26.0  1.392171              3.0\n",
       "300  0.241242  0.369863     66.0  1.363187              4.0\n",
       "\n",
       "[115 rows x 5 columns]"
      ]
     },
     "execution_count": 44,
     "metadata": {},
     "output_type": "execute_result"
    }
   ],
   "source": [
    "Xtest"
   ]
  },
  {
   "cell_type": "code",
   "execution_count": 45,
   "id": "86214c04",
   "metadata": {},
   "outputs": [],
   "source": [
    "clus_agg = AgglomerativeClustering(n_clusters=3, )"
   ]
  },
  {
   "cell_type": "code",
   "execution_count": 46,
   "id": "3dc07b03",
   "metadata": {},
   "outputs": [
    {
     "data": {
      "text/plain": [
       "AgglomerativeClustering(n_clusters=3)"
      ]
     },
     "execution_count": 46,
     "metadata": {},
     "output_type": "execute_result"
    }
   ],
   "source": [
    "clus_agg.fit(X)"
   ]
  },
  {
   "cell_type": "code",
   "execution_count": 47,
   "id": "e5dc2308",
   "metadata": {
    "scrolled": true
   },
   "outputs": [
    {
     "data": {
      "text/plain": [
       "array([1, 0, 2, 2, 0, 0, 0, 2, 0, 0, 0, 1, 0, 0, 0, 0, 0, 0, 2, 2, 0, 2,\n",
       "       0, 1, 1, 1, 0, 2, 1, 2, 1, 1, 0, 1, 0, 1, 1, 0, 1, 0, 0, 0, 2, 0,\n",
       "       2, 1, 2, 0, 1, 0, 1, 2, 1, 0, 2, 0, 2, 1, 0, 2, 1, 0, 0, 0, 1, 1,\n",
       "       1, 1, 0, 0, 1, 1, 0, 1, 0, 1, 0, 0, 1, 2, 2, 1, 0, 2, 0, 1, 0, 0,\n",
       "       2, 1, 0, 0, 2, 0, 0, 2, 0, 1, 1, 1, 1, 0, 0, 2, 2, 1, 0, 0, 1, 0,\n",
       "       0, 2, 0, 2, 1, 0, 0, 2, 0, 1, 1, 0, 0, 2, 0, 0, 1, 0, 0, 1, 0, 1,\n",
       "       0, 1, 0, 1, 2, 0, 0, 2, 0, 0, 1, 0, 2, 1, 2, 0, 0, 0, 0, 0, 0, 0,\n",
       "       2, 0, 0, 1, 1, 2, 0, 1, 2, 2, 0, 0, 1, 2, 2, 0, 2, 2, 0, 0, 1, 1,\n",
       "       0, 2, 0, 1, 2, 1, 1, 0, 0, 0, 2, 2, 2, 1, 1, 2, 2, 0, 0, 2, 1, 1,\n",
       "       0, 2, 0, 2, 2, 0, 0, 0, 0, 2, 1, 1, 0, 0, 2, 1, 0, 1, 0, 0, 1, 1,\n",
       "       2, 0, 0, 2, 2, 0, 1, 1, 0, 1, 0, 1, 2, 0, 0, 0, 0, 0, 2, 1, 2, 0,\n",
       "       1, 0, 2, 2, 0, 1, 2, 2, 0, 0, 0, 2, 0, 0, 2, 1, 0, 2, 1, 0, 0, 1,\n",
       "       1, 0, 2, 0, 0, 2, 1, 0, 2, 1, 0, 0, 2, 0, 0, 2, 1, 0, 0, 2, 0, 0,\n",
       "       0, 2, 0, 1, 1, 1, 0, 1, 1, 1, 2, 0, 1, 0, 0, 1, 0, 1, 1, 1, 0, 0,\n",
       "       1, 0, 0, 0, 2, 0, 2, 0, 2, 0, 0, 1, 0, 0, 0, 1, 0, 1, 2, 0, 0, 1,\n",
       "       0, 1, 0, 2, 1, 0, 2, 0, 0, 2, 2, 0, 0, 2, 2, 2, 2, 1, 0, 0, 1, 0,\n",
       "       2, 0, 1, 0, 2, 0, 0, 0, 0, 2, 1, 0, 0, 2, 1, 1, 0, 2, 2, 1, 0, 0,\n",
       "       0, 0, 0, 0, 2, 0, 0, 0, 0, 0, 1, 0, 2, 0, 0, 0, 0, 0, 2, 0, 1, 0,\n",
       "       1, 0, 0, 0, 0, 2, 1, 1, 0, 0, 0, 0, 0, 2, 0, 0, 0, 0, 1, 1, 1, 0,\n",
       "       0, 0, 0, 2, 0, 2, 2, 1, 1, 0, 1, 0, 2, 0, 1, 2, 2, 0, 1, 0, 1, 2,\n",
       "       2, 0, 2, 0, 2, 0, 2, 0, 2, 2, 0, 2, 0, 2, 0, 0, 0], dtype=int64)"
      ]
     },
     "execution_count": 47,
     "metadata": {},
     "output_type": "execute_result"
    }
   ],
   "source": [
    "clus_agg.labels_"
   ]
  },
  {
   "cell_type": "code",
   "execution_count": 48,
   "id": "9eb4f38b",
   "metadata": {},
   "outputs": [],
   "source": [
    "dbscan = DBSCAN(eps = 3, )"
   ]
  },
  {
   "cell_type": "code",
   "execution_count": 49,
   "id": "f31a1cc6",
   "metadata": {},
   "outputs": [
    {
     "data": {
      "text/plain": [
       "DBSCAN(eps=3)"
      ]
     },
     "execution_count": 49,
     "metadata": {},
     "output_type": "execute_result"
    }
   ],
   "source": [
    "dbscan.fit(X)"
   ]
  },
  {
   "cell_type": "code",
   "execution_count": 50,
   "id": "d72d7326",
   "metadata": {},
   "outputs": [
    {
     "data": {
      "text/plain": [
       "array([ 0,  0,  2,  0,  0,  0,  0,  0,  0,  0,  0,  0,  0,  0,  0,  0,  0,\n",
       "        0,  1,  0,  0,  0,  0,  0,  0,  0,  0,  0,  0,  0,  0,  0,  0, -1,\n",
       "        0,  0,  0,  0,  0,  0,  0,  0,  0,  0,  1,  0,  0,  0,  0,  0,  0,\n",
       "        0,  0,  0,  1,  0,  0,  0,  0,  0,  0,  0,  0,  0,  0,  0,  0,  0,\n",
       "        0,  0,  0,  0,  0,  0,  0,  0,  0,  0,  0,  1,  0,  0,  0,  1,  0,\n",
       "        0,  0,  0,  0,  0,  0,  0,  1,  0,  0,  0,  0,  0,  0,  0,  0,  0,\n",
       "        0,  0,  0,  0,  0,  0,  0,  0,  0,  0,  0,  0,  0,  0,  0,  0,  0,\n",
       "        0,  0,  0,  0,  1,  0,  0,  0,  0,  0,  0,  0,  0,  0,  0,  0,  0,\n",
       "        1,  0,  0,  0,  0,  0,  0,  0,  0,  0,  0,  0,  0,  0,  0,  0,  0,\n",
       "        0,  0,  0,  0,  0,  0,  0,  0,  0,  0,  1,  0,  0,  0,  1,  0,  0,\n",
       "        1,  0,  0,  0,  0,  0,  0,  0,  0,  0,  1,  0,  0,  0,  0,  0,  0,\n",
       "        0,  0,  0,  0,  2,  1,  0,  0,  0,  0,  0,  0,  0,  0,  1,  1,  0,\n",
       "        0,  0,  0,  0,  0,  0,  0,  0,  1,  0,  0,  0,  0,  0,  0,  0,  0,\n",
       "        0,  0,  0,  0,  0,  0,  0,  0,  0,  0,  0,  0,  0,  0,  0,  0,  0,\n",
       "        0,  0,  0,  0,  0,  0,  1,  0,  0,  0,  0,  1,  0,  0,  0,  0,  0,\n",
       "        0,  1,  0,  0,  2,  0,  0,  0,  0,  0,  0,  1,  0,  0,  0,  0,  0,\n",
       "        0,  0,  0,  0,  0,  0,  0,  0,  0,  0,  0,  0,  0,  0,  0,  1,  0,\n",
       "        0,  0,  0,  0,  0,  0,  0,  0,  0,  0,  0,  0,  0,  0,  0,  0,  0,\n",
       "        0,  0,  0,  0,  0,  0,  0,  0,  0, -1,  0,  0,  0,  0,  0,  0,  0,\n",
       "        0,  0,  0,  0,  0,  0,  0,  0,  0,  0,  0,  0,  0,  0,  0,  0,  0,\n",
       "        0,  0,  0,  0,  1,  0,  0,  0,  0, -1,  0,  0,  0,  0,  0,  0,  1,\n",
       "        0,  0,  0,  0,  0,  0,  0,  0,  0,  0,  0,  0,  0,  2,  0,  0,  0,\n",
       "        0,  0,  0,  0,  0,  0,  0,  0,  0,  0,  0,  0,  0,  0,  0,  0,  0,\n",
       "        0,  0,  0,  0,  0,  0,  0,  0,  0,  0,  0,  0,  0,  0,  0,  0,  0,\n",
       "        0,  0,  0,  0,  0,  0,  0,  0,  0,  0,  0,  0,  0,  0,  0,  0,  0,\n",
       "        0,  0,  0,  0,  0,  0,  0,  0,  0,  0,  0,  0,  0,  0,  0,  0,  0,\n",
       "        0,  0,  0,  0,  0,  0,  0,  0,  0,  0,  0,  0,  0,  0,  0],\n",
       "      dtype=int64)"
      ]
     },
     "execution_count": 50,
     "metadata": {},
     "output_type": "execute_result"
    }
   ],
   "source": [
    "dbscan.labels_"
   ]
  },
  {
   "cell_type": "markdown",
   "id": "d0979b5f",
   "metadata": {},
   "source": [
    "# Classification SInıflandırma Algoritmaları"
   ]
  },
  {
   "cell_type": "code",
   "execution_count": 51,
   "id": "b01d81ad",
   "metadata": {},
   "outputs": [
    {
     "data": {
      "text/html": [
       "<div>\n",
       "<style scoped>\n",
       "    .dataframe tbody tr th:only-of-type {\n",
       "        vertical-align: middle;\n",
       "    }\n",
       "\n",
       "    .dataframe tbody tr th {\n",
       "        vertical-align: top;\n",
       "    }\n",
       "\n",
       "    .dataframe thead th {\n",
       "        text-align: right;\n",
       "    }\n",
       "</style>\n",
       "<table border=\"1\" class=\"dataframe\">\n",
       "  <thead>\n",
       "    <tr style=\"text-align: right;\">\n",
       "      <th></th>\n",
       "      <th>Name</th>\n",
       "      <th>Team</th>\n",
       "      <th>Number</th>\n",
       "      <th>Position</th>\n",
       "      <th>Age</th>\n",
       "      <th>Height</th>\n",
       "      <th>College</th>\n",
       "      <th>Salary</th>\n",
       "      <th>Position_Encode</th>\n",
       "    </tr>\n",
       "  </thead>\n",
       "  <tbody>\n",
       "    <tr>\n",
       "      <th>0</th>\n",
       "      <td>Avery Bradley</td>\n",
       "      <td>Boston Celtics</td>\n",
       "      <td>0</td>\n",
       "      <td>PG</td>\n",
       "      <td>-0.440701</td>\n",
       "      <td>0.130137</td>\n",
       "      <td>93.0</td>\n",
       "      <td>0.929283</td>\n",
       "      <td>2.0</td>\n",
       "    </tr>\n",
       "    <tr>\n",
       "      <th>1</th>\n",
       "      <td>Jae Crowder</td>\n",
       "      <td>Boston Celtics</td>\n",
       "      <td>99</td>\n",
       "      <td>SF</td>\n",
       "      <td>-0.440701</td>\n",
       "      <td>0.506849</td>\n",
       "      <td>52.0</td>\n",
       "      <td>0.750684</td>\n",
       "      <td>3.0</td>\n",
       "    </tr>\n",
       "    <tr>\n",
       "      <th>2</th>\n",
       "      <td>John Holland</td>\n",
       "      <td>Boston Celtics</td>\n",
       "      <td>30</td>\n",
       "      <td>SG</td>\n",
       "      <td>0.013927</td>\n",
       "      <td>0.301370</td>\n",
       "      <td>8.0</td>\n",
       "      <td>0.377235</td>\n",
       "      <td>4.0</td>\n",
       "    </tr>\n",
       "    <tr>\n",
       "      <th>3</th>\n",
       "      <td>R.J. Hunter</td>\n",
       "      <td>Boston Celtics</td>\n",
       "      <td>28</td>\n",
       "      <td>SG</td>\n",
       "      <td>-1.122644</td>\n",
       "      <td>0.164384</td>\n",
       "      <td>33.0</td>\n",
       "      <td>-0.328974</td>\n",
       "      <td>4.0</td>\n",
       "    </tr>\n",
       "    <tr>\n",
       "      <th>4</th>\n",
       "      <td>Jonas Jerebko</td>\n",
       "      <td>Boston Celtics</td>\n",
       "      <td>8</td>\n",
       "      <td>PF</td>\n",
       "      <td>0.468556</td>\n",
       "      <td>0.479452</td>\n",
       "      <td>45.0</td>\n",
       "      <td>0.407310</td>\n",
       "      <td>1.0</td>\n",
       "    </tr>\n",
       "  </tbody>\n",
       "</table>\n",
       "</div>"
      ],
      "text/plain": [
       "            Name            Team  Number Position       Age    Height  \\\n",
       "0  Avery Bradley  Boston Celtics       0       PG -0.440701  0.130137   \n",
       "1    Jae Crowder  Boston Celtics      99       SF -0.440701  0.506849   \n",
       "2   John Holland  Boston Celtics      30       SG  0.013927  0.301370   \n",
       "3    R.J. Hunter  Boston Celtics      28       SG -1.122644  0.164384   \n",
       "4  Jonas Jerebko  Boston Celtics       8       PF  0.468556  0.479452   \n",
       "\n",
       "   College    Salary  Position_Encode  \n",
       "0     93.0  0.929283              2.0  \n",
       "1     52.0  0.750684              3.0  \n",
       "2      8.0  0.377235              4.0  \n",
       "3     33.0 -0.328974              4.0  \n",
       "4     45.0  0.407310              1.0  "
      ]
     },
     "execution_count": 51,
     "metadata": {},
     "output_type": "execute_result"
    }
   ],
   "source": [
    "nba.head()"
   ]
  },
  {
   "cell_type": "code",
   "execution_count": 52,
   "id": "a1b5409e",
   "metadata": {},
   "outputs": [],
   "source": [
    "X = nba[[\"Age\",\"Height\",\"Salary\"]]\n",
    "y = nba[[\"Position\"]]"
   ]
  },
  {
   "cell_type": "code",
   "execution_count": 53,
   "id": "dae8e1f9",
   "metadata": {},
   "outputs": [],
   "source": [
    "Xtrain, Xtest, ytrain, ytest = train_test_split(X, y, test_size=0.20, random_state = 1, stratify=y)"
   ]
  },
  {
   "cell_type": "code",
   "execution_count": 54,
   "id": "cd741735",
   "metadata": {},
   "outputs": [
    {
     "data": {
      "text/html": [
       "<div>\n",
       "<style scoped>\n",
       "    .dataframe tbody tr th:only-of-type {\n",
       "        vertical-align: middle;\n",
       "    }\n",
       "\n",
       "    .dataframe tbody tr th {\n",
       "        vertical-align: top;\n",
       "    }\n",
       "\n",
       "    .dataframe thead th {\n",
       "        text-align: right;\n",
       "    }\n",
       "</style>\n",
       "<table border=\"1\" class=\"dataframe\">\n",
       "  <thead>\n",
       "    <tr style=\"text-align: right;\">\n",
       "      <th></th>\n",
       "      <th>Age</th>\n",
       "      <th>Height</th>\n",
       "      <th>Salary</th>\n",
       "    </tr>\n",
       "  </thead>\n",
       "  <tbody>\n",
       "    <tr>\n",
       "      <th>312</th>\n",
       "      <td>0.695870</td>\n",
       "      <td>0.575342</td>\n",
       "      <td>1.745537</td>\n",
       "    </tr>\n",
       "    <tr>\n",
       "      <th>118</th>\n",
       "      <td>0.468556</td>\n",
       "      <td>0.095890</td>\n",
       "      <td>0.789661</td>\n",
       "    </tr>\n",
       "    <tr>\n",
       "      <th>306</th>\n",
       "      <td>1.605127</td>\n",
       "      <td>0.164384</td>\n",
       "      <td>2.020352</td>\n",
       "    </tr>\n",
       "    <tr>\n",
       "      <th>325</th>\n",
       "      <td>-0.668016</td>\n",
       "      <td>0.301370</td>\n",
       "      <td>-0.367470</td>\n",
       "    </tr>\n",
       "    <tr>\n",
       "      <th>320</th>\n",
       "      <td>1.150499</td>\n",
       "      <td>0.404110</td>\n",
       "      <td>0.216135</td>\n",
       "    </tr>\n",
       "    <tr>\n",
       "      <th>...</th>\n",
       "      <td>...</td>\n",
       "      <td>...</td>\n",
       "      <td>...</td>\n",
       "    </tr>\n",
       "    <tr>\n",
       "      <th>105</th>\n",
       "      <td>-0.440701</td>\n",
       "      <td>0.232877</td>\n",
       "      <td>-0.326864</td>\n",
       "    </tr>\n",
       "    <tr>\n",
       "      <th>127</th>\n",
       "      <td>-0.668016</td>\n",
       "      <td>0.191781</td>\n",
       "      <td>2.032300</td>\n",
       "    </tr>\n",
       "    <tr>\n",
       "      <th>109</th>\n",
       "      <td>2.287070</td>\n",
       "      <td>0.349315</td>\n",
       "      <td>4.230816</td>\n",
       "    </tr>\n",
       "    <tr>\n",
       "      <th>198</th>\n",
       "      <td>0.695870</td>\n",
       "      <td>0.164384</td>\n",
       "      <td>1.420539</td>\n",
       "    </tr>\n",
       "    <tr>\n",
       "      <th>37</th>\n",
       "      <td>-0.895330</td>\n",
       "      <td>0.232877</td>\n",
       "      <td>-0.247970</td>\n",
       "    </tr>\n",
       "  </tbody>\n",
       "</table>\n",
       "<p>365 rows × 3 columns</p>\n",
       "</div>"
      ],
      "text/plain": [
       "          Age    Height    Salary\n",
       "312  0.695870  0.575342  1.745537\n",
       "118  0.468556  0.095890  0.789661\n",
       "306  1.605127  0.164384  2.020352\n",
       "325 -0.668016  0.301370 -0.367470\n",
       "320  1.150499  0.404110  0.216135\n",
       "..        ...       ...       ...\n",
       "105 -0.440701  0.232877 -0.326864\n",
       "127 -0.668016  0.191781  2.032300\n",
       "109  2.287070  0.349315  4.230816\n",
       "198  0.695870  0.164384  1.420539\n",
       "37  -0.895330  0.232877 -0.247970\n",
       "\n",
       "[365 rows x 3 columns]"
      ]
     },
     "execution_count": 54,
     "metadata": {},
     "output_type": "execute_result"
    }
   ],
   "source": [
    "Xtrain"
   ]
  },
  {
   "cell_type": "code",
   "execution_count": 55,
   "id": "42415086",
   "metadata": {},
   "outputs": [],
   "source": [
    "class_dectree = DecisionTreeClassifier()"
   ]
  },
  {
   "cell_type": "code",
   "execution_count": 56,
   "id": "20d3d5f4",
   "metadata": {},
   "outputs": [
    {
     "data": {
      "text/plain": [
       "DecisionTreeClassifier()"
      ]
     },
     "execution_count": 56,
     "metadata": {},
     "output_type": "execute_result"
    }
   ],
   "source": [
    "class_dectree.fit(Xtrain, ytrain)"
   ]
  },
  {
   "cell_type": "code",
   "execution_count": 57,
   "id": "4ef29016",
   "metadata": {},
   "outputs": [
    {
     "data": {
      "text/plain": [
       "array(['SG', 'SF', 'PF', 'PG', 'PG', 'C', 'PG', 'SG', 'PF', 'PF', 'PF',\n",
       "       'SG', 'SF', 'SG', 'PG', 'PG', 'SG', 'SG', 'PF', 'SG', 'C', 'PF',\n",
       "       'SF', 'SF', 'PF', 'PF', 'SG', 'SG', 'C', 'PF', 'SG', 'PF', 'C',\n",
       "       'PF', 'PF', 'SG', 'SF', 'C', 'C', 'PF', 'SG', 'C', 'PF', 'SG',\n",
       "       'SF', 'SF', 'PG', 'PG', 'C', 'PG', 'PG', 'PF', 'PF', 'SG', 'PF',\n",
       "       'PF', 'PF', 'SF', 'SG', 'C', 'SG', 'SG', 'C', 'SF', 'PF', 'C',\n",
       "       'PF', 'SF', 'PG', 'SG', 'C', 'SG', 'PG', 'SG', 'PG', 'PF', 'C',\n",
       "       'PG', 'PG', 'C', 'PF', 'SF', 'SG', 'PG', 'SG', 'C', 'SG', 'PF',\n",
       "       'SF', 'PG', 'PG', 'PF'], dtype=object)"
      ]
     },
     "execution_count": 57,
     "metadata": {},
     "output_type": "execute_result"
    }
   ],
   "source": [
    "ypred = class_dectree.predict(Xtest)\n",
    "ypred"
   ]
  },
  {
   "cell_type": "code",
   "execution_count": 58,
   "id": "4b2e5076",
   "metadata": {},
   "outputs": [
    {
     "data": {
      "text/html": [
       "<div>\n",
       "<style scoped>\n",
       "    .dataframe tbody tr th:only-of-type {\n",
       "        vertical-align: middle;\n",
       "    }\n",
       "\n",
       "    .dataframe tbody tr th {\n",
       "        vertical-align: top;\n",
       "    }\n",
       "\n",
       "    .dataframe thead th {\n",
       "        text-align: right;\n",
       "    }\n",
       "</style>\n",
       "<table border=\"1\" class=\"dataframe\">\n",
       "  <thead>\n",
       "    <tr style=\"text-align: right;\">\n",
       "      <th></th>\n",
       "      <th>Position</th>\n",
       "    </tr>\n",
       "  </thead>\n",
       "  <tbody>\n",
       "    <tr>\n",
       "      <th>363</th>\n",
       "      <td>SG</td>\n",
       "    </tr>\n",
       "    <tr>\n",
       "      <th>357</th>\n",
       "      <td>SG</td>\n",
       "    </tr>\n",
       "    <tr>\n",
       "      <th>106</th>\n",
       "      <td>PF</td>\n",
       "    </tr>\n",
       "    <tr>\n",
       "      <th>380</th>\n",
       "      <td>SG</td>\n",
       "    </tr>\n",
       "    <tr>\n",
       "      <th>0</th>\n",
       "      <td>PG</td>\n",
       "    </tr>\n",
       "    <tr>\n",
       "      <th>...</th>\n",
       "      <td>...</td>\n",
       "    </tr>\n",
       "    <tr>\n",
       "      <th>373</th>\n",
       "      <td>C</td>\n",
       "    </tr>\n",
       "    <tr>\n",
       "      <th>342</th>\n",
       "      <td>SF</td>\n",
       "    </tr>\n",
       "    <tr>\n",
       "      <th>402</th>\n",
       "      <td>PG</td>\n",
       "    </tr>\n",
       "    <tr>\n",
       "      <th>80</th>\n",
       "      <td>PG</td>\n",
       "    </tr>\n",
       "    <tr>\n",
       "      <th>149</th>\n",
       "      <td>PF</td>\n",
       "    </tr>\n",
       "  </tbody>\n",
       "</table>\n",
       "<p>92 rows × 1 columns</p>\n",
       "</div>"
      ],
      "text/plain": [
       "    Position\n",
       "363       SG\n",
       "357       SG\n",
       "106       PF\n",
       "380       SG\n",
       "0         PG\n",
       "..       ...\n",
       "373        C\n",
       "342       SF\n",
       "402       PG\n",
       "80        PG\n",
       "149       PF\n",
       "\n",
       "[92 rows x 1 columns]"
      ]
     },
     "execution_count": 58,
     "metadata": {},
     "output_type": "execute_result"
    }
   ],
   "source": [
    "ytest"
   ]
  },
  {
   "cell_type": "code",
   "execution_count": 59,
   "id": "b55a6fea",
   "metadata": {},
   "outputs": [
    {
     "data": {
      "text/plain": [
       "Position\n",
       "SG          21\n",
       "PF          20\n",
       "PG          18\n",
       "SF          17\n",
       "C           16\n",
       "dtype: int64"
      ]
     },
     "execution_count": 59,
     "metadata": {},
     "output_type": "execute_result"
    }
   ],
   "source": [
    "accuracy_score(ypred, ytest)\n",
    "ytest.value_counts()"
   ]
  },
  {
   "cell_type": "code",
   "execution_count": 60,
   "id": "eb9e12b9",
   "metadata": {},
   "outputs": [
    {
     "data": {
      "text/plain": [
       "array([[ 8,  7,  0,  1,  0],\n",
       "       [ 6, 11,  0,  1,  2],\n",
       "       [ 0,  0, 11,  0,  7],\n",
       "       [ 1,  5,  3,  4,  4],\n",
       "       [ 0,  2,  3,  6, 10]], dtype=int64)"
      ]
     },
     "execution_count": 60,
     "metadata": {},
     "output_type": "execute_result"
    }
   ],
   "source": [
    "confusion_matrix(ytest,ypred)"
   ]
  },
  {
   "cell_type": "code",
   "execution_count": 61,
   "id": "fa592f5d",
   "metadata": {},
   "outputs": [
    {
     "data": {
      "text/plain": [
       "array([0.53333333, 0.44      , 0.64705882, 0.33333333, 0.43478261])"
      ]
     },
     "execution_count": 61,
     "metadata": {},
     "output_type": "execute_result"
    }
   ],
   "source": [
    "precision_score(ytest, ypred, average=None)"
   ]
  },
  {
   "cell_type": "code",
   "execution_count": 62,
   "id": "452b968c",
   "metadata": {},
   "outputs": [
    {
     "data": {
      "text/plain": [
       "array([0.5       , 0.55      , 0.61111111, 0.23529412, 0.47619048])"
      ]
     },
     "execution_count": 62,
     "metadata": {},
     "output_type": "execute_result"
    }
   ],
   "source": [
    "recall_score(ytest, ypred, average=None)"
   ]
  },
  {
   "cell_type": "code",
   "execution_count": 63,
   "id": "5af340d8",
   "metadata": {},
   "outputs": [
    {
     "data": {
      "text/plain": [
       "array([0.51612903, 0.48888889, 0.62857143, 0.27586207, 0.45454545])"
      ]
     },
     "execution_count": 63,
     "metadata": {},
     "output_type": "execute_result"
    }
   ],
   "source": [
    "f1_score(ytest, ypred, average=None)"
   ]
  },
  {
   "cell_type": "code",
   "execution_count": 64,
   "id": "f8b60280",
   "metadata": {},
   "outputs": [],
   "source": [
    "conmat = confusion_matrix(ytest, ypred)"
   ]
  },
  {
   "cell_type": "code",
   "execution_count": 65,
   "id": "5f27bea8",
   "metadata": {},
   "outputs": [
    {
     "data": {
      "image/png": "[encoded data removed]",
      "text/plain": [
       "<Figure size 432x288 with 2 Axes>"
      ]
     },
     "metadata": {
      "needs_background": "light"
     },
     "output_type": "display_data"
    }
   ],
   "source": [
    "\n",
    "disp = metrics.ConfusionMatrixDisplay(conmat, display_labels = [\"C\",\"PF\",\"PG\",\"SF\",\"SG\"])\n",
    "disp.plot()\n",
    "plt.show()"
   ]
  },
  {
   "cell_type": "code",
   "execution_count": 66,
   "id": "9fb15743",
   "metadata": {
    "scrolled": true
   },
   "outputs": [
    {
     "name": "stdout",
     "output_type": "stream",
     "text": [
      "              precision    recall  f1-score   support\n",
      "\n",
      "           C       0.53      0.50      0.52        16\n",
      "          PF       0.44      0.55      0.49        20\n",
      "          PG       0.65      0.61      0.63        18\n",
      "          SF       0.33      0.24      0.28        17\n",
      "          SG       0.43      0.48      0.45        21\n",
      "\n",
      "    accuracy                           0.48        92\n",
      "   macro avg       0.48      0.47      0.47        92\n",
      "weighted avg       0.48      0.48      0.47        92\n",
      "\n"
     ]
    }
   ],
   "source": [
    "print(metrics.classification_report(ytest, ypred))"
   ]
  },
  {
   "cell_type": "code",
   "execution_count": 67,
   "id": "6e04a685",
   "metadata": {},
   "outputs": [
    {
     "data": {
      "text/plain": [
       "array([0.22010525, 0.47025805, 0.3096367 ])"
      ]
     },
     "execution_count": 67,
     "metadata": {},
     "output_type": "execute_result"
    }
   ],
   "source": [
    "class_dectree.feature_importances_"
   ]
  },
  {
   "cell_type": "code",
   "execution_count": 68,
   "id": "84bf2fd1",
   "metadata": {},
   "outputs": [
    {
     "data": {
      "text/plain": [
       "array([0.24764854, 0.45642344, 0.29592802])"
      ]
     },
     "execution_count": 68,
     "metadata": {},
     "output_type": "execute_result"
    }
   ],
   "source": [
    "X = nba[[\"Age\",\"Height\",\"Salary\"]]\n",
    "y = nba[[\"Position\"]]\n",
    "Xtrain, Xtest, ytrain, ytest = train_test_split(X, y, test_size=0.20, random_state = 1, stratify=y)\n",
    "class_dectree = DecisionTreeClassifier()\n",
    "class_dectree.fit(Xtrain, ytrain)\n",
    "ypred = class_dectree.predict(Xtest)\n",
    "accuracy_score(ypred, ytest)\n",
    "precision_score(ytest, ypred, average=None)\n",
    "recall_score(ytest, ypred, average=None)\n",
    "f1_score(ytest, ypred, average=None)\n",
    "confusion_matrix(ytest,ypred)\n",
    "class_dectree.feature_importances_"
   ]
  },
  {
   "cell_type": "code",
   "execution_count": 69,
   "id": "d6d4e0bb",
   "metadata": {},
   "outputs": [],
   "source": [
    "X = nba[[\"Age\",\"Height\",\"Salary\"]]\n",
    "y = nba[[\"Position\"]]\n",
    "Xtrain, Xtest, ytrain, ytest = train_test_split(X, y, test_size=0.20, random_state = 1, stratify=y)"
   ]
  },
  {
   "cell_type": "code",
   "execution_count": 70,
   "id": "891ccd16",
   "metadata": {},
   "outputs": [
    {
     "name": "stderr",
     "output_type": "stream",
     "text": [
      "C:\\Users\\Betul\\AppData\\Local\\Temp/ipykernel_7488/1730832093.py:2: DataConversionWarning: A column-vector y was passed when a 1d array was expected. Please change the shape of y to (n_samples,), for example using ravel().\n",
      "  randfor.fit(Xtrain, ytrain)\n"
     ]
    },
    {
     "data": {
      "text/plain": [
       "RandomForestClassifier()"
      ]
     },
     "execution_count": 70,
     "metadata": {},
     "output_type": "execute_result"
    }
   ],
   "source": [
    "randfor = RandomForestClassifier()\n",
    "randfor.fit(Xtrain, ytrain)"
   ]
  },
  {
   "cell_type": "code",
   "execution_count": 71,
   "id": "6e948276",
   "metadata": {},
   "outputs": [],
   "source": [
    "ypred = randfor.predict(Xtrain)"
   ]
  },
  {
   "cell_type": "code",
   "execution_count": 72,
   "id": "876f0110",
   "metadata": {},
   "outputs": [
    {
     "name": "stdout",
     "output_type": "stream",
     "text": [
      "              precision    recall  f1-score   support\n",
      "\n",
      "           C       1.00      1.00      1.00        62\n",
      "          PF       1.00      1.00      1.00        80\n",
      "          PG       0.99      1.00      0.99        74\n",
      "          SF       1.00      0.99      0.99        68\n",
      "          SG       1.00      1.00      1.00        81\n",
      "\n",
      "    accuracy                           1.00       365\n",
      "   macro avg       1.00      1.00      1.00       365\n",
      "weighted avg       1.00      1.00      1.00       365\n",
      "\n"
     ]
    }
   ],
   "source": [
    "print(metrics.classification_report(ytrain, ypred))"
   ]
  },
  {
   "cell_type": "code",
   "execution_count": 73,
   "id": "b410d3df",
   "metadata": {},
   "outputs": [
    {
     "data": {
      "text/plain": [
       "Position\n",
       "SG          81\n",
       "PF          80\n",
       "PG          74\n",
       "SF          68\n",
       "C           62\n",
       "dtype: int64"
      ]
     },
     "execution_count": 73,
     "metadata": {},
     "output_type": "execute_result"
    }
   ],
   "source": [
    "ytrain.value_counts()"
   ]
  },
  {
   "cell_type": "code",
   "execution_count": 74,
   "id": "f0d0685b",
   "metadata": {},
   "outputs": [
    {
     "data": {
      "text/plain": [
       "array([[62,  0,  0,  0,  0],\n",
       "       [ 0, 80,  0,  0,  0],\n",
       "       [ 0,  0, 74,  0,  0],\n",
       "       [ 0,  0,  1, 67,  0],\n",
       "       [ 0,  0,  0,  0, 81]], dtype=int64)"
      ]
     },
     "execution_count": 74,
     "metadata": {},
     "output_type": "execute_result"
    }
   ],
   "source": [
    "confusion_matrix(ytrain, ypred)\n"
   ]
  },
  {
   "cell_type": "code",
   "execution_count": 75,
   "id": "71394884",
   "metadata": {},
   "outputs": [],
   "source": [
    "logreg = LogisticRegression()"
   ]
  },
  {
   "cell_type": "code",
   "execution_count": 76,
   "id": "0e034531",
   "metadata": {},
   "outputs": [
    {
     "name": "stderr",
     "output_type": "stream",
     "text": [
      "C:\\Users\\Betul\\PycharmProjects\\EgitimNotlari\\venv\\lib\\site-packages\\sklearn\\utils\\validation.py:993: DataConversionWarning: A column-vector y was passed when a 1d array was expected. Please change the shape of y to (n_samples, ), for example using ravel().\n",
      "  y = column_or_1d(y, warn=True)\n"
     ]
    },
    {
     "data": {
      "text/plain": [
       "LogisticRegression()"
      ]
     },
     "execution_count": 76,
     "metadata": {},
     "output_type": "execute_result"
    }
   ],
   "source": [
    "logreg.fit(Xtrain, ytrain)"
   ]
  },
  {
   "cell_type": "code",
   "execution_count": 77,
   "id": "50976eca",
   "metadata": {},
   "outputs": [],
   "source": [
    "ypred = logreg.predict(Xtest)"
   ]
  },
  {
   "cell_type": "code",
   "execution_count": 78,
   "id": "3a654311",
   "metadata": {},
   "outputs": [
    {
     "data": {
      "text/plain": [
       "array([0.24764854, 0.45642344, 0.29592802])"
      ]
     },
     "execution_count": 78,
     "metadata": {},
     "output_type": "execute_result"
    }
   ],
   "source": [
    "class_dectree.feature_importances_"
   ]
  },
  {
   "cell_type": "code",
   "execution_count": 79,
   "id": "23afbc6b",
   "metadata": {},
   "outputs": [
    {
     "name": "stdout",
     "output_type": "stream",
     "text": [
      "              precision    recall  f1-score   support\n",
      "\n",
      "           C       0.75      0.56      0.64        16\n",
      "          PF       0.47      0.70      0.56        20\n",
      "          PG       0.74      0.78      0.76        18\n",
      "          SF       0.50      0.06      0.11        17\n",
      "          SG       0.45      0.62      0.52        21\n",
      "\n",
      "    accuracy                           0.55        92\n",
      "   macro avg       0.58      0.54      0.52        92\n",
      "weighted avg       0.57      0.55      0.52        92\n",
      "\n"
     ]
    }
   ],
   "source": [
    "print(metrics.classification_report(ytest, ypred))"
   ]
  },
  {
   "cell_type": "code",
   "execution_count": 80,
   "id": "77a28251",
   "metadata": {},
   "outputs": [],
   "source": [
    "naivbayes = GaussianNB()"
   ]
  },
  {
   "cell_type": "code",
   "execution_count": 81,
   "id": "4ed53833",
   "metadata": {},
   "outputs": [
    {
     "name": "stderr",
     "output_type": "stream",
     "text": [
      "C:\\Users\\Betul\\PycharmProjects\\EgitimNotlari\\venv\\lib\\site-packages\\sklearn\\utils\\validation.py:993: DataConversionWarning: A column-vector y was passed when a 1d array was expected. Please change the shape of y to (n_samples, ), for example using ravel().\n",
      "  y = column_or_1d(y, warn=True)\n"
     ]
    },
    {
     "data": {
      "text/plain": [
       "GaussianNB()"
      ]
     },
     "execution_count": 81,
     "metadata": {},
     "output_type": "execute_result"
    }
   ],
   "source": [
    "naivbayes.fit(Xtrain, ytrain)"
   ]
  },
  {
   "cell_type": "code",
   "execution_count": 82,
   "id": "add90a28",
   "metadata": {},
   "outputs": [],
   "source": [
    "ypred = naivbayes.predict(Xtest)"
   ]
  },
  {
   "cell_type": "code",
   "execution_count": 83,
   "id": "aa853b5a",
   "metadata": {},
   "outputs": [
    {
     "name": "stdout",
     "output_type": "stream",
     "text": [
      "              precision    recall  f1-score   support\n",
      "\n",
      "           C       0.60      0.56      0.58        16\n",
      "          PF       0.52      0.60      0.56        20\n",
      "          PG       0.77      0.94      0.85        18\n",
      "          SF       0.33      0.18      0.23        17\n",
      "          SG       0.52      0.57      0.55        21\n",
      "\n",
      "    accuracy                           0.58        92\n",
      "   macro avg       0.55      0.57      0.55        92\n",
      "weighted avg       0.55      0.58      0.56        92\n",
      "\n"
     ]
    }
   ],
   "source": [
    "print(metrics.classification_report(ytest, ypred))"
   ]
  },
  {
   "cell_type": "code",
   "execution_count": 84,
   "id": "cce63d12",
   "metadata": {},
   "outputs": [
    {
     "data": {
      "text/html": [
       "<div>\n",
       "<style scoped>\n",
       "    .dataframe tbody tr th:only-of-type {\n",
       "        vertical-align: middle;\n",
       "    }\n",
       "\n",
       "    .dataframe tbody tr th {\n",
       "        vertical-align: top;\n",
       "    }\n",
       "\n",
       "    .dataframe thead th {\n",
       "        text-align: right;\n",
       "    }\n",
       "</style>\n",
       "<table border=\"1\" class=\"dataframe\">\n",
       "  <thead>\n",
       "    <tr style=\"text-align: right;\">\n",
       "      <th></th>\n",
       "      <th>Age</th>\n",
       "      <th>Height</th>\n",
       "      <th>Salary</th>\n",
       "    </tr>\n",
       "  </thead>\n",
       "  <tbody>\n",
       "    <tr>\n",
       "      <th>363</th>\n",
       "      <td>-0.668016</td>\n",
       "      <td>0.335616</td>\n",
       "      <td>0.444115</td>\n",
       "    </tr>\n",
       "    <tr>\n",
       "      <th>357</th>\n",
       "      <td>-1.349958</td>\n",
       "      <td>0.390411</td>\n",
       "      <td>0.166712</td>\n",
       "    </tr>\n",
       "    <tr>\n",
       "      <th>106</th>\n",
       "      <td>0.923185</td>\n",
       "      <td>0.609589</td>\n",
       "      <td>0.024960</td>\n",
       "    </tr>\n",
       "    <tr>\n",
       "      <th>380</th>\n",
       "      <td>0.695870</td>\n",
       "      <td>0.232877</td>\n",
       "      <td>-0.338158</td>\n",
       "    </tr>\n",
       "    <tr>\n",
       "      <th>0</th>\n",
       "      <td>-0.440701</td>\n",
       "      <td>0.130137</td>\n",
       "      <td>0.929283</td>\n",
       "    </tr>\n",
       "    <tr>\n",
       "      <th>...</th>\n",
       "      <td>...</td>\n",
       "      <td>...</td>\n",
       "      <td>...</td>\n",
       "    </tr>\n",
       "    <tr>\n",
       "      <th>373</th>\n",
       "      <td>1.150499</td>\n",
       "      <td>0.541096</td>\n",
       "      <td>1.595922</td>\n",
       "    </tr>\n",
       "    <tr>\n",
       "      <th>342</th>\n",
       "      <td>0.695870</td>\n",
       "      <td>0.301370</td>\n",
       "      <td>-0.367470</td>\n",
       "    </tr>\n",
       "    <tr>\n",
       "      <th>402</th>\n",
       "      <td>-1.349958</td>\n",
       "      <td>0.191781</td>\n",
       "      <td>-0.137853</td>\n",
       "    </tr>\n",
       "    <tr>\n",
       "      <th>80</th>\n",
       "      <td>0.241242</td>\n",
       "      <td>0.198630</td>\n",
       "      <td>1.625247</td>\n",
       "    </tr>\n",
       "    <tr>\n",
       "      <th>149</th>\n",
       "      <td>-0.668016</td>\n",
       "      <td>0.527397</td>\n",
       "      <td>-0.387012</td>\n",
       "    </tr>\n",
       "  </tbody>\n",
       "</table>\n",
       "<p>92 rows × 3 columns</p>\n",
       "</div>"
      ],
      "text/plain": [
       "          Age    Height    Salary\n",
       "363 -0.668016  0.335616  0.444115\n",
       "357 -1.349958  0.390411  0.166712\n",
       "106  0.923185  0.609589  0.024960\n",
       "380  0.695870  0.232877 -0.338158\n",
       "0   -0.440701  0.130137  0.929283\n",
       "..        ...       ...       ...\n",
       "373  1.150499  0.541096  1.595922\n",
       "342  0.695870  0.301370 -0.367470\n",
       "402 -1.349958  0.191781 -0.137853\n",
       "80   0.241242  0.198630  1.625247\n",
       "149 -0.668016  0.527397 -0.387012\n",
       "\n",
       "[92 rows x 3 columns]"
      ]
     },
     "execution_count": 84,
     "metadata": {},
     "output_type": "execute_result"
    }
   ],
   "source": [
    "naivbayes.predict(Xtest)\n",
    "Xtest"
   ]
  },
  {
   "cell_type": "code",
   "execution_count": 105,
   "id": "5b793ae8",
   "metadata": {},
   "outputs": [],
   "source": [
    "data = np.array([20, 180, 56666])\n",
    "#naivbayes.predict(data)\n",
    "data = data.reshape(1,3) "
   ]
  },
  {
   "cell_type": "code",
   "execution_count": 106,
   "id": "bed8d266",
   "metadata": {},
   "outputs": [
    {
     "data": {
      "text/plain": [
       "array([[   20,   180, 56666]])"
      ]
     },
     "execution_count": 106,
     "metadata": {},
     "output_type": "execute_result"
    }
   ],
   "source": [
    "data"
   ]
  },
  {
   "cell_type": "code",
   "execution_count": null,
   "id": "adb7723f",
   "metadata": {},
   "outputs": [],
   "source": []
  },
  {
   "cell_type": "code",
   "execution_count": 108,
   "id": "f09c80f0",
   "metadata": {},
   "outputs": [
    {
     "name": "stderr",
     "output_type": "stream",
     "text": [
      "C:\\Users\\Betul\\PycharmProjects\\EgitimNotlari\\venv\\lib\\site-packages\\sklearn\\base.py:450: UserWarning: X does not have valid feature names, but GaussianNB was fitted with feature names\n",
      "  warnings.warn(\n"
     ]
    },
    {
     "data": {
      "text/plain": [
       "array([[0., 0., 0., 1., 0.]])"
      ]
     },
     "execution_count": 108,
     "metadata": {},
     "output_type": "execute_result"
    }
   ],
   "source": [
    "naivbayes.predict_proba(data)"
   ]
  },
  {
   "cell_type": "code",
   "execution_count": null,
   "id": "238fe5e4",
   "metadata": {},
   "outputs": [],
   "source": []
  },
  {
   "cell_type": "code",
   "execution_count": 87,
   "id": "f718d52d",
   "metadata": {},
   "outputs": [],
   "source": [
    "ann = MLPClassifier(hidden_layer_sizes=(100,100,100))"
   ]
  },
  {
   "cell_type": "code",
   "execution_count": 88,
   "id": "2d9a3e33",
   "metadata": {},
   "outputs": [
    {
     "name": "stderr",
     "output_type": "stream",
     "text": [
      "C:\\Users\\Betul\\PycharmProjects\\EgitimNotlari\\venv\\lib\\site-packages\\sklearn\\neural_network\\_multilayer_perceptron.py:1109: DataConversionWarning: A column-vector y was passed when a 1d array was expected. Please change the shape of y to (n_samples, ), for example using ravel().\n",
      "  y = column_or_1d(y, warn=True)\n",
      "C:\\Users\\Betul\\PycharmProjects\\EgitimNotlari\\venv\\lib\\site-packages\\sklearn\\neural_network\\_multilayer_perceptron.py:692: ConvergenceWarning: Stochastic Optimizer: Maximum iterations (200) reached and the optimization hasn't converged yet.\n",
      "  warnings.warn(\n"
     ]
    },
    {
     "data": {
      "text/plain": [
       "MLPClassifier(hidden_layer_sizes=(100, 100, 100))"
      ]
     },
     "execution_count": 88,
     "metadata": {},
     "output_type": "execute_result"
    }
   ],
   "source": [
    "ann.fit(Xtrain, ytrain)"
   ]
  },
  {
   "cell_type": "code",
   "execution_count": 89,
   "id": "1d61bf33",
   "metadata": {},
   "outputs": [],
   "source": [
    "ypred = ann.predict(Xtest)"
   ]
  },
  {
   "cell_type": "code",
   "execution_count": 90,
   "id": "61f80a9b",
   "metadata": {},
   "outputs": [
    {
     "name": "stdout",
     "output_type": "stream",
     "text": [
      "              precision    recall  f1-score   support\n",
      "\n",
      "           C       0.65      0.81      0.72        16\n",
      "          PF       0.58      0.55      0.56        20\n",
      "          PG       0.68      0.83      0.75        18\n",
      "          SF       0.25      0.12      0.16        17\n",
      "          SG       0.52      0.57      0.55        21\n",
      "\n",
      "    accuracy                           0.58        92\n",
      "   macro avg       0.54      0.58      0.55        92\n",
      "weighted avg       0.54      0.58      0.55        92\n",
      "\n"
     ]
    }
   ],
   "source": [
    "print(metrics.classification_report(ytest, ypred))"
   ]
  },
  {
   "cell_type": "code",
   "execution_count": 91,
   "id": "f4cff22a",
   "metadata": {},
   "outputs": [],
   "source": [
    "svmac = SVC(kernel = 'linear')"
   ]
  },
  {
   "cell_type": "code",
   "execution_count": 92,
   "id": "f94cf313",
   "metadata": {},
   "outputs": [
    {
     "name": "stderr",
     "output_type": "stream",
     "text": [
      "C:\\Users\\Betul\\PycharmProjects\\EgitimNotlari\\venv\\lib\\site-packages\\sklearn\\utils\\validation.py:993: DataConversionWarning: A column-vector y was passed when a 1d array was expected. Please change the shape of y to (n_samples, ), for example using ravel().\n",
      "  y = column_or_1d(y, warn=True)\n"
     ]
    },
    {
     "data": {
      "text/plain": [
       "SVC(kernel='linear')"
      ]
     },
     "execution_count": 92,
     "metadata": {},
     "output_type": "execute_result"
    }
   ],
   "source": [
    "svmac.fit(Xtrain, ytrain)"
   ]
  },
  {
   "cell_type": "code",
   "execution_count": 93,
   "id": "4a86cebc",
   "metadata": {},
   "outputs": [],
   "source": [
    "ypred = svmac.predict(Xtest)"
   ]
  },
  {
   "cell_type": "code",
   "execution_count": 94,
   "id": "44ebf91b",
   "metadata": {},
   "outputs": [
    {
     "name": "stdout",
     "output_type": "stream",
     "text": [
      "              precision    recall  f1-score   support\n",
      "\n",
      "           C       0.78      0.44      0.56        16\n",
      "          PF       0.47      0.75      0.58        20\n",
      "          PG       0.90      0.50      0.64        18\n",
      "          SF       0.50      0.06      0.11        17\n",
      "          SG       0.44      0.81      0.57        21\n",
      "\n",
      "    accuracy                           0.53        92\n",
      "   macro avg       0.62      0.51      0.49        92\n",
      "weighted avg       0.61      0.53      0.50        92\n",
      "\n"
     ]
    }
   ],
   "source": [
    "print(metrics.classification_report(ytest, ypred))"
   ]
  },
  {
   "cell_type": "code",
   "execution_count": 95,
   "id": "cad5da0f",
   "metadata": {},
   "outputs": [
    {
     "data": {
      "text/plain": [
       "array([-0.13312347,  3.80955296,  0.2966324 ])"
      ]
     },
     "execution_count": 95,
     "metadata": {},
     "output_type": "execute_result"
    }
   ],
   "source": [
    "svmac.coef_[0]"
   ]
  },
  {
   "cell_type": "markdown",
   "id": "c5b48875",
   "metadata": {},
   "source": [
    "# Prediction Algoritmaları"
   ]
  },
  {
   "cell_type": "code",
   "execution_count": 119,
   "id": "ab6e4f7d",
   "metadata": {},
   "outputs": [],
   "source": [
    "reg = LinearRegression()"
   ]
  },
  {
   "cell_type": "code",
   "execution_count": 114,
   "id": "88757a7c",
   "metadata": {},
   "outputs": [
    {
     "data": {
      "text/html": [
       "<div>\n",
       "<style scoped>\n",
       "    .dataframe tbody tr th:only-of-type {\n",
       "        vertical-align: middle;\n",
       "    }\n",
       "\n",
       "    .dataframe tbody tr th {\n",
       "        vertical-align: top;\n",
       "    }\n",
       "\n",
       "    .dataframe thead th {\n",
       "        text-align: right;\n",
       "    }\n",
       "</style>\n",
       "<table border=\"1\" class=\"dataframe\">\n",
       "  <thead>\n",
       "    <tr style=\"text-align: right;\">\n",
       "      <th></th>\n",
       "      <th>Salary</th>\n",
       "    </tr>\n",
       "  </thead>\n",
       "  <tbody>\n",
       "    <tr>\n",
       "      <th>0</th>\n",
       "      <td>0.929283</td>\n",
       "    </tr>\n",
       "    <tr>\n",
       "      <th>1</th>\n",
       "      <td>0.750684</td>\n",
       "    </tr>\n",
       "    <tr>\n",
       "      <th>2</th>\n",
       "      <td>0.377235</td>\n",
       "    </tr>\n",
       "    <tr>\n",
       "      <th>3</th>\n",
       "      <td>-0.328974</td>\n",
       "    </tr>\n",
       "    <tr>\n",
       "      <th>4</th>\n",
       "      <td>0.407310</td>\n",
       "    </tr>\n",
       "    <tr>\n",
       "      <th>...</th>\n",
       "      <td>...</td>\n",
       "    </tr>\n",
       "    <tr>\n",
       "      <th>452</th>\n",
       "      <td>-0.120372</td>\n",
       "    </tr>\n",
       "    <tr>\n",
       "      <th>453</th>\n",
       "      <td>-0.083373</td>\n",
       "    </tr>\n",
       "    <tr>\n",
       "      <th>454</th>\n",
       "      <td>-0.376508</td>\n",
       "    </tr>\n",
       "    <tr>\n",
       "      <th>455</th>\n",
       "      <td>0.005842</td>\n",
       "    </tr>\n",
       "    <tr>\n",
       "      <th>456</th>\n",
       "      <td>-0.367470</td>\n",
       "    </tr>\n",
       "  </tbody>\n",
       "</table>\n",
       "<p>457 rows × 1 columns</p>\n",
       "</div>"
      ],
      "text/plain": [
       "       Salary\n",
       "0    0.929283\n",
       "1    0.750684\n",
       "2    0.377235\n",
       "3   -0.328974\n",
       "4    0.407310\n",
       "..        ...\n",
       "452 -0.120372\n",
       "453 -0.083373\n",
       "454 -0.376508\n",
       "455  0.005842\n",
       "456 -0.367470\n",
       "\n",
       "[457 rows x 1 columns]"
      ]
     },
     "execution_count": 114,
     "metadata": {},
     "output_type": "execute_result"
    }
   ],
   "source": [
    "y = nba[[\"Salary\"]]\n",
    "X = nba[[\"Position_Encode\",\"Age\", \"Height\", \"College\"]]\n",
    "y"
   ]
  },
  {
   "cell_type": "code",
   "execution_count": 115,
   "id": "07b0477d",
   "metadata": {},
   "outputs": [],
   "source": [
    "Xtrain, Xtest, ytrain, ytest = train_test_split(X,y, test_size=0.2, random_state= 1)"
   ]
  },
  {
   "cell_type": "code",
   "execution_count": 117,
   "id": "d974f2d2",
   "metadata": {},
   "outputs": [
    {
     "data": {
      "text/html": [
       "<div>\n",
       "<style scoped>\n",
       "    .dataframe tbody tr th:only-of-type {\n",
       "        vertical-align: middle;\n",
       "    }\n",
       "\n",
       "    .dataframe tbody tr th {\n",
       "        vertical-align: top;\n",
       "    }\n",
       "\n",
       "    .dataframe thead th {\n",
       "        text-align: right;\n",
       "    }\n",
       "</style>\n",
       "<table border=\"1\" class=\"dataframe\">\n",
       "  <thead>\n",
       "    <tr style=\"text-align: right;\">\n",
       "      <th></th>\n",
       "      <th>Salary</th>\n",
       "    </tr>\n",
       "  </thead>\n",
       "  <tbody>\n",
       "    <tr>\n",
       "      <th>270</th>\n",
       "      <td>0.377235</td>\n",
       "    </tr>\n",
       "    <tr>\n",
       "      <th>267</th>\n",
       "      <td>-0.318880</td>\n",
       "    </tr>\n",
       "    <tr>\n",
       "      <th>327</th>\n",
       "      <td>-0.367470</td>\n",
       "    </tr>\n",
       "    <tr>\n",
       "      <th>438</th>\n",
       "      <td>-0.448181</td>\n",
       "    </tr>\n",
       "    <tr>\n",
       "      <th>453</th>\n",
       "      <td>-0.083373</td>\n",
       "    </tr>\n",
       "    <tr>\n",
       "      <th>...</th>\n",
       "      <td>...</td>\n",
       "    </tr>\n",
       "    <tr>\n",
       "      <th>255</th>\n",
       "      <td>-0.367470</td>\n",
       "    </tr>\n",
       "    <tr>\n",
       "      <th>72</th>\n",
       "      <td>0.005842</td>\n",
       "    </tr>\n",
       "    <tr>\n",
       "      <th>396</th>\n",
       "      <td>-0.499149</td>\n",
       "    </tr>\n",
       "    <tr>\n",
       "      <th>235</th>\n",
       "      <td>-0.448181</td>\n",
       "    </tr>\n",
       "    <tr>\n",
       "      <th>37</th>\n",
       "      <td>-0.247970</td>\n",
       "    </tr>\n",
       "  </tbody>\n",
       "</table>\n",
       "<p>365 rows × 1 columns</p>\n",
       "</div>"
      ],
      "text/plain": [
       "       Salary\n",
       "270  0.377235\n",
       "267 -0.318880\n",
       "327 -0.367470\n",
       "438 -0.448181\n",
       "453 -0.083373\n",
       "..        ...\n",
       "255 -0.367470\n",
       "72   0.005842\n",
       "396 -0.499149\n",
       "235 -0.448181\n",
       "37  -0.247970\n",
       "\n",
       "[365 rows x 1 columns]"
      ]
     },
     "execution_count": 117,
     "metadata": {},
     "output_type": "execute_result"
    }
   ],
   "source": []
  },
  {
   "cell_type": "code",
   "execution_count": 120,
   "id": "d0041c3c",
   "metadata": {},
   "outputs": [
    {
     "data": {
      "text/plain": [
       "LinearRegression()"
      ]
     },
     "execution_count": 120,
     "metadata": {},
     "output_type": "execute_result"
    }
   ],
   "source": [
    "reg.fit(Xtrain, ytrain)"
   ]
  },
  {
   "cell_type": "code",
   "execution_count": 121,
   "id": "aa0be225",
   "metadata": {},
   "outputs": [],
   "source": [
    "ypred = reg.predict(Xtest)"
   ]
  },
  {
   "cell_type": "code",
   "execution_count": 124,
   "id": "ed244433",
   "metadata": {},
   "outputs": [
    {
     "data": {
      "text/plain": [
       "0.7911334666305503"
      ]
     },
     "execution_count": 124,
     "metadata": {},
     "output_type": "execute_result"
    }
   ],
   "source": [
    "mae = metrics.mean_absolute_error(ytest, ypred)\n",
    "mae"
   ]
  },
  {
   "cell_type": "code",
   "execution_count": 125,
   "id": "8ba9d26f",
   "metadata": {},
   "outputs": [
    {
     "data": {
      "text/plain": [
       "1391829212564.607"
      ]
     },
     "execution_count": 125,
     "metadata": {},
     "output_type": "execute_result"
    }
   ],
   "source": [
    "mape = metrics.mean_absolute_percentage_error(ytest, ypred, )\n",
    "mape"
   ]
  },
  {
   "cell_type": "code",
   "execution_count": 126,
   "id": "4495490c",
   "metadata": {},
   "outputs": [
    {
     "data": {
      "text/plain": [
       "1.0222590738727972"
      ]
     },
     "execution_count": 126,
     "metadata": {},
     "output_type": "execute_result"
    }
   ],
   "source": [
    "mse = metrics.mean_squared_error(ytest, ypred)\n",
    "mse"
   ]
  },
  {
   "cell_type": "code",
   "execution_count": 127,
   "id": "62f0cf61",
   "metadata": {},
   "outputs": [
    {
     "data": {
      "text/plain": [
       "1.0110682834867273"
      ]
     },
     "execution_count": 127,
     "metadata": {},
     "output_type": "execute_result"
    }
   ],
   "source": [
    "\n",
    "rmse = np.sqrt(mse)\n",
    "rmse"
   ]
  },
  {
   "cell_type": "code",
   "execution_count": 129,
   "id": "38559b48",
   "metadata": {},
   "outputs": [],
   "source": [
    "decicisiontree = DecisionTreeRegressor()"
   ]
  },
  {
   "cell_type": "code",
   "execution_count": 130,
   "id": "b8c3e16e",
   "metadata": {},
   "outputs": [],
   "source": [
    "decicisiontree.fit(Xtrain, ytrain)\n",
    "ypred = decicisiontree.predict(Xtest)"
   ]
  },
  {
   "cell_type": "code",
   "execution_count": 131,
   "id": "80f01fb9",
   "metadata": {},
   "outputs": [
    {
     "data": {
      "text/plain": [
       "1.1190151839301115"
      ]
     },
     "execution_count": 131,
     "metadata": {},
     "output_type": "execute_result"
    }
   ],
   "source": [
    "mae = metrics.mean_absolute_error(ytest, ypred)\n",
    "mae"
   ]
  },
  {
   "cell_type": "code",
   "execution_count": 132,
   "id": "e7cf4253",
   "metadata": {},
   "outputs": [
    {
     "data": {
      "text/plain": [
       "16559205919464.195"
      ]
     },
     "execution_count": 132,
     "metadata": {},
     "output_type": "execute_result"
    }
   ],
   "source": [
    "mape = metrics.mean_absolute_percentage_error(ytest, ypred, )\n",
    "mape"
   ]
  },
  {
   "cell_type": "code",
   "execution_count": 133,
   "id": "85c4cd15",
   "metadata": {},
   "outputs": [
    {
     "data": {
      "text/plain": [
       "2.376397895003773"
      ]
     },
     "execution_count": 133,
     "metadata": {},
     "output_type": "execute_result"
    }
   ],
   "source": [
    "mse = metrics.mean_squared_error(ytest, ypred)\n",
    "mse"
   ]
  },
  {
   "cell_type": "code",
   "execution_count": 134,
   "id": "c72c615b",
   "metadata": {},
   "outputs": [
    {
     "data": {
      "text/plain": [
       "1.5415569710535428"
      ]
     },
     "execution_count": 134,
     "metadata": {},
     "output_type": "execute_result"
    }
   ],
   "source": [
    "rmse = np.sqrt(mse)\n",
    "rmse"
   ]
  },
  {
   "cell_type": "code",
   "execution_count": 140,
   "id": "71be225c",
   "metadata": {},
   "outputs": [],
   "source": [
    "support = SVR()"
   ]
  },
  {
   "cell_type": "code",
   "execution_count": 141,
   "id": "946ae0f3",
   "metadata": {},
   "outputs": [
    {
     "name": "stderr",
     "output_type": "stream",
     "text": [
      "C:\\Users\\Betul\\PycharmProjects\\EgitimNotlari\\venv\\lib\\site-packages\\sklearn\\utils\\validation.py:993: DataConversionWarning: A column-vector y was passed when a 1d array was expected. Please change the shape of y to (n_samples, ), for example using ravel().\n",
      "  y = column_or_1d(y, warn=True)\n"
     ]
    }
   ],
   "source": [
    "support.fit(Xtrain, ytrain)\n",
    "ypred = support.predict(Xtest)"
   ]
  },
  {
   "cell_type": "code",
   "execution_count": 142,
   "id": "8d5050da",
   "metadata": {},
   "outputs": [
    {
     "data": {
      "text/plain": [
       "0.7485973052569779"
      ]
     },
     "execution_count": 142,
     "metadata": {},
     "output_type": "execute_result"
    }
   ],
   "source": [
    "mae = metrics.mean_absolute_error(ytest, ypred)\n",
    "mae"
   ]
  },
  {
   "cell_type": "code",
   "execution_count": 143,
   "id": "5f369481",
   "metadata": {},
   "outputs": [
    {
     "data": {
      "text/plain": [
       "7014267874538.635"
      ]
     },
     "execution_count": 143,
     "metadata": {},
     "output_type": "execute_result"
    }
   ],
   "source": [
    "mape = metrics.mean_absolute_percentage_error(ytest, ypred, )\n",
    "mape"
   ]
  },
  {
   "cell_type": "code",
   "execution_count": 144,
   "id": "aea9f806",
   "metadata": {},
   "outputs": [
    {
     "data": {
      "text/plain": [
       "1.209472253982746"
      ]
     },
     "execution_count": 144,
     "metadata": {},
     "output_type": "execute_result"
    }
   ],
   "source": [
    "mse = metrics.mean_squared_error(ytest, ypred)\n",
    "mse"
   ]
  },
  {
   "cell_type": "code",
   "execution_count": 161,
   "id": "071dc2b4",
   "metadata": {},
   "outputs": [],
   "source": [
    "ann = MLPRegressor(hidden_layer_sizes=(100,100,100))"
   ]
  },
  {
   "cell_type": "code",
   "execution_count": 157,
   "id": "3941f875",
   "metadata": {},
   "outputs": [
    {
     "name": "stderr",
     "output_type": "stream",
     "text": [
      "C:\\Users\\Betul\\PycharmProjects\\EgitimNotlari\\venv\\lib\\site-packages\\sklearn\\neural_network\\_multilayer_perceptron.py:1599: DataConversionWarning: A column-vector y was passed when a 1d array was expected. Please change the shape of y to (n_samples, ), for example using ravel().\n",
      "  y = column_or_1d(y, warn=True)\n"
     ]
    }
   ],
   "source": [
    "ann.fit(Xtrain, ytrain)\n",
    "ypred = ann.predict(Xtest)"
   ]
  },
  {
   "cell_type": "code",
   "execution_count": 158,
   "id": "99576c5a",
   "metadata": {},
   "outputs": [
    {
     "data": {
      "text/plain": [
       "0.8433808317856802"
      ]
     },
     "execution_count": 158,
     "metadata": {},
     "output_type": "execute_result"
    }
   ],
   "source": [
    "mae = metrics.mean_absolute_error(ytest, ypred)\n",
    "mae"
   ]
  },
  {
   "cell_type": "code",
   "execution_count": 159,
   "id": "f920810a",
   "metadata": {},
   "outputs": [
    {
     "data": {
      "text/plain": [
       "8896576972608.463"
      ]
     },
     "execution_count": 159,
     "metadata": {},
     "output_type": "execute_result"
    }
   ],
   "source": [
    "mape = metrics.mean_absolute_percentage_error(ytest, ypred, )\n",
    "mape"
   ]
  },
  {
   "cell_type": "code",
   "execution_count": 160,
   "id": "26886b15",
   "metadata": {},
   "outputs": [
    {
     "data": {
      "text/plain": [
       "1.0695719237999886"
      ]
     },
     "execution_count": 160,
     "metadata": {},
     "output_type": "execute_result"
    }
   ],
   "source": [
    "mse = metrics.mean_squared_error(ytest, ypred)\n",
    "mse"
   ]
  }
 ],
 "metadata": {
  "kernelspec": {
   "display_name": "Python 3 (ipykernel)",
   "language": "python",
   "name": "python3"
  },
  "language_info": {
   "codemirror_mode": {
    "name": "ipython",
    "version": 3
   },
   "file_extension": ".py",
   "mimetype": "text/x-python",
   "name": "python",
   "nbconvert_exporter": "python",
   "pygments_lexer": "ipython3",
   "version": "3.9.9"
  }
 },
 "nbformat": 4,
 "nbformat_minor": 5
}
